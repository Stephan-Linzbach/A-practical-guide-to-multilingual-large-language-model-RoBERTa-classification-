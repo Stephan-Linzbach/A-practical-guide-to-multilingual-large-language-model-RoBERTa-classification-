{
  "cells": [
    {
      "cell_type": "markdown",
      "metadata": {
        "id": "view-in-github",
        "colab_type": "text"
      },
      "source": [
        "<a href=\"https://colab.research.google.com/github/Stephan-Linzbach/A-practical-guide-to-multilingual-large-language-model-RoBERTa-classification-/blob/main/textclassification_tutorial.ipynb\" target=\"_parent\"><img src=\"https://colab.research.google.com/assets/colab-badge.svg\" alt=\"Open In Colab\"/></a>"
      ]
    },
    {
      "cell_type": "markdown",
      "source": [
        "# A practical guide to multilingual large language  model (RoBERTa) classification\n",
        "\n",
        "This step-by-step tutorial provides an accessible introduction to customizing (fine-tuning) a pre-trained multilingual language model (RoBERTa) for text classification tasks. It demonstrates how to use the model's existing knowledge to classify text accurately, even with a small set of labeled examples. It takes input as JSON files with text documents and their corresponding labels for training, validating and testing. It covers using specialized models for English, German, and French while employing XLM-RoBERTa for over 100 additional languages.\n",
        "\n",
        "Relevant References for Further Reading:\n",
        "- Unsupervised Cross-lingual Representation Learning at Scale\n",
        "  - https://arxiv.org/pdf/1911.02116\n",
        "- RoBERTa: A Robustly Optimized BERT Pretraining Approach\n",
        "  - https://arxiv.org/pdf/1907.11692\n",
        "- CamemBERT: a Tasty French Language Model\n",
        "  - https://arxiv.org/pdf/1911.03894\n",
        "- WECHSEL: Effective initialization of subword embeddings for\n",
        "cross-lingual transfer of monolingual language models\n",
        "  - https://aclanthology.org/2022.naacl-main.293.pdf\n",
        "- Sharpness-Aware Minimization for Efficiently Improving Generalization\n",
        "  - https://arxiv.org/pdf/2010.01412\n",
        "\n",
        "# Learning Objectives\n",
        "\n",
        "This tutorial has the following learning objectives:\n",
        "-\tLearning how to work with large language models (RoBERTa)\n",
        "-\tCustomizing (fine-tuning) a large language model for a text classification task in any language (100+ languages supported)\n",
        "-\tLow-resource learning (with only few hundred examples) using the SAM optimizer\n",
        "\n",
        "\n",
        "# Target Audience\n",
        "-\tSocial scientists willing to learn about using large language models with basic prior understanding of it\n",
        "-\tSocial scientists with expertise in large-language models, interested in fine-tuning for multiple languages from only few examples.\n",
        "-\tComputer scientists interested in learning about how large-language models are used for social text classification.\n",
        "-\tAdvanced NLP researchers and professors looking for tutorials that can help their students in learning new topics.\n",
        "\n",
        "\n",
        "# Prerequisites\n",
        "Use this tutorial preferably in google colab, as the setup depends on the pre-installed packages of the colab environment.\n",
        "\n",
        "#Environment Setup\n",
        "Run the cells below:"
      ],
      "metadata": {
        "id": "8222d6ZMz8Nm"
      }
    },
    {
      "cell_type": "code",
      "execution_count": 1,
      "metadata": {
        "id": "6KuYVJkLn_b0",
        "colab": {
          "base_uri": "https://localhost:8080/"
        },
        "outputId": "5d6c80d1-46ab-4379-dd1e-456a99312c0a"
      },
      "outputs": [
        {
          "output_type": "stream",
          "name": "stdout",
          "text": [
            "Requirement already satisfied: transformers in /usr/local/lib/python3.11/dist-packages (4.47.1)\n",
            "Requirement already satisfied: filelock in /usr/local/lib/python3.11/dist-packages (from transformers) (3.16.1)\n",
            "Requirement already satisfied: huggingface-hub<1.0,>=0.24.0 in /usr/local/lib/python3.11/dist-packages (from transformers) (0.27.1)\n",
            "Requirement already satisfied: numpy>=1.17 in /usr/local/lib/python3.11/dist-packages (from transformers) (1.26.4)\n",
            "Requirement already satisfied: packaging>=20.0 in /usr/local/lib/python3.11/dist-packages (from transformers) (24.2)\n",
            "Requirement already satisfied: pyyaml>=5.1 in /usr/local/lib/python3.11/dist-packages (from transformers) (6.0.2)\n",
            "Requirement already satisfied: regex!=2019.12.17 in /usr/local/lib/python3.11/dist-packages (from transformers) (2024.11.6)\n",
            "Requirement already satisfied: requests in /usr/local/lib/python3.11/dist-packages (from transformers) (2.32.3)\n",
            "Requirement already satisfied: tokenizers<0.22,>=0.21 in /usr/local/lib/python3.11/dist-packages (from transformers) (0.21.0)\n",
            "Requirement already satisfied: safetensors>=0.4.1 in /usr/local/lib/python3.11/dist-packages (from transformers) (0.5.2)\n",
            "Requirement already satisfied: tqdm>=4.27 in /usr/local/lib/python3.11/dist-packages (from transformers) (4.67.1)\n",
            "Requirement already satisfied: fsspec>=2023.5.0 in /usr/local/lib/python3.11/dist-packages (from huggingface-hub<1.0,>=0.24.0->transformers) (2024.10.0)\n",
            "Requirement already satisfied: typing-extensions>=3.7.4.3 in /usr/local/lib/python3.11/dist-packages (from huggingface-hub<1.0,>=0.24.0->transformers) (4.12.2)\n",
            "Requirement already satisfied: charset-normalizer<4,>=2 in /usr/local/lib/python3.11/dist-packages (from requests->transformers) (3.4.1)\n",
            "Requirement already satisfied: idna<4,>=2.5 in /usr/local/lib/python3.11/dist-packages (from requests->transformers) (3.10)\n",
            "Requirement already satisfied: urllib3<3,>=1.21.1 in /usr/local/lib/python3.11/dist-packages (from requests->transformers) (2.3.0)\n",
            "Requirement already satisfied: certifi>=2017.4.17 in /usr/local/lib/python3.11/dist-packages (from requests->transformers) (2024.12.14)\n",
            "--2025-01-22 12:20:09--  https://raw.githubusercontent.com/davda54/sam/main/sam.py\n",
            "Resolving raw.githubusercontent.com (raw.githubusercontent.com)... 185.199.108.133, 185.199.109.133, 185.199.110.133, ...\n",
            "Connecting to raw.githubusercontent.com (raw.githubusercontent.com)|185.199.108.133|:443... connected.\n",
            "HTTP request sent, awaiting response... 200 OK\n",
            "Length: 2484 (2.4K) [text/plain]\n",
            "Saving to: ‘sam.py’\n",
            "\n",
            "sam.py              100%[===================>]   2.43K  --.-KB/s    in 0s      \n",
            "\n",
            "2025-01-22 12:20:09 (40.7 MB/s) - ‘sam.py’ saved [2484/2484]\n",
            "\n"
          ]
        }
      ],
      "source": [
        "!pip install transformers\n",
        "!wget https://raw.githubusercontent.com/davda54/sam/main/sam.py"
      ]
    },
    {
      "cell_type": "code",
      "execution_count": 2,
      "metadata": {
        "id": "-ZpvTl_jHGEi"
      },
      "outputs": [],
      "source": [
        "import json\n",
        "from transformers import AutoModelForSequenceClassification, AutoTokenizer\n",
        "from transformers import get_cosine_schedule_with_warmup\n",
        "from torch.utils.data import DataLoader\n",
        "from sam import SAM\n",
        "import shutil\n",
        "import torch"
      ]
    },
    {
      "cell_type": "code",
      "execution_count": 3,
      "metadata": {
        "id": "DGVQ7lJTloP9"
      },
      "outputs": [],
      "source": [
        "## Utils\n",
        "\n",
        "\n",
        "def convert_in_output_size(labels, mapping):\n",
        "    label_resized = []\n",
        "    for l in labels:\n",
        "        tmp_l = torch.tensor([1 if k in l else 0 for k in mapping])\n",
        "        label_resized.append(tmp_l)\n",
        "    label_resized = torch.stack(label_resized, dim=0)\n",
        "    return label_resized\n",
        "def convert_labels(labels, mapping):\n",
        "    if isinstance(labels[0], list):\n",
        "        labels = convert_in_output_size(labels, mapping)\n",
        "    return torch.tensor([mapping[l] for l in labels])\n",
        "\n",
        "def flatten_list(list_to_flatten):\n",
        "  \"\"\"\n",
        "  Returns one list from a list of lists.\n",
        "  \"\"\"\n",
        "  return [x for xs in list_to_flatten for x in xs]\n",
        "\n",
        "def infer_output_size(data):\n",
        "  \"\"\"\n",
        "  Returns the number of possible labels and the possible labels.\n",
        "  \"\"\"\n",
        "  labels = data['Labels']\n",
        "  if isinstance(labels[0], list):\n",
        "    labels = flatten_list(labels)\n",
        "  labels = set(labels)\n",
        "  return len(labels), labels\n",
        "\n",
        "def generate_dataloader(text, y, batch_size, workers=1):\n",
        "  \"\"\"\n",
        "  Returns a dataloader with input_ids and attention_mask to process the text.\n",
        "  \"\"\"\n",
        "  attention_mask = text['attention_mask']\n",
        "  input_ids = text['input_ids']\n",
        "\n",
        "  dataset = list(zip(input_ids, attention_mask, y))\n",
        "\n",
        "  dataloader = DataLoader(dataset, shuffle=True, batch_size=batch_size, num_workers=workers)\n",
        "\n",
        "  return dataloader"
      ]
    },
    {
      "cell_type": "markdown",
      "metadata": {
        "id": "abq2zMSNIs6y"
      },
      "source": [
        "# Tutorial Content\n",
        "\n",
        "\n",
        "\n"
      ]
    },
    {
      "cell_type": "markdown",
      "source": [
        "## 1) Introduction\n",
        "\n",
        "We will start with the most pressing questions:\n",
        "  - What exactly is a **text-classification**?\n",
        "  - What is a **pre-trained language model**?\n",
        "  - What even is **fine-tuning**?\n",
        "\n",
        "We will answer all questions in the following text.\n",
        "\n",
        "In **text-classification** we try to assign a property to a text.\n",
        "\n",
        "For example we are interested in classifying texts that are about fruits.\n",
        "We could easily find a dictionary with all fruits (e.g.: 'Apple', 'Banana', 'Pear' etc.) everytime we recognize such a word in a text we know this text is about fruits, right?\n",
        "However, this might not be true all the time for example \"Apple designed the new pencil pro.\" is not about the fruit 'Apple' although we would recognize it as such with our dictionary approach.\n",
        "Furthermore, this would only work for the language in the dictionary. However, our tutorial is helpful for 100+ languages.\n",
        "So the context of the word might be helpful (more on this later).\n",
        "Classification is obviously transferable to more than just fruits.\n",
        "People try to classify the sentiment of a text, the stance towards an entity expressed in a text, the topic of a text, the expressed emotion in a text, and many many more."
      ],
      "metadata": {
        "id": "aUCEaj7BDygM"
      }
    },
    {
      "cell_type": "markdown",
      "source": [
        "## 2) Data Preparation\n",
        "\n",
        "Let's talk data:\n",
        "In order to make this script work you have to save three dictionaries in this structure in the file '<current_folder>/(train|val|test).json':\n",
        "\n",
        "  ```python\n",
        "  {'Text' : [list of texts]\n",
        "   'Labels': [list of labels]}\n",
        "  ```\n",
        "\n",
        " Each text document in the data should have a corresponding label such that:\n",
        "\n",
        "  ```python\n",
        "  length([list of texts]) == length([list of labels])\n",
        "  ```\n",
        "\n",
        "Example:\n",
        " ```python\n",
        " {'Text': ['Yesterday i ate an apple.', 'Yesterday I crashed my Apple.'],\n",
        "  'Labels': ['about_fruit', 'not_about_fruit']}\n",
        "  ```\n",
        "\n",
        "The *train data* is used to teach the model, the *val data* is required to validate if the model understands the train data correctly and the *test data* is used to proof the capabilities of the final version of the model on the **unseen** *test set*.\n",
        "\n",
        "\n",
        "You can classify text into one category (single label classification) or several categories per text (multilabel classification).\n",
        "\n",
        "\n",
        "Is your data ready? Then lets start."
      ],
      "metadata": {
        "id": "QCBUwjg5DwTW"
      }
    },
    {
      "cell_type": "code",
      "execution_count": 4,
      "metadata": {
        "colab": {
          "base_uri": "https://localhost:8080/"
        },
        "id": "lRaIwoOMIrtX",
        "outputId": "ea1a3d47-de00-436c-8ad1-76acd99156cc"
      },
      "outputs": [
        {
          "output_type": "stream",
          "name": "stdout",
          "text": [
            "We loaded the train data with 192 texts and 192 labels,\n",
            "the validation data with 192 texts and 192 labels\n",
            "and the test data with 192 texts and 192 labels.\n"
          ]
        }
      ],
      "source": [
        "try:\n",
        "  with open(\"./train.json\") as f:\n",
        "    train = json.load(f)\n",
        "\n",
        "  with open(\"./val.json\") as f:\n",
        "    val = json.load(f)\n",
        "\n",
        "  with open(\"./test.json\") as f:\n",
        "    test = json.load(f)\n",
        "except:\n",
        "  #Dummy Values\n",
        "  train = {'Text': [\"An Apple is a Fruit!\", \"An Apple is not a Fruit!\", \"An Apple has no seeds.\"]*64,\n",
        "          'Labels': ['is_correct', 'is_incorrect', 'is_incorrect']*64}\n",
        "  val = {'Text': [\"An Apple is not a Fruit!\", \"An Apple is a Fruit!\", \"An Apple has no seeds.\"]*64,\n",
        "          'Labels': ['is_incorrect', 'is_correct', 'is_incorrect']*64}\n",
        "  test = {'Text': [\"An Apple is not a Fruit!\", \"An Apple is has no seeds.\", \"An Apple is a Fruit.\"]*64,\n",
        "          'Labels': ['is_incorrect', 'is_incorrect', 'is_correct']*64}\n",
        "\n",
        "\n",
        "assert len(train['Text']) == len(train['Labels']), \"Number of texts does not match number of labels for train data!\"\n",
        "assert len(val['Text']) == len(val['Labels']), \"Number of texts does not match number of labels for val data!\"\n",
        "assert len(test['Text']) == len(test['Labels']), \"Number of texts does not match number of labels for test data!\"\n",
        "\n",
        "print(f\"We loaded the train data with {len(train['Text'])} texts and {len(train['Labels'])} labels,\")\n",
        "print(f\"the validation data with {len(val['Text'])} texts and {len(val['Labels'])} labels\")\n",
        "print(f\"and the test data with {len(test['Text'])} texts and {len(test['Labels'])} labels.\")"
      ]
    },
    {
      "cell_type": "markdown",
      "source": [
        "Great the data is ready!"
      ],
      "metadata": {
        "id": "5WQ19YMNEAuK"
      }
    },
    {
      "cell_type": "markdown",
      "source": [
        "### Understanding the Data\n",
        "You have to answer some questions about your data."
      ],
      "metadata": {
        "id": "woCqHJzKELOP"
      }
    },
    {
      "cell_type": "markdown",
      "metadata": {
        "id": "6BYdtu44Xrhp"
      },
      "source": [
        "\n",
        "\n",
        "#### Finding a Language Specific Language Model\n",
        "\n",
        "In which language is your text data written?"
      ]
    },
    {
      "cell_type": "code",
      "execution_count": 5,
      "metadata": {
        "id": "LHzEmeSnXq2w",
        "colab": {
          "base_uri": "https://localhost:8080/"
        },
        "outputId": "d0d63954-9f4f-44de-a5d6-473f623815cc"
      },
      "outputs": [
        {
          "output_type": "stream",
          "name": "stdout",
          "text": [
            "Which language do you use? ('english', 'german', 'french') english\n",
            "MMhhh interesting your data is written in english. Let's load a fitting PLM!\n",
            "We loaded roberta-base for english.\n"
          ]
        }
      ],
      "source": [
        "language = input(\"Which language do you use? ('english', 'german', 'french') \")\n",
        "\n",
        "print(f\"MMhhh interesting your data is written in {language}. Let's load a fitting PLM!\")\n",
        "\n",
        "if language == 'english':\n",
        "  model_name = \"roberta-base\"\n",
        "elif language == 'german':\n",
        "  model_name = \"benjamin/roberta-base-wechsel-german\"\n",
        "elif language == 'french':\n",
        "  model_name = \"camembert-base\"\n",
        "else:\n",
        "  print(f\"Seems like we have no model available for {language}.\")\n",
        "  print(\"We will load a mulitlingual language model. It knows text from 100 languages.\")\n",
        "  model_name = 'xlm-roberta-base'\n",
        "\n",
        "print(f\"We loaded {model_name} for {language}.\")"
      ]
    },
    {
      "cell_type": "markdown",
      "metadata": {
        "id": "Oq68uB4cbnKc"
      },
      "source": [
        "Ok now that we talked about the language of your data you might be intersted what the ``model_name`` stands for.\n",
        "\n",
        "These are **pre-trained language models** ready to be used with your specific language.\n",
        "These language models already learned to understand language by solving a huge cloze-text written in the particular language.\n",
        "\n",
        "This cloze-text is constructed over Wikipedia or other huge text datasets.\n",
        "\n",
        "Now that we understood what **text classification** and **pre-trained language model** are.\n",
        "\n",
        "We can now talk about the last question: What is **fine-tuning**?\n",
        "\n",
        "As you might imagine solving a cloze-text over the whole internet makes you knowledgeable but not an expert in a field. We now want to transform our **pre-trained language model** into an expert for your task.\n"
      ]
    },
    {
      "cell_type": "markdown",
      "source": [
        "## 3) Defining the Classification Task"
      ],
      "metadata": {
        "id": "mhm0nAieFGRl"
      }
    },
    {
      "cell_type": "markdown",
      "source": [
        "\n",
        "### Choosing vs. Deciding\n",
        "\n",
        "Before starting, it’s essential to clarify what type of classification task you want to perform. We distinguish between two main tasks:\n",
        "\n",
        "#### 1. Choosing (Single-Label Classification)\n",
        "- **Example:** *What is your favorite fruit?*\n",
        "- You select one correct label from a list of possible options.\n",
        "\n",
        "#### 2. Deciding (Multi-Label Classification)\n",
        "- **Example:** *Do you like apples?*\n",
        "- You evaluate each label independently and decide whether it applies.\n",
        "\n",
        "\n",
        "In our dataset, we have **single labels**, so we will insert `'choosing'` as the classification type. Here's the code for defining your task:"
      ],
      "metadata": {
        "id": "9Pm-wgbhEarc"
      }
    },
    {
      "cell_type": "code",
      "execution_count": 6,
      "metadata": {
        "colab": {
          "base_uri": "https://localhost:8080/"
        },
        "id": "mP2b9HkBY1Qc",
        "outputId": "20167001-b7b2-4e79-e0c5-4959a874ffe8"
      },
      "outputs": [
        {
          "name": "stdout",
          "output_type": "stream",
          "text": [
            "Do you want to classify by 'choosing' or 'deciding'? choosing\n"
          ]
        }
      ],
      "source": [
        "# Prompt the user to select the classification type\n",
        "decision_type = input(\"Do you want to classify by 'choosing' or 'deciding'? \").strip().lower()\n",
        "\n",
        "# Validate the input\n",
        "assert decision_type in ['choosing', 'deciding'], \"Invalid input! Please enter 'choosing' or 'deciding'.\"\n",
        "\n",
        "# Ensure the labels align with the selected classification type\n",
        "if decision_type == 'deciding':\n",
        "    assert isinstance(train['Labels'][0], list), (\n",
        "        \"For 'deciding', labels should be a list (e.g., ['apple', 'banana']).\"\n",
        "    )\n",
        "else:\n",
        "    assert not isinstance(train['Labels'][0], list), (\n",
        "        \"For 'choosing', each label should be a single value (e.g., 'apple').\"\n",
        "    )"
      ]
    },
    {
      "cell_type": "markdown",
      "metadata": {
        "id": "IFBY_wgsg6wg"
      },
      "source": [
        "Based on your ``decision_type`` we will now choose the correct loss function and the decision function.\n",
        "The loss function tells the model how well it achieved your task.\n",
        "The decision function tells us how to convert the model guesses in the actual decision."
      ]
    },
    {
      "cell_type": "code",
      "execution_count": 7,
      "metadata": {
        "id": "nZD7XiARg6KS"
      },
      "outputs": [],
      "source": [
        "losses = {'deciding': \"multi_label_classification\", #torch.nn.CrossEntropyLoss(),\n",
        "          'choosing': \"single_label_classification\",}\n",
        "\n",
        "decisions = {'deciding': lambda x: torch.where(x > 0, 1, 0),\n",
        "             'choosing': lambda x: torch.argmax(x, dim=1)}\n",
        "\n",
        "objective = losses[decision_type]\n",
        "decision_function = decisions[decision_type]"
      ]
    },
    {
      "cell_type": "markdown",
      "metadata": {
        "id": "EZcFgWRZiM8o"
      },
      "source": [
        "The next question we need to clarify is: How many different labels are possible for your task?\n",
        "\n",
        "Example:\n",
        "\n",
        "Choose your favorite fruit from this list:\n",
        "  ```python\n",
        "  poss_labels = ['Banana', 'Apple', 'Pear', 'Peach'`]\n",
        "  model_output = [0.4, 0.5, -0.1, 0.7]\n",
        "  ```\n",
        "\n",
        "Or decide if you like the particular fruit:\n",
        "  ```python\n",
        "  poss_labels = ['Banana', 'Apple', 'Pear', 'Peach'`]\n",
        "  model_output = [0.4, 0.5, -0.1, 0.7]\n",
        "  ```\n",
        "\n",
        "In both cases we have **4** possible labels.\n",
        "In the first case we choose the fruit where the model signals the biggest aggreement **'Peach'** in the second we decide for each fruit if we like it by chosing to like everything above 0. Therefore, our example output tells us that we like **'Banana'**, **'Apple'**, and **'Peach'**.\n",
        "\n",
        "### Fixing the Number of Possible Answers:\n",
        "\n",
        "Let's find out how many labels are possible in our data:"
      ]
    },
    {
      "cell_type": "code",
      "execution_count": 8,
      "metadata": {
        "colab": {
          "base_uri": "https://localhost:8080/"
        },
        "id": "x6AKMt2JiLd7",
        "outputId": "21071bc8-758b-4c1a-84b3-a4e9c5d91a8f"
      },
      "outputs": [
        {
          "output_type": "stream",
          "name": "stdout",
          "text": [
            "How many different labels are possible for your task? 2\n",
            "Your task distinguishes 2 different labels. These are {'is_incorrect', 'is_correct'}\n"
          ]
        }
      ],
      "source": [
        "output_size = input(\"How many different labels are possible for your task? \")\n",
        "infered_output_size_train, possible_labels_train = infer_output_size(train)\n",
        "infered_output_size_val, possible_labels_val = infer_output_size(val)\n",
        "infered_output_size_test, possible_labels_test = infer_output_size(test)\n",
        "\n",
        "possible_labels = max(infered_output_size_train, infered_output_size_val, infered_output_size_test)\n",
        "\n",
        "\n",
        "if not (possible_labels_train == possible_labels_val == possible_labels_test):\n",
        "  print(f\"Train contains {possible_labels_train} possible labels, val contains {possible_labels_val} possible labels and test contains {possible_labels_test} possible labels.\"\\\n",
        "        \"This might be unwanted and is not recommended all sets should contain all possible labels.\")\n",
        "\n",
        "assert int(output_size), \"Output_size needs to be a natural number.\"\n",
        "assert int(output_size) == possible_labels, f\"We infered {possible_labels} with the following possible labels {possible_labels_train}.\"\n",
        "assert possible_labels_train == possible_labels_val == possible_labels_test, f\"Make sure that train, val and test labels are equal!\"\n",
        "\n",
        "id2label = {i: k for i,k in enumerate(possible_labels_train)}\n",
        "label2id = {k: i for i, k in enumerate(possible_labels_train)}\n",
        "\n",
        "output_size = int(output_size)\n",
        "\n",
        "print(f\"Your task distinguishes {output_size} different labels. These are {possible_labels_train}\")"
      ]
    },
    {
      "cell_type": "markdown",
      "metadata": {
        "id": "jYAu-jSLtSBf"
      },
      "source": [
        "## 4) Setting up the Model\n",
        "\n",
        "\n",
        "Fantastic!\n",
        "\n",
        "We are close.\n",
        "We clarified the language, the objective and number of possible answers.\n",
        "\n",
        "Lets load the needed model and tokenizer.\n",
        "The tokenizer translates language into a model specific vocabulary."
      ]
    },
    {
      "cell_type": "code",
      "execution_count": 9,
      "metadata": {
        "id": "zGtsc2tGtQWi"
      },
      "outputs": [],
      "source": [
        "model_config = {'pretrained_model_name_or_path': model_name,\n",
        "                'num_labels': output_size,\n",
        "                'problem_type': objective,\n",
        "                'id2label': id2label,\n",
        "                'label2id': label2id}"
      ]
    },
    {
      "cell_type": "code",
      "execution_count": 10,
      "metadata": {
        "id": "IDYrCWQwHBS4",
        "colab": {
          "base_uri": "https://localhost:8080/",
          "height": 348,
          "referenced_widgets": [
            "8153696ba1ea405d9f1ad72d5d62a6cb",
            "7efca268ae8643529b2d73656cc5a70b",
            "0ff78e5019104f8f900d989e35d63d00",
            "1881749b14b64c12b91eef492c3443a0",
            "f7c045ab05e245d4bacd4b30f66ee4fe",
            "babb06eb289e4344b1ab6212b5889c01",
            "0ed57f801a92444a846096f047e7d1e3",
            "554183ca1262493c902aacbc8ab4cb1b",
            "0c460861768543fab3d1fb927b3196a0",
            "03d6b03cabc649aab7c0bafd26dfddfe",
            "8fb823d23ed347afbc5e2ba66daf7ffc",
            "351b9c207de44d61a06edc9500a691ce",
            "429e1ca6c388424d86f88424a1d7743c",
            "fb5af3ea08ca462bb6740f0db1815f4e",
            "b69bf5948c3b4d2482e8ae3269847720",
            "394b312ac94a48158ac5abaac1004c6f",
            "162277a43a18495abff004dc5f1caefe",
            "d95b4f4f4bf3415a804aab4b92bc63c6",
            "6d7cb45e425b450e9c308843372722ad",
            "07ab25011bfc439190e306d004bc01a0",
            "2051a22683a247a0bd018a4fad5f8d27",
            "65aae60a34ec48f0a2f105d65293a9ea",
            "beab901a9f8c4779a046fe05538bacda",
            "f3430a0a865e4560b9da5eb1b6d82806",
            "3de15a368ac54de182a6d6922421b6d3",
            "7c195aa1c82643139ba592b366bfe9c9",
            "353c92212a4d41efb90661c653684dc3",
            "0274e516d5314a2fb88bb57da8f2f236",
            "908f7ec886f441d0a841091b16e86212",
            "597bf4510e04499fb18b9743d8767443",
            "729f2052b378404dbb548510af50b045",
            "0b5d2023c3094905b62e54d08ce1ed00",
            "0a485b1bd9bb4381b46796c05d96c268",
            "0195e094755b4d239d433d09b7d8c5d5",
            "ae78efe08e1245219fddf16893523178",
            "c5d7124ea08f48048ecdfe89cd71772e",
            "73900d29d60e48f893a67fe0aae76b6b",
            "1203a6307eaf42209749da5adf38e332",
            "eab2bd50a9624f8ba1ca716915d501af",
            "884bd37a2beb471fa19b406305c6d53b",
            "5387f37260c94dbcbbc9e0aee589d6cf",
            "ffc417c9d3104b5dadcb30f0dfff8c48",
            "11b88b049a1a485f9cec64b01a0390e3",
            "a2173a03090f42f5adef2d0ade258c8b",
            "2dd4162820014ee9a570f0ce55b32e37",
            "934c8b0beaf84b7fb66ed1c493f74e23",
            "1c269793f34f4d16b301cc00329c1552",
            "39fb24ef7436461d9cdb35be93d033ed",
            "a3b8424434c14d0f933a0ac6274b0df2",
            "2c8247edf5a4405585c2744b0ef847a6",
            "b475774625c34972b5424a1ccd59c7e5",
            "18bc8b2df95946fab4bc0221cb331433",
            "17d9c0312ea4495fb4c713ab3c3b989f",
            "c1c19baf055441a28f84704732d2dcd8",
            "1dd8f34b581949069874e090062c0d28",
            "d3cafd1c38b64bc79eb308527dd48076",
            "54493294816942a792771ec0bf9a70fe",
            "9d1dc0fbc4ff40698f858315d790f005",
            "0fb072748da345a6abb7b09102533a7d",
            "284912f97c4e49d5848dcd272465f367",
            "bf7dd5c7e89e4d64a080cac9799d4c13",
            "5da8a5565e764cf3bdc3b681415dfab1",
            "b2d3f893bbd04c498377193ebb1c4844",
            "8ab562f00e64440c8f02e1d41b16b964",
            "7a97c38abec7481dac91b6177f8e8de0",
            "a28b4230759e46b08791944ad78f2499"
          ]
        },
        "outputId": "fa249e88-b3c1-44fe-b8f4-d3e28b0840be"
      },
      "outputs": [
        {
          "output_type": "stream",
          "name": "stderr",
          "text": [
            "/usr/local/lib/python3.11/dist-packages/huggingface_hub/utils/_auth.py:94: UserWarning: \n",
            "The secret `HF_TOKEN` does not exist in your Colab secrets.\n",
            "To authenticate with the Hugging Face Hub, create a token in your settings tab (https://huggingface.co/settings/tokens), set it as secret in your Google Colab and restart your session.\n",
            "You will be able to reuse this secret in all of your notebooks.\n",
            "Please note that authentication is recommended but still optional to access public models or datasets.\n",
            "  warnings.warn(\n"
          ]
        },
        {
          "output_type": "display_data",
          "data": {
            "text/plain": [
              "config.json:   0%|          | 0.00/481 [00:00<?, ?B/s]"
            ],
            "application/vnd.jupyter.widget-view+json": {
              "version_major": 2,
              "version_minor": 0,
              "model_id": "8153696ba1ea405d9f1ad72d5d62a6cb"
            }
          },
          "metadata": {}
        },
        {
          "output_type": "display_data",
          "data": {
            "text/plain": [
              "model.safetensors:   0%|          | 0.00/499M [00:00<?, ?B/s]"
            ],
            "application/vnd.jupyter.widget-view+json": {
              "version_major": 2,
              "version_minor": 0,
              "model_id": "351b9c207de44d61a06edc9500a691ce"
            }
          },
          "metadata": {}
        },
        {
          "output_type": "stream",
          "name": "stderr",
          "text": [
            "Some weights of RobertaForSequenceClassification were not initialized from the model checkpoint at roberta-base and are newly initialized: ['classifier.dense.bias', 'classifier.dense.weight', 'classifier.out_proj.bias', 'classifier.out_proj.weight']\n",
            "You should probably TRAIN this model on a down-stream task to be able to use it for predictions and inference.\n"
          ]
        },
        {
          "output_type": "display_data",
          "data": {
            "text/plain": [
              "tokenizer_config.json:   0%|          | 0.00/25.0 [00:00<?, ?B/s]"
            ],
            "application/vnd.jupyter.widget-view+json": {
              "version_major": 2,
              "version_minor": 0,
              "model_id": "beab901a9f8c4779a046fe05538bacda"
            }
          },
          "metadata": {}
        },
        {
          "output_type": "display_data",
          "data": {
            "text/plain": [
              "vocab.json:   0%|          | 0.00/899k [00:00<?, ?B/s]"
            ],
            "application/vnd.jupyter.widget-view+json": {
              "version_major": 2,
              "version_minor": 0,
              "model_id": "0195e094755b4d239d433d09b7d8c5d5"
            }
          },
          "metadata": {}
        },
        {
          "output_type": "display_data",
          "data": {
            "text/plain": [
              "merges.txt:   0%|          | 0.00/456k [00:00<?, ?B/s]"
            ],
            "application/vnd.jupyter.widget-view+json": {
              "version_major": 2,
              "version_minor": 0,
              "model_id": "2dd4162820014ee9a570f0ce55b32e37"
            }
          },
          "metadata": {}
        },
        {
          "output_type": "display_data",
          "data": {
            "text/plain": [
              "tokenizer.json:   0%|          | 0.00/1.36M [00:00<?, ?B/s]"
            ],
            "application/vnd.jupyter.widget-view+json": {
              "version_major": 2,
              "version_minor": 0,
              "model_id": "d3cafd1c38b64bc79eb308527dd48076"
            }
          },
          "metadata": {}
        }
      ],
      "source": [
        "model = AutoModelForSequenceClassification.from_pretrained(**model_config)\n",
        "tokenizer = AutoTokenizer.from_pretrained(model_name)"
      ]
    },
    {
      "cell_type": "markdown",
      "metadata": {
        "id": "WLFf-h69n8Nn"
      },
      "source": [
        "### Training Specific Settings\n",
        "\n",
        "Now we need to specify some training specific things. Dont worry if you dont know what to change the pre-set values should already be working just fine.\n",
        "Lets get first an intuition how training of a model actually works. You show a model some example data points in your case the train data. From this data the model infers helpful patterns that explain the correlation between input and output. In order to get the most out of our data we show a small amount of data each time (batch_size) and let the model learn from it. To protect the model from overestimating its understanding we restrict the learned patterns per batch by applying the learning rate (lr). We also apply a warm-up (warm-up-rate) to ensure that the model doesnt forget everything it knew from the pre-training. After all we are using **pre-trained language models** for a reason.\n",
        "\n",
        " Lets go through each of the values one by one:\n",
        "  - the batch_size tells us: How many examples we show to the model before we deduce rules that help to solve the classification task.\n",
        "  - the learning_rate (lr) tells us: How hard we want the model to commit on the recognized patterns from the batch\n",
        "  - the num_epoch tells us: How often we show all the training data to the model in this case 3 times.\n",
        "  - the warm_up_rate tells us: How big of a share of the training should be less impactful.\n",
        "  - device tells us: What device are we using if you have special hardware available (e.g. GPU) your training runs much faster."
      ]
    },
    {
      "cell_type": "markdown",
      "metadata": {
        "id": "s9WzBdSRo5LT"
      },
      "source": [
        "\n",
        "With the now loaded model and tokenizer we can start **fine-tuning**. \\\\\n",
        "\n",
        "For now we only need the train-set to teach the model and the val-set to decide if we taught our model well.\n",
        "Lets first translate our text into the models vocabulary\n"
      ]
    },
    {
      "cell_type": "code",
      "execution_count": 11,
      "metadata": {
        "id": "BWLgh6LRGNOE"
      },
      "outputs": [],
      "source": [
        "batch_size = 64\n",
        "lr = 1e-4\n",
        "num_epochs = 3\n",
        "warm_up_rate = 0.1\n",
        "num_training_steps = (len(train['Labels'])//batch_size)*num_epochs\n",
        "device = 'cuda:0' if torch.cuda.is_available() else 'cpu'"
      ]
    },
    {
      "cell_type": "code",
      "execution_count": 12,
      "metadata": {
        "id": "QIP_Jj34oz9r"
      },
      "outputs": [],
      "source": [
        "# Padding tokenizing text aka. translating text into the model vocabulary\n",
        "\n",
        "train_text = tokenizer([m for m in train['Text']], truncation=True, padding='longest', return_tensors='pt')\n",
        "val_text = tokenizer([m for m in val['Text']], truncation=True, padding='longest', return_tensors='pt')\n",
        "test_text = tokenizer([m for m in test['Text']], truncation=True, padding='longest', return_tensors='pt')\n",
        "\n",
        "# Using the label2id mapping to convert the label strings into label ids\n",
        "train_y = convert_labels(train['Labels'], label2id)\n",
        "val_y = convert_labels(val['Labels'], label2id)\n",
        "test_y = convert_labels(test['Labels'], label2id)\n",
        "\n",
        "# Retrieve Dataloaders for fast iteration over the data\n",
        "train_dataloader = generate_dataloader(train_text, train_y, batch_size)\n",
        "val_dataloader = generate_dataloader(val_text, val_y, batch_size)\n",
        "test_dataloader = generate_dataloader(test_text, test_y, batch_size)"
      ]
    },
    {
      "cell_type": "markdown",
      "metadata": {
        "id": "ELylkOMArO-h"
      },
      "source": [
        "The learning of patterns and adaptation of the model is achieved by the optimizer. In our case it is a special optimizer that keeps a model from optimizing. If you are really interested you can read more about it [here](https://github.com/davda54/sam). The scheduler adapts the learning rate according the warm_up_rate"
      ]
    },
    {
      "cell_type": "code",
      "execution_count": 13,
      "metadata": {
        "id": "fFuqFXajGfJ6"
      },
      "outputs": [],
      "source": [
        "# Initialize optimizer and scheduler\n",
        "optimizer = SAM(model.parameters(), torch.optim.Adam, lr=lr, adaptive=True)\n",
        "scheduler = get_cosine_schedule_with_warmup(optimizer = optimizer,\n",
        "                                          num_warmup_steps = num_training_steps*warm_up_rate,\n",
        "                                          num_training_steps = num_training_steps,\n",
        "                                          last_epoch = -1)\n"
      ]
    },
    {
      "cell_type": "markdown",
      "metadata": {
        "id": "N_hiMENYrwM0"
      },
      "source": [
        "## 5) Training\n",
        "\n",
        "Lets start the training!\n",
        "I wont go into too much detail but now we show the data to the model and optimize its parameters to succeed in the task as good as possible.\n",
        "Each epoch we test our model, we always safe the best model.\n",
        "Once this is done you should have a well trained model that you can load with the code of the next cell."
      ]
    },
    {
      "cell_type": "code",
      "execution_count": 14,
      "metadata": {
        "colab": {
          "base_uri": "https://localhost:8080/"
        },
        "id": "e35OhfF0JO52",
        "outputId": "fd9772f7-f7d0-4f63-d226-1dd7be1cc4a1"
      },
      "outputs": [
        {
          "output_type": "stream",
          "name": "stdout",
          "text": [
            "Train: Epoch 0, Train step 0, Loss 0.6858299374580383, learning_rate 9.996239762521151e-05\n",
            "Train: Epoch 0, Train step 1, Loss 0.6444876790046692, learning_rate 9.551814704830734e-05\n",
            "Train: Epoch 0, Train step 2, Loss 0.5397499799728394, learning_rate 8.431208189343668e-05\n",
            "Validation: Epoch 0, Train step 2, Loss 0.4780782163143158, old best/epoch nf/0\n",
            "**** END EPOCH 0 ****\n",
            "Train: Epoch 1, Train step 2, Loss 0.5707235336303711, learning_rate 6.800888624023551e-05\n",
            "Train: Epoch 1, Train step 3, Loss 0.3488723337650299, learning_rate 4.903043341140879e-05\n",
            "Train: Epoch 1, Train step 4, Loss 0.2990131974220276, learning_rate 3.019601169804216e-05\n",
            "Validation: Epoch 1, Train step 4, Loss 0.24637635052204132, old best/epoch .4780/0\n",
            "**** END EPOCH 1 ****\n",
            "Train: Epoch 2, Train step 4, Loss 0.2046240270137787, learning_rate 1.4303513272105057e-05\n",
            "Train: Epoch 2, Train step 5, Loss 0.24887113273143768, learning_rate 3.7138015365554833e-06\n",
            "Train: Epoch 2, Train step 6, Loss 0.21534208953380585, learning_rate 0.0\n",
            "Validation: Epoch 2, Train step 6, Loss 0.20891861617565155, old best/epoch .2463/1\n",
            "**** END EPOCH 2 ****\n",
            "**** FINISHED TRAINING FOR N=2 ****\n",
            "BEST EPOCH: 2\n",
            "BEST LOSS: 0.20891861617565155\n"
          ]
        }
      ],
      "source": [
        "# Trainings-loop\n",
        "best_loss = float('inf')\n",
        "best_epoch = 0\n",
        "already_trained = 0\n",
        "best_model_path = ''\n",
        "should_delete = True\n",
        "\n",
        "for epoch in range(num_epochs): # Repeat num_epochs times\n",
        "\n",
        "  for batch_idx, batch in enumerate(train_dataloader): # Train the model on the batch\n",
        "    input_ids, attention_mask, y = batch[0].to(device), batch[1].to(device), batch[2].to(device)\n",
        "\n",
        "    output = model(input_ids, attention_mask, labels=y)\n",
        "    loss = output.loss\n",
        "    loss.backward()\n",
        "    torch.nn.utils.clip_grad_norm_(model.parameters(), 1.0)\n",
        "\n",
        "    scheduler.step()  # Do first step in the direction of a smaller loss\n",
        "    optimizer.first_step(zero_grad=True)\n",
        "\n",
        "    model(input_ids, attention_mask, labels=y).loss.backward()\n",
        "    optimizer.second_step(zero_grad=True) # Do second step to verify the direction\n",
        "    print(f\"Train: Epoch {epoch}, Train step {already_trained+batch_idx}, Loss {loss}, learning_rate {scheduler.get_last_lr()[0]}\", flush=True)\n",
        "\n",
        "  already_trained += batch_idx\n",
        "  val_loss = []\n",
        "  for batch_idx, batch in enumerate(val_dataloader): # Validate the current state of the model on the validation data\n",
        "    input_ids, attention_mask, y = batch[0].to(device), batch[1].to(device), batch[2].to(device)\n",
        "\n",
        "    with torch.no_grad():\n",
        "      val_loss.append(model(input_ids, attention_mask, labels=y).loss)\n",
        "\n",
        "  val_loss = torch.mean(torch.stack(val_loss))\n",
        "\n",
        "  print(f\"Validation: Epoch {epoch}, Train step {already_trained}, Loss {val_loss}, old best/epoch {str(best_loss)[1:6]}/{best_epoch}\", flush=True)\n",
        "\n",
        "  if val_loss < best_loss: # Safe the model if the val_loss is the best loss we have seen so far\n",
        "    best_loss = val_loss.item()\n",
        "    best_epoch = epoch\n",
        "    if should_delete and best_model_path:\n",
        "      shutil.rmtree(best_model_path)\n",
        "    best_model_path = f\"./my_model_epoch_{best_epoch}_val_loss_{str(val_loss.item())[1:6]}\"\n",
        "    model.save_pretrained(best_model_path, from_pt=True)\n",
        "\n",
        "    print(f\"**** END EPOCH {epoch} ****\")\n",
        "\n",
        "\n",
        "print(f\"**** FINISHED TRAINING FOR N={epoch} ****\")\n",
        "print(f\"BEST EPOCH: {best_epoch}\")\n",
        "print(f\"BEST LOSS: {best_loss}\")"
      ]
    },
    {
      "cell_type": "markdown",
      "metadata": {
        "id": "c6IoeYsasTlt"
      },
      "source": [
        "The training is finished now we can load the model."
      ]
    },
    {
      "cell_type": "code",
      "execution_count": 15,
      "metadata": {
        "id": "UlEDLy1qCONM"
      },
      "outputs": [],
      "source": [
        "best_model = AutoModelForSequenceClassification.from_pretrained(best_model_path)"
      ]
    },
    {
      "cell_type": "markdown",
      "metadata": {
        "id": "-N8bn_AVsXY7"
      },
      "source": [
        "## 6) Evaluation\n",
        "\n",
        "Finally, with the loaded model we can now predict our results for the unseen test set to understand the models performance in more detail."
      ]
    },
    {
      "cell_type": "code",
      "execution_count": 16,
      "metadata": {
        "id": "LF0nHp1aRaHc"
      },
      "outputs": [],
      "source": [
        "y_pred = []\n",
        "\n",
        "with torch.no_grad():\n",
        "\n",
        "  for batch_idx, batch in enumerate(test_dataloader):\n",
        "    input_ids, attention_mask, y = batch[0].to(device), batch[1].to(device), batch[2].to(device)\n",
        "    y_pred.append(model(input_ids, attention_mask, labels=y).logits)\n",
        "\n",
        "\n",
        "y_pred = torch.stack(y_pred, dim=0)\n",
        "y_pred = decision_function(y_pred)"
      ]
    },
    {
      "cell_type": "code",
      "execution_count": 17,
      "metadata": {
        "colab": {
          "base_uri": "https://localhost:8080/",
          "height": 321
        },
        "id": "ZXp0j0r5Tg4y",
        "outputId": "94642110-cd52-45ca-bcce-6c69a1c9e151"
      },
      "outputs": [
        {
          "output_type": "error",
          "ename": "ValueError",
          "evalue": "Found input variables with inconsistent numbers of samples: [192, 3]",
          "traceback": [
            "\u001b[0;31m---------------------------------------------------------------------------\u001b[0m",
            "\u001b[0;31mValueError\u001b[0m                                Traceback (most recent call last)",
            "\u001b[0;32m<ipython-input-17-75235cfcfd16>\u001b[0m in \u001b[0;36m<cell line: 0>\u001b[0;34m()\u001b[0m\n\u001b[1;32m      1\u001b[0m \u001b[0;32mfrom\u001b[0m \u001b[0msklearn\u001b[0m\u001b[0;34m.\u001b[0m\u001b[0mmetrics\u001b[0m \u001b[0;32mimport\u001b[0m \u001b[0mclassification_report\u001b[0m\u001b[0;34m\u001b[0m\u001b[0;34m\u001b[0m\u001b[0m\n\u001b[1;32m      2\u001b[0m \u001b[0;34m\u001b[0m\u001b[0m\n\u001b[0;32m----> 3\u001b[0;31m \u001b[0mprint\u001b[0m\u001b[0;34m(\u001b[0m\u001b[0mclassification_report\u001b[0m\u001b[0;34m(\u001b[0m\u001b[0mtest_y\u001b[0m\u001b[0;34m,\u001b[0m \u001b[0my_pred\u001b[0m\u001b[0;34m,\u001b[0m \u001b[0mtarget_names\u001b[0m\u001b[0;34m=\u001b[0m\u001b[0mlabel2id\u001b[0m\u001b[0;34m.\u001b[0m\u001b[0mkeys\u001b[0m\u001b[0;34m(\u001b[0m\u001b[0;34m)\u001b[0m\u001b[0;34m,\u001b[0m \u001b[0mzero_division\u001b[0m\u001b[0;34m=\u001b[0m\u001b[0;32mTrue\u001b[0m\u001b[0;34m)\u001b[0m\u001b[0;34m)\u001b[0m\u001b[0;34m\u001b[0m\u001b[0;34m\u001b[0m\u001b[0m\n\u001b[0m",
            "\u001b[0;32m/usr/local/lib/python3.11/dist-packages/sklearn/utils/_param_validation.py\u001b[0m in \u001b[0;36mwrapper\u001b[0;34m(*args, **kwargs)\u001b[0m\n\u001b[1;32m    214\u001b[0m                     )\n\u001b[1;32m    215\u001b[0m                 ):\n\u001b[0;32m--> 216\u001b[0;31m                     \u001b[0;32mreturn\u001b[0m \u001b[0mfunc\u001b[0m\u001b[0;34m(\u001b[0m\u001b[0;34m*\u001b[0m\u001b[0margs\u001b[0m\u001b[0;34m,\u001b[0m \u001b[0;34m**\u001b[0m\u001b[0mkwargs\u001b[0m\u001b[0;34m)\u001b[0m\u001b[0;34m\u001b[0m\u001b[0;34m\u001b[0m\u001b[0m\n\u001b[0m\u001b[1;32m    217\u001b[0m             \u001b[0;32mexcept\u001b[0m \u001b[0mInvalidParameterError\u001b[0m \u001b[0;32mas\u001b[0m \u001b[0me\u001b[0m\u001b[0;34m:\u001b[0m\u001b[0;34m\u001b[0m\u001b[0;34m\u001b[0m\u001b[0m\n\u001b[1;32m    218\u001b[0m                 \u001b[0;31m# When the function is just a wrapper around an estimator, we allow\u001b[0m\u001b[0;34m\u001b[0m\u001b[0;34m\u001b[0m\u001b[0m\n",
            "\u001b[0;32m/usr/local/lib/python3.11/dist-packages/sklearn/metrics/_classification.py\u001b[0m in \u001b[0;36mclassification_report\u001b[0;34m(y_true, y_pred, labels, target_names, sample_weight, digits, output_dict, zero_division)\u001b[0m\n\u001b[1;32m   2669\u001b[0m \u001b[0;34m\u001b[0m\u001b[0m\n\u001b[1;32m   2670\u001b[0m     \u001b[0my_true\u001b[0m\u001b[0;34m,\u001b[0m \u001b[0my_pred\u001b[0m \u001b[0;34m=\u001b[0m \u001b[0mattach_unique\u001b[0m\u001b[0;34m(\u001b[0m\u001b[0my_true\u001b[0m\u001b[0;34m,\u001b[0m \u001b[0my_pred\u001b[0m\u001b[0;34m)\u001b[0m\u001b[0;34m\u001b[0m\u001b[0;34m\u001b[0m\u001b[0m\n\u001b[0;32m-> 2671\u001b[0;31m     \u001b[0my_type\u001b[0m\u001b[0;34m,\u001b[0m \u001b[0my_true\u001b[0m\u001b[0;34m,\u001b[0m \u001b[0my_pred\u001b[0m \u001b[0;34m=\u001b[0m \u001b[0m_check_targets\u001b[0m\u001b[0;34m(\u001b[0m\u001b[0my_true\u001b[0m\u001b[0;34m,\u001b[0m \u001b[0my_pred\u001b[0m\u001b[0;34m)\u001b[0m\u001b[0;34m\u001b[0m\u001b[0;34m\u001b[0m\u001b[0m\n\u001b[0m\u001b[1;32m   2672\u001b[0m \u001b[0;34m\u001b[0m\u001b[0m\n\u001b[1;32m   2673\u001b[0m     \u001b[0;32mif\u001b[0m \u001b[0mlabels\u001b[0m \u001b[0;32mis\u001b[0m \u001b[0;32mNone\u001b[0m\u001b[0;34m:\u001b[0m\u001b[0;34m\u001b[0m\u001b[0;34m\u001b[0m\u001b[0m\n",
            "\u001b[0;32m/usr/local/lib/python3.11/dist-packages/sklearn/metrics/_classification.py\u001b[0m in \u001b[0;36m_check_targets\u001b[0;34m(y_true, y_pred)\u001b[0m\n\u001b[1;32m     96\u001b[0m     \"\"\"\n\u001b[1;32m     97\u001b[0m     \u001b[0mxp\u001b[0m\u001b[0;34m,\u001b[0m \u001b[0m_\u001b[0m \u001b[0;34m=\u001b[0m \u001b[0mget_namespace\u001b[0m\u001b[0;34m(\u001b[0m\u001b[0my_true\u001b[0m\u001b[0;34m,\u001b[0m \u001b[0my_pred\u001b[0m\u001b[0;34m)\u001b[0m\u001b[0;34m\u001b[0m\u001b[0;34m\u001b[0m\u001b[0m\n\u001b[0;32m---> 98\u001b[0;31m     \u001b[0mcheck_consistent_length\u001b[0m\u001b[0;34m(\u001b[0m\u001b[0my_true\u001b[0m\u001b[0;34m,\u001b[0m \u001b[0my_pred\u001b[0m\u001b[0;34m)\u001b[0m\u001b[0;34m\u001b[0m\u001b[0;34m\u001b[0m\u001b[0m\n\u001b[0m\u001b[1;32m     99\u001b[0m     \u001b[0mtype_true\u001b[0m \u001b[0;34m=\u001b[0m \u001b[0mtype_of_target\u001b[0m\u001b[0;34m(\u001b[0m\u001b[0my_true\u001b[0m\u001b[0;34m,\u001b[0m \u001b[0minput_name\u001b[0m\u001b[0;34m=\u001b[0m\u001b[0;34m\"y_true\"\u001b[0m\u001b[0;34m)\u001b[0m\u001b[0;34m\u001b[0m\u001b[0;34m\u001b[0m\u001b[0m\n\u001b[1;32m    100\u001b[0m     \u001b[0mtype_pred\u001b[0m \u001b[0;34m=\u001b[0m \u001b[0mtype_of_target\u001b[0m\u001b[0;34m(\u001b[0m\u001b[0my_pred\u001b[0m\u001b[0;34m,\u001b[0m \u001b[0minput_name\u001b[0m\u001b[0;34m=\u001b[0m\u001b[0;34m\"y_pred\"\u001b[0m\u001b[0;34m)\u001b[0m\u001b[0;34m\u001b[0m\u001b[0;34m\u001b[0m\u001b[0m\n",
            "\u001b[0;32m/usr/local/lib/python3.11/dist-packages/sklearn/utils/validation.py\u001b[0m in \u001b[0;36mcheck_consistent_length\u001b[0;34m(*arrays)\u001b[0m\n\u001b[1;32m    473\u001b[0m     \u001b[0muniques\u001b[0m \u001b[0;34m=\u001b[0m \u001b[0mnp\u001b[0m\u001b[0;34m.\u001b[0m\u001b[0munique\u001b[0m\u001b[0;34m(\u001b[0m\u001b[0mlengths\u001b[0m\u001b[0;34m)\u001b[0m\u001b[0;34m\u001b[0m\u001b[0;34m\u001b[0m\u001b[0m\n\u001b[1;32m    474\u001b[0m     \u001b[0;32mif\u001b[0m \u001b[0mlen\u001b[0m\u001b[0;34m(\u001b[0m\u001b[0muniques\u001b[0m\u001b[0;34m)\u001b[0m \u001b[0;34m>\u001b[0m \u001b[0;36m1\u001b[0m\u001b[0;34m:\u001b[0m\u001b[0;34m\u001b[0m\u001b[0;34m\u001b[0m\u001b[0m\n\u001b[0;32m--> 475\u001b[0;31m         raise ValueError(\n\u001b[0m\u001b[1;32m    476\u001b[0m             \u001b[0;34m\"Found input variables with inconsistent numbers of samples: %r\"\u001b[0m\u001b[0;34m\u001b[0m\u001b[0;34m\u001b[0m\u001b[0m\n\u001b[1;32m    477\u001b[0m             \u001b[0;34m%\u001b[0m \u001b[0;34m[\u001b[0m\u001b[0mint\u001b[0m\u001b[0;34m(\u001b[0m\u001b[0ml\u001b[0m\u001b[0;34m)\u001b[0m \u001b[0;32mfor\u001b[0m \u001b[0ml\u001b[0m \u001b[0;32min\u001b[0m \u001b[0mlengths\u001b[0m\u001b[0;34m]\u001b[0m\u001b[0;34m\u001b[0m\u001b[0;34m\u001b[0m\u001b[0m\n",
            "\u001b[0;31mValueError\u001b[0m: Found input variables with inconsistent numbers of samples: [192, 3]"
          ]
        }
      ],
      "source": [
        "from sklearn.metrics import classification_report\n",
        "\n",
        "print(classification_report(test_y, y_pred, target_names=label2id.keys(), zero_division=True))"
      ]
    },
    {
      "cell_type": "markdown",
      "source": [
        "### Results\n",
        "\n",
        "The classification report shows us four metric results these are the precision,\n",
        "the recall, the f1-score, and the accuracy. Additionally, the report displays two different average aggregations, these are the macro avg, and the weighted average.\n",
        "\n",
        "The *precision* tells us \"When we predict a label, is it the correct label?\".\n",
        "\n",
        "The *recall* tells us \"How many instances of a class do we find?\".\n",
        "\n",
        "The *f1-score* is the harmonic mean of the *precision* and the *recall*.\n",
        "\n",
        "The *accuracy* tells us \"How many of our predictions are correct?\".\n",
        "\n",
        "The *macro avg* aggregates the *f1-score* per class it tells us \"How well do we classify, if all classes occur equally often.\".\n",
        "\n",
        "The *weighted avg* aggregates the *f1-score* weighted by class size it tells us \"How well do we classify the complete label set.\".\n",
        "\n",
        "\n",
        "### Analysis\n",
        "We can see that we have two classes 'is_correct' and 'is_incorrect'.\n",
        "We have one instance with from the class 'is_correct' and two from the class 'is_incorrect'.\n",
        "Our model does not learn to predict the class 'is_correct'.\n",
        "We find all instances of the class 'is_incorrect'.\n",
        "You can see this by the fact that the *recall* is 1.0.\n",
        "The *precision* is at 0.67, as one instance that we predict to be 'is_incorrect' is actually an instance of the class 'is_correct'.\n"
      ],
      "metadata": {
        "id": "tpBm7kAZoAOz"
      }
    },
    {
      "cell_type": "markdown",
      "source": [
        "Contact: Stephan.Linzbach@gesis.org"
      ],
      "metadata": {
        "id": "A-G0nQF57ePk"
      }
    }
  ],
  "metadata": {
    "colab": {
      "provenance": [],
      "name": "textclassification_tutorial.ipynb",
      "include_colab_link": true
    },
    "kernelspec": {
      "display_name": "Python 3",
      "name": "python3"
    },
    "language_info": {
      "name": "python"
    },
    "widgets": {
      "application/vnd.jupyter.widget-state+json": {
        "8153696ba1ea405d9f1ad72d5d62a6cb": {
          "model_module": "@jupyter-widgets/controls",
          "model_name": "HBoxModel",
          "model_module_version": "1.5.0",
          "state": {
            "_dom_classes": [],
            "_model_module": "@jupyter-widgets/controls",
            "_model_module_version": "1.5.0",
            "_model_name": "HBoxModel",
            "_view_count": null,
            "_view_module": "@jupyter-widgets/controls",
            "_view_module_version": "1.5.0",
            "_view_name": "HBoxView",
            "box_style": "",
            "children": [
              "IPY_MODEL_7efca268ae8643529b2d73656cc5a70b",
              "IPY_MODEL_0ff78e5019104f8f900d989e35d63d00",
              "IPY_MODEL_1881749b14b64c12b91eef492c3443a0"
            ],
            "layout": "IPY_MODEL_f7c045ab05e245d4bacd4b30f66ee4fe"
          }
        },
        "7efca268ae8643529b2d73656cc5a70b": {
          "model_module": "@jupyter-widgets/controls",
          "model_name": "HTMLModel",
          "model_module_version": "1.5.0",
          "state": {
            "_dom_classes": [],
            "_model_module": "@jupyter-widgets/controls",
            "_model_module_version": "1.5.0",
            "_model_name": "HTMLModel",
            "_view_count": null,
            "_view_module": "@jupyter-widgets/controls",
            "_view_module_version": "1.5.0",
            "_view_name": "HTMLView",
            "description": "",
            "description_tooltip": null,
            "layout": "IPY_MODEL_babb06eb289e4344b1ab6212b5889c01",
            "placeholder": "​",
            "style": "IPY_MODEL_0ed57f801a92444a846096f047e7d1e3",
            "value": "config.json: 100%"
          }
        },
        "0ff78e5019104f8f900d989e35d63d00": {
          "model_module": "@jupyter-widgets/controls",
          "model_name": "FloatProgressModel",
          "model_module_version": "1.5.0",
          "state": {
            "_dom_classes": [],
            "_model_module": "@jupyter-widgets/controls",
            "_model_module_version": "1.5.0",
            "_model_name": "FloatProgressModel",
            "_view_count": null,
            "_view_module": "@jupyter-widgets/controls",
            "_view_module_version": "1.5.0",
            "_view_name": "ProgressView",
            "bar_style": "success",
            "description": "",
            "description_tooltip": null,
            "layout": "IPY_MODEL_554183ca1262493c902aacbc8ab4cb1b",
            "max": 481,
            "min": 0,
            "orientation": "horizontal",
            "style": "IPY_MODEL_0c460861768543fab3d1fb927b3196a0",
            "value": 481
          }
        },
        "1881749b14b64c12b91eef492c3443a0": {
          "model_module": "@jupyter-widgets/controls",
          "model_name": "HTMLModel",
          "model_module_version": "1.5.0",
          "state": {
            "_dom_classes": [],
            "_model_module": "@jupyter-widgets/controls",
            "_model_module_version": "1.5.0",
            "_model_name": "HTMLModel",
            "_view_count": null,
            "_view_module": "@jupyter-widgets/controls",
            "_view_module_version": "1.5.0",
            "_view_name": "HTMLView",
            "description": "",
            "description_tooltip": null,
            "layout": "IPY_MODEL_03d6b03cabc649aab7c0bafd26dfddfe",
            "placeholder": "​",
            "style": "IPY_MODEL_8fb823d23ed347afbc5e2ba66daf7ffc",
            "value": " 481/481 [00:00&lt;00:00, 6.82kB/s]"
          }
        },
        "f7c045ab05e245d4bacd4b30f66ee4fe": {
          "model_module": "@jupyter-widgets/base",
          "model_name": "LayoutModel",
          "model_module_version": "1.2.0",
          "state": {
            "_model_module": "@jupyter-widgets/base",
            "_model_module_version": "1.2.0",
            "_model_name": "LayoutModel",
            "_view_count": null,
            "_view_module": "@jupyter-widgets/base",
            "_view_module_version": "1.2.0",
            "_view_name": "LayoutView",
            "align_content": null,
            "align_items": null,
            "align_self": null,
            "border": null,
            "bottom": null,
            "display": null,
            "flex": null,
            "flex_flow": null,
            "grid_area": null,
            "grid_auto_columns": null,
            "grid_auto_flow": null,
            "grid_auto_rows": null,
            "grid_column": null,
            "grid_gap": null,
            "grid_row": null,
            "grid_template_areas": null,
            "grid_template_columns": null,
            "grid_template_rows": null,
            "height": null,
            "justify_content": null,
            "justify_items": null,
            "left": null,
            "margin": null,
            "max_height": null,
            "max_width": null,
            "min_height": null,
            "min_width": null,
            "object_fit": null,
            "object_position": null,
            "order": null,
            "overflow": null,
            "overflow_x": null,
            "overflow_y": null,
            "padding": null,
            "right": null,
            "top": null,
            "visibility": null,
            "width": null
          }
        },
        "babb06eb289e4344b1ab6212b5889c01": {
          "model_module": "@jupyter-widgets/base",
          "model_name": "LayoutModel",
          "model_module_version": "1.2.0",
          "state": {
            "_model_module": "@jupyter-widgets/base",
            "_model_module_version": "1.2.0",
            "_model_name": "LayoutModel",
            "_view_count": null,
            "_view_module": "@jupyter-widgets/base",
            "_view_module_version": "1.2.0",
            "_view_name": "LayoutView",
            "align_content": null,
            "align_items": null,
            "align_self": null,
            "border": null,
            "bottom": null,
            "display": null,
            "flex": null,
            "flex_flow": null,
            "grid_area": null,
            "grid_auto_columns": null,
            "grid_auto_flow": null,
            "grid_auto_rows": null,
            "grid_column": null,
            "grid_gap": null,
            "grid_row": null,
            "grid_template_areas": null,
            "grid_template_columns": null,
            "grid_template_rows": null,
            "height": null,
            "justify_content": null,
            "justify_items": null,
            "left": null,
            "margin": null,
            "max_height": null,
            "max_width": null,
            "min_height": null,
            "min_width": null,
            "object_fit": null,
            "object_position": null,
            "order": null,
            "overflow": null,
            "overflow_x": null,
            "overflow_y": null,
            "padding": null,
            "right": null,
            "top": null,
            "visibility": null,
            "width": null
          }
        },
        "0ed57f801a92444a846096f047e7d1e3": {
          "model_module": "@jupyter-widgets/controls",
          "model_name": "DescriptionStyleModel",
          "model_module_version": "1.5.0",
          "state": {
            "_model_module": "@jupyter-widgets/controls",
            "_model_module_version": "1.5.0",
            "_model_name": "DescriptionStyleModel",
            "_view_count": null,
            "_view_module": "@jupyter-widgets/base",
            "_view_module_version": "1.2.0",
            "_view_name": "StyleView",
            "description_width": ""
          }
        },
        "554183ca1262493c902aacbc8ab4cb1b": {
          "model_module": "@jupyter-widgets/base",
          "model_name": "LayoutModel",
          "model_module_version": "1.2.0",
          "state": {
            "_model_module": "@jupyter-widgets/base",
            "_model_module_version": "1.2.0",
            "_model_name": "LayoutModel",
            "_view_count": null,
            "_view_module": "@jupyter-widgets/base",
            "_view_module_version": "1.2.0",
            "_view_name": "LayoutView",
            "align_content": null,
            "align_items": null,
            "align_self": null,
            "border": null,
            "bottom": null,
            "display": null,
            "flex": null,
            "flex_flow": null,
            "grid_area": null,
            "grid_auto_columns": null,
            "grid_auto_flow": null,
            "grid_auto_rows": null,
            "grid_column": null,
            "grid_gap": null,
            "grid_row": null,
            "grid_template_areas": null,
            "grid_template_columns": null,
            "grid_template_rows": null,
            "height": null,
            "justify_content": null,
            "justify_items": null,
            "left": null,
            "margin": null,
            "max_height": null,
            "max_width": null,
            "min_height": null,
            "min_width": null,
            "object_fit": null,
            "object_position": null,
            "order": null,
            "overflow": null,
            "overflow_x": null,
            "overflow_y": null,
            "padding": null,
            "right": null,
            "top": null,
            "visibility": null,
            "width": null
          }
        },
        "0c460861768543fab3d1fb927b3196a0": {
          "model_module": "@jupyter-widgets/controls",
          "model_name": "ProgressStyleModel",
          "model_module_version": "1.5.0",
          "state": {
            "_model_module": "@jupyter-widgets/controls",
            "_model_module_version": "1.5.0",
            "_model_name": "ProgressStyleModel",
            "_view_count": null,
            "_view_module": "@jupyter-widgets/base",
            "_view_module_version": "1.2.0",
            "_view_name": "StyleView",
            "bar_color": null,
            "description_width": ""
          }
        },
        "03d6b03cabc649aab7c0bafd26dfddfe": {
          "model_module": "@jupyter-widgets/base",
          "model_name": "LayoutModel",
          "model_module_version": "1.2.0",
          "state": {
            "_model_module": "@jupyter-widgets/base",
            "_model_module_version": "1.2.0",
            "_model_name": "LayoutModel",
            "_view_count": null,
            "_view_module": "@jupyter-widgets/base",
            "_view_module_version": "1.2.0",
            "_view_name": "LayoutView",
            "align_content": null,
            "align_items": null,
            "align_self": null,
            "border": null,
            "bottom": null,
            "display": null,
            "flex": null,
            "flex_flow": null,
            "grid_area": null,
            "grid_auto_columns": null,
            "grid_auto_flow": null,
            "grid_auto_rows": null,
            "grid_column": null,
            "grid_gap": null,
            "grid_row": null,
            "grid_template_areas": null,
            "grid_template_columns": null,
            "grid_template_rows": null,
            "height": null,
            "justify_content": null,
            "justify_items": null,
            "left": null,
            "margin": null,
            "max_height": null,
            "max_width": null,
            "min_height": null,
            "min_width": null,
            "object_fit": null,
            "object_position": null,
            "order": null,
            "overflow": null,
            "overflow_x": null,
            "overflow_y": null,
            "padding": null,
            "right": null,
            "top": null,
            "visibility": null,
            "width": null
          }
        },
        "8fb823d23ed347afbc5e2ba66daf7ffc": {
          "model_module": "@jupyter-widgets/controls",
          "model_name": "DescriptionStyleModel",
          "model_module_version": "1.5.0",
          "state": {
            "_model_module": "@jupyter-widgets/controls",
            "_model_module_version": "1.5.0",
            "_model_name": "DescriptionStyleModel",
            "_view_count": null,
            "_view_module": "@jupyter-widgets/base",
            "_view_module_version": "1.2.0",
            "_view_name": "StyleView",
            "description_width": ""
          }
        },
        "351b9c207de44d61a06edc9500a691ce": {
          "model_module": "@jupyter-widgets/controls",
          "model_name": "HBoxModel",
          "model_module_version": "1.5.0",
          "state": {
            "_dom_classes": [],
            "_model_module": "@jupyter-widgets/controls",
            "_model_module_version": "1.5.0",
            "_model_name": "HBoxModel",
            "_view_count": null,
            "_view_module": "@jupyter-widgets/controls",
            "_view_module_version": "1.5.0",
            "_view_name": "HBoxView",
            "box_style": "",
            "children": [
              "IPY_MODEL_429e1ca6c388424d86f88424a1d7743c",
              "IPY_MODEL_fb5af3ea08ca462bb6740f0db1815f4e",
              "IPY_MODEL_b69bf5948c3b4d2482e8ae3269847720"
            ],
            "layout": "IPY_MODEL_394b312ac94a48158ac5abaac1004c6f"
          }
        },
        "429e1ca6c388424d86f88424a1d7743c": {
          "model_module": "@jupyter-widgets/controls",
          "model_name": "HTMLModel",
          "model_module_version": "1.5.0",
          "state": {
            "_dom_classes": [],
            "_model_module": "@jupyter-widgets/controls",
            "_model_module_version": "1.5.0",
            "_model_name": "HTMLModel",
            "_view_count": null,
            "_view_module": "@jupyter-widgets/controls",
            "_view_module_version": "1.5.0",
            "_view_name": "HTMLView",
            "description": "",
            "description_tooltip": null,
            "layout": "IPY_MODEL_162277a43a18495abff004dc5f1caefe",
            "placeholder": "​",
            "style": "IPY_MODEL_d95b4f4f4bf3415a804aab4b92bc63c6",
            "value": "model.safetensors: 100%"
          }
        },
        "fb5af3ea08ca462bb6740f0db1815f4e": {
          "model_module": "@jupyter-widgets/controls",
          "model_name": "FloatProgressModel",
          "model_module_version": "1.5.0",
          "state": {
            "_dom_classes": [],
            "_model_module": "@jupyter-widgets/controls",
            "_model_module_version": "1.5.0",
            "_model_name": "FloatProgressModel",
            "_view_count": null,
            "_view_module": "@jupyter-widgets/controls",
            "_view_module_version": "1.5.0",
            "_view_name": "ProgressView",
            "bar_style": "success",
            "description": "",
            "description_tooltip": null,
            "layout": "IPY_MODEL_6d7cb45e425b450e9c308843372722ad",
            "max": 498818054,
            "min": 0,
            "orientation": "horizontal",
            "style": "IPY_MODEL_07ab25011bfc439190e306d004bc01a0",
            "value": 498818054
          }
        },
        "b69bf5948c3b4d2482e8ae3269847720": {
          "model_module": "@jupyter-widgets/controls",
          "model_name": "HTMLModel",
          "model_module_version": "1.5.0",
          "state": {
            "_dom_classes": [],
            "_model_module": "@jupyter-widgets/controls",
            "_model_module_version": "1.5.0",
            "_model_name": "HTMLModel",
            "_view_count": null,
            "_view_module": "@jupyter-widgets/controls",
            "_view_module_version": "1.5.0",
            "_view_name": "HTMLView",
            "description": "",
            "description_tooltip": null,
            "layout": "IPY_MODEL_2051a22683a247a0bd018a4fad5f8d27",
            "placeholder": "​",
            "style": "IPY_MODEL_65aae60a34ec48f0a2f105d65293a9ea",
            "value": " 499M/499M [00:03&lt;00:00, 149MB/s]"
          }
        },
        "394b312ac94a48158ac5abaac1004c6f": {
          "model_module": "@jupyter-widgets/base",
          "model_name": "LayoutModel",
          "model_module_version": "1.2.0",
          "state": {
            "_model_module": "@jupyter-widgets/base",
            "_model_module_version": "1.2.0",
            "_model_name": "LayoutModel",
            "_view_count": null,
            "_view_module": "@jupyter-widgets/base",
            "_view_module_version": "1.2.0",
            "_view_name": "LayoutView",
            "align_content": null,
            "align_items": null,
            "align_self": null,
            "border": null,
            "bottom": null,
            "display": null,
            "flex": null,
            "flex_flow": null,
            "grid_area": null,
            "grid_auto_columns": null,
            "grid_auto_flow": null,
            "grid_auto_rows": null,
            "grid_column": null,
            "grid_gap": null,
            "grid_row": null,
            "grid_template_areas": null,
            "grid_template_columns": null,
            "grid_template_rows": null,
            "height": null,
            "justify_content": null,
            "justify_items": null,
            "left": null,
            "margin": null,
            "max_height": null,
            "max_width": null,
            "min_height": null,
            "min_width": null,
            "object_fit": null,
            "object_position": null,
            "order": null,
            "overflow": null,
            "overflow_x": null,
            "overflow_y": null,
            "padding": null,
            "right": null,
            "top": null,
            "visibility": null,
            "width": null
          }
        },
        "162277a43a18495abff004dc5f1caefe": {
          "model_module": "@jupyter-widgets/base",
          "model_name": "LayoutModel",
          "model_module_version": "1.2.0",
          "state": {
            "_model_module": "@jupyter-widgets/base",
            "_model_module_version": "1.2.0",
            "_model_name": "LayoutModel",
            "_view_count": null,
            "_view_module": "@jupyter-widgets/base",
            "_view_module_version": "1.2.0",
            "_view_name": "LayoutView",
            "align_content": null,
            "align_items": null,
            "align_self": null,
            "border": null,
            "bottom": null,
            "display": null,
            "flex": null,
            "flex_flow": null,
            "grid_area": null,
            "grid_auto_columns": null,
            "grid_auto_flow": null,
            "grid_auto_rows": null,
            "grid_column": null,
            "grid_gap": null,
            "grid_row": null,
            "grid_template_areas": null,
            "grid_template_columns": null,
            "grid_template_rows": null,
            "height": null,
            "justify_content": null,
            "justify_items": null,
            "left": null,
            "margin": null,
            "max_height": null,
            "max_width": null,
            "min_height": null,
            "min_width": null,
            "object_fit": null,
            "object_position": null,
            "order": null,
            "overflow": null,
            "overflow_x": null,
            "overflow_y": null,
            "padding": null,
            "right": null,
            "top": null,
            "visibility": null,
            "width": null
          }
        },
        "d95b4f4f4bf3415a804aab4b92bc63c6": {
          "model_module": "@jupyter-widgets/controls",
          "model_name": "DescriptionStyleModel",
          "model_module_version": "1.5.0",
          "state": {
            "_model_module": "@jupyter-widgets/controls",
            "_model_module_version": "1.5.0",
            "_model_name": "DescriptionStyleModel",
            "_view_count": null,
            "_view_module": "@jupyter-widgets/base",
            "_view_module_version": "1.2.0",
            "_view_name": "StyleView",
            "description_width": ""
          }
        },
        "6d7cb45e425b450e9c308843372722ad": {
          "model_module": "@jupyter-widgets/base",
          "model_name": "LayoutModel",
          "model_module_version": "1.2.0",
          "state": {
            "_model_module": "@jupyter-widgets/base",
            "_model_module_version": "1.2.0",
            "_model_name": "LayoutModel",
            "_view_count": null,
            "_view_module": "@jupyter-widgets/base",
            "_view_module_version": "1.2.0",
            "_view_name": "LayoutView",
            "align_content": null,
            "align_items": null,
            "align_self": null,
            "border": null,
            "bottom": null,
            "display": null,
            "flex": null,
            "flex_flow": null,
            "grid_area": null,
            "grid_auto_columns": null,
            "grid_auto_flow": null,
            "grid_auto_rows": null,
            "grid_column": null,
            "grid_gap": null,
            "grid_row": null,
            "grid_template_areas": null,
            "grid_template_columns": null,
            "grid_template_rows": null,
            "height": null,
            "justify_content": null,
            "justify_items": null,
            "left": null,
            "margin": null,
            "max_height": null,
            "max_width": null,
            "min_height": null,
            "min_width": null,
            "object_fit": null,
            "object_position": null,
            "order": null,
            "overflow": null,
            "overflow_x": null,
            "overflow_y": null,
            "padding": null,
            "right": null,
            "top": null,
            "visibility": null,
            "width": null
          }
        },
        "07ab25011bfc439190e306d004bc01a0": {
          "model_module": "@jupyter-widgets/controls",
          "model_name": "ProgressStyleModel",
          "model_module_version": "1.5.0",
          "state": {
            "_model_module": "@jupyter-widgets/controls",
            "_model_module_version": "1.5.0",
            "_model_name": "ProgressStyleModel",
            "_view_count": null,
            "_view_module": "@jupyter-widgets/base",
            "_view_module_version": "1.2.0",
            "_view_name": "StyleView",
            "bar_color": null,
            "description_width": ""
          }
        },
        "2051a22683a247a0bd018a4fad5f8d27": {
          "model_module": "@jupyter-widgets/base",
          "model_name": "LayoutModel",
          "model_module_version": "1.2.0",
          "state": {
            "_model_module": "@jupyter-widgets/base",
            "_model_module_version": "1.2.0",
            "_model_name": "LayoutModel",
            "_view_count": null,
            "_view_module": "@jupyter-widgets/base",
            "_view_module_version": "1.2.0",
            "_view_name": "LayoutView",
            "align_content": null,
            "align_items": null,
            "align_self": null,
            "border": null,
            "bottom": null,
            "display": null,
            "flex": null,
            "flex_flow": null,
            "grid_area": null,
            "grid_auto_columns": null,
            "grid_auto_flow": null,
            "grid_auto_rows": null,
            "grid_column": null,
            "grid_gap": null,
            "grid_row": null,
            "grid_template_areas": null,
            "grid_template_columns": null,
            "grid_template_rows": null,
            "height": null,
            "justify_content": null,
            "justify_items": null,
            "left": null,
            "margin": null,
            "max_height": null,
            "max_width": null,
            "min_height": null,
            "min_width": null,
            "object_fit": null,
            "object_position": null,
            "order": null,
            "overflow": null,
            "overflow_x": null,
            "overflow_y": null,
            "padding": null,
            "right": null,
            "top": null,
            "visibility": null,
            "width": null
          }
        },
        "65aae60a34ec48f0a2f105d65293a9ea": {
          "model_module": "@jupyter-widgets/controls",
          "model_name": "DescriptionStyleModel",
          "model_module_version": "1.5.0",
          "state": {
            "_model_module": "@jupyter-widgets/controls",
            "_model_module_version": "1.5.0",
            "_model_name": "DescriptionStyleModel",
            "_view_count": null,
            "_view_module": "@jupyter-widgets/base",
            "_view_module_version": "1.2.0",
            "_view_name": "StyleView",
            "description_width": ""
          }
        },
        "beab901a9f8c4779a046fe05538bacda": {
          "model_module": "@jupyter-widgets/controls",
          "model_name": "HBoxModel",
          "model_module_version": "1.5.0",
          "state": {
            "_dom_classes": [],
            "_model_module": "@jupyter-widgets/controls",
            "_model_module_version": "1.5.0",
            "_model_name": "HBoxModel",
            "_view_count": null,
            "_view_module": "@jupyter-widgets/controls",
            "_view_module_version": "1.5.0",
            "_view_name": "HBoxView",
            "box_style": "",
            "children": [
              "IPY_MODEL_f3430a0a865e4560b9da5eb1b6d82806",
              "IPY_MODEL_3de15a368ac54de182a6d6922421b6d3",
              "IPY_MODEL_7c195aa1c82643139ba592b366bfe9c9"
            ],
            "layout": "IPY_MODEL_353c92212a4d41efb90661c653684dc3"
          }
        },
        "f3430a0a865e4560b9da5eb1b6d82806": {
          "model_module": "@jupyter-widgets/controls",
          "model_name": "HTMLModel",
          "model_module_version": "1.5.0",
          "state": {
            "_dom_classes": [],
            "_model_module": "@jupyter-widgets/controls",
            "_model_module_version": "1.5.0",
            "_model_name": "HTMLModel",
            "_view_count": null,
            "_view_module": "@jupyter-widgets/controls",
            "_view_module_version": "1.5.0",
            "_view_name": "HTMLView",
            "description": "",
            "description_tooltip": null,
            "layout": "IPY_MODEL_0274e516d5314a2fb88bb57da8f2f236",
            "placeholder": "​",
            "style": "IPY_MODEL_908f7ec886f441d0a841091b16e86212",
            "value": "tokenizer_config.json: 100%"
          }
        },
        "3de15a368ac54de182a6d6922421b6d3": {
          "model_module": "@jupyter-widgets/controls",
          "model_name": "FloatProgressModel",
          "model_module_version": "1.5.0",
          "state": {
            "_dom_classes": [],
            "_model_module": "@jupyter-widgets/controls",
            "_model_module_version": "1.5.0",
            "_model_name": "FloatProgressModel",
            "_view_count": null,
            "_view_module": "@jupyter-widgets/controls",
            "_view_module_version": "1.5.0",
            "_view_name": "ProgressView",
            "bar_style": "success",
            "description": "",
            "description_tooltip": null,
            "layout": "IPY_MODEL_597bf4510e04499fb18b9743d8767443",
            "max": 25,
            "min": 0,
            "orientation": "horizontal",
            "style": "IPY_MODEL_729f2052b378404dbb548510af50b045",
            "value": 25
          }
        },
        "7c195aa1c82643139ba592b366bfe9c9": {
          "model_module": "@jupyter-widgets/controls",
          "model_name": "HTMLModel",
          "model_module_version": "1.5.0",
          "state": {
            "_dom_classes": [],
            "_model_module": "@jupyter-widgets/controls",
            "_model_module_version": "1.5.0",
            "_model_name": "HTMLModel",
            "_view_count": null,
            "_view_module": "@jupyter-widgets/controls",
            "_view_module_version": "1.5.0",
            "_view_name": "HTMLView",
            "description": "",
            "description_tooltip": null,
            "layout": "IPY_MODEL_0b5d2023c3094905b62e54d08ce1ed00",
            "placeholder": "​",
            "style": "IPY_MODEL_0a485b1bd9bb4381b46796c05d96c268",
            "value": " 25.0/25.0 [00:00&lt;00:00, 1.03kB/s]"
          }
        },
        "353c92212a4d41efb90661c653684dc3": {
          "model_module": "@jupyter-widgets/base",
          "model_name": "LayoutModel",
          "model_module_version": "1.2.0",
          "state": {
            "_model_module": "@jupyter-widgets/base",
            "_model_module_version": "1.2.0",
            "_model_name": "LayoutModel",
            "_view_count": null,
            "_view_module": "@jupyter-widgets/base",
            "_view_module_version": "1.2.0",
            "_view_name": "LayoutView",
            "align_content": null,
            "align_items": null,
            "align_self": null,
            "border": null,
            "bottom": null,
            "display": null,
            "flex": null,
            "flex_flow": null,
            "grid_area": null,
            "grid_auto_columns": null,
            "grid_auto_flow": null,
            "grid_auto_rows": null,
            "grid_column": null,
            "grid_gap": null,
            "grid_row": null,
            "grid_template_areas": null,
            "grid_template_columns": null,
            "grid_template_rows": null,
            "height": null,
            "justify_content": null,
            "justify_items": null,
            "left": null,
            "margin": null,
            "max_height": null,
            "max_width": null,
            "min_height": null,
            "min_width": null,
            "object_fit": null,
            "object_position": null,
            "order": null,
            "overflow": null,
            "overflow_x": null,
            "overflow_y": null,
            "padding": null,
            "right": null,
            "top": null,
            "visibility": null,
            "width": null
          }
        },
        "0274e516d5314a2fb88bb57da8f2f236": {
          "model_module": "@jupyter-widgets/base",
          "model_name": "LayoutModel",
          "model_module_version": "1.2.0",
          "state": {
            "_model_module": "@jupyter-widgets/base",
            "_model_module_version": "1.2.0",
            "_model_name": "LayoutModel",
            "_view_count": null,
            "_view_module": "@jupyter-widgets/base",
            "_view_module_version": "1.2.0",
            "_view_name": "LayoutView",
            "align_content": null,
            "align_items": null,
            "align_self": null,
            "border": null,
            "bottom": null,
            "display": null,
            "flex": null,
            "flex_flow": null,
            "grid_area": null,
            "grid_auto_columns": null,
            "grid_auto_flow": null,
            "grid_auto_rows": null,
            "grid_column": null,
            "grid_gap": null,
            "grid_row": null,
            "grid_template_areas": null,
            "grid_template_columns": null,
            "grid_template_rows": null,
            "height": null,
            "justify_content": null,
            "justify_items": null,
            "left": null,
            "margin": null,
            "max_height": null,
            "max_width": null,
            "min_height": null,
            "min_width": null,
            "object_fit": null,
            "object_position": null,
            "order": null,
            "overflow": null,
            "overflow_x": null,
            "overflow_y": null,
            "padding": null,
            "right": null,
            "top": null,
            "visibility": null,
            "width": null
          }
        },
        "908f7ec886f441d0a841091b16e86212": {
          "model_module": "@jupyter-widgets/controls",
          "model_name": "DescriptionStyleModel",
          "model_module_version": "1.5.0",
          "state": {
            "_model_module": "@jupyter-widgets/controls",
            "_model_module_version": "1.5.0",
            "_model_name": "DescriptionStyleModel",
            "_view_count": null,
            "_view_module": "@jupyter-widgets/base",
            "_view_module_version": "1.2.0",
            "_view_name": "StyleView",
            "description_width": ""
          }
        },
        "597bf4510e04499fb18b9743d8767443": {
          "model_module": "@jupyter-widgets/base",
          "model_name": "LayoutModel",
          "model_module_version": "1.2.0",
          "state": {
            "_model_module": "@jupyter-widgets/base",
            "_model_module_version": "1.2.0",
            "_model_name": "LayoutModel",
            "_view_count": null,
            "_view_module": "@jupyter-widgets/base",
            "_view_module_version": "1.2.0",
            "_view_name": "LayoutView",
            "align_content": null,
            "align_items": null,
            "align_self": null,
            "border": null,
            "bottom": null,
            "display": null,
            "flex": null,
            "flex_flow": null,
            "grid_area": null,
            "grid_auto_columns": null,
            "grid_auto_flow": null,
            "grid_auto_rows": null,
            "grid_column": null,
            "grid_gap": null,
            "grid_row": null,
            "grid_template_areas": null,
            "grid_template_columns": null,
            "grid_template_rows": null,
            "height": null,
            "justify_content": null,
            "justify_items": null,
            "left": null,
            "margin": null,
            "max_height": null,
            "max_width": null,
            "min_height": null,
            "min_width": null,
            "object_fit": null,
            "object_position": null,
            "order": null,
            "overflow": null,
            "overflow_x": null,
            "overflow_y": null,
            "padding": null,
            "right": null,
            "top": null,
            "visibility": null,
            "width": null
          }
        },
        "729f2052b378404dbb548510af50b045": {
          "model_module": "@jupyter-widgets/controls",
          "model_name": "ProgressStyleModel",
          "model_module_version": "1.5.0",
          "state": {
            "_model_module": "@jupyter-widgets/controls",
            "_model_module_version": "1.5.0",
            "_model_name": "ProgressStyleModel",
            "_view_count": null,
            "_view_module": "@jupyter-widgets/base",
            "_view_module_version": "1.2.0",
            "_view_name": "StyleView",
            "bar_color": null,
            "description_width": ""
          }
        },
        "0b5d2023c3094905b62e54d08ce1ed00": {
          "model_module": "@jupyter-widgets/base",
          "model_name": "LayoutModel",
          "model_module_version": "1.2.0",
          "state": {
            "_model_module": "@jupyter-widgets/base",
            "_model_module_version": "1.2.0",
            "_model_name": "LayoutModel",
            "_view_count": null,
            "_view_module": "@jupyter-widgets/base",
            "_view_module_version": "1.2.0",
            "_view_name": "LayoutView",
            "align_content": null,
            "align_items": null,
            "align_self": null,
            "border": null,
            "bottom": null,
            "display": null,
            "flex": null,
            "flex_flow": null,
            "grid_area": null,
            "grid_auto_columns": null,
            "grid_auto_flow": null,
            "grid_auto_rows": null,
            "grid_column": null,
            "grid_gap": null,
            "grid_row": null,
            "grid_template_areas": null,
            "grid_template_columns": null,
            "grid_template_rows": null,
            "height": null,
            "justify_content": null,
            "justify_items": null,
            "left": null,
            "margin": null,
            "max_height": null,
            "max_width": null,
            "min_height": null,
            "min_width": null,
            "object_fit": null,
            "object_position": null,
            "order": null,
            "overflow": null,
            "overflow_x": null,
            "overflow_y": null,
            "padding": null,
            "right": null,
            "top": null,
            "visibility": null,
            "width": null
          }
        },
        "0a485b1bd9bb4381b46796c05d96c268": {
          "model_module": "@jupyter-widgets/controls",
          "model_name": "DescriptionStyleModel",
          "model_module_version": "1.5.0",
          "state": {
            "_model_module": "@jupyter-widgets/controls",
            "_model_module_version": "1.5.0",
            "_model_name": "DescriptionStyleModel",
            "_view_count": null,
            "_view_module": "@jupyter-widgets/base",
            "_view_module_version": "1.2.0",
            "_view_name": "StyleView",
            "description_width": ""
          }
        },
        "0195e094755b4d239d433d09b7d8c5d5": {
          "model_module": "@jupyter-widgets/controls",
          "model_name": "HBoxModel",
          "model_module_version": "1.5.0",
          "state": {
            "_dom_classes": [],
            "_model_module": "@jupyter-widgets/controls",
            "_model_module_version": "1.5.0",
            "_model_name": "HBoxModel",
            "_view_count": null,
            "_view_module": "@jupyter-widgets/controls",
            "_view_module_version": "1.5.0",
            "_view_name": "HBoxView",
            "box_style": "",
            "children": [
              "IPY_MODEL_ae78efe08e1245219fddf16893523178",
              "IPY_MODEL_c5d7124ea08f48048ecdfe89cd71772e",
              "IPY_MODEL_73900d29d60e48f893a67fe0aae76b6b"
            ],
            "layout": "IPY_MODEL_1203a6307eaf42209749da5adf38e332"
          }
        },
        "ae78efe08e1245219fddf16893523178": {
          "model_module": "@jupyter-widgets/controls",
          "model_name": "HTMLModel",
          "model_module_version": "1.5.0",
          "state": {
            "_dom_classes": [],
            "_model_module": "@jupyter-widgets/controls",
            "_model_module_version": "1.5.0",
            "_model_name": "HTMLModel",
            "_view_count": null,
            "_view_module": "@jupyter-widgets/controls",
            "_view_module_version": "1.5.0",
            "_view_name": "HTMLView",
            "description": "",
            "description_tooltip": null,
            "layout": "IPY_MODEL_eab2bd50a9624f8ba1ca716915d501af",
            "placeholder": "​",
            "style": "IPY_MODEL_884bd37a2beb471fa19b406305c6d53b",
            "value": "vocab.json: 100%"
          }
        },
        "c5d7124ea08f48048ecdfe89cd71772e": {
          "model_module": "@jupyter-widgets/controls",
          "model_name": "FloatProgressModel",
          "model_module_version": "1.5.0",
          "state": {
            "_dom_classes": [],
            "_model_module": "@jupyter-widgets/controls",
            "_model_module_version": "1.5.0",
            "_model_name": "FloatProgressModel",
            "_view_count": null,
            "_view_module": "@jupyter-widgets/controls",
            "_view_module_version": "1.5.0",
            "_view_name": "ProgressView",
            "bar_style": "success",
            "description": "",
            "description_tooltip": null,
            "layout": "IPY_MODEL_5387f37260c94dbcbbc9e0aee589d6cf",
            "max": 898823,
            "min": 0,
            "orientation": "horizontal",
            "style": "IPY_MODEL_ffc417c9d3104b5dadcb30f0dfff8c48",
            "value": 898823
          }
        },
        "73900d29d60e48f893a67fe0aae76b6b": {
          "model_module": "@jupyter-widgets/controls",
          "model_name": "HTMLModel",
          "model_module_version": "1.5.0",
          "state": {
            "_dom_classes": [],
            "_model_module": "@jupyter-widgets/controls",
            "_model_module_version": "1.5.0",
            "_model_name": "HTMLModel",
            "_view_count": null,
            "_view_module": "@jupyter-widgets/controls",
            "_view_module_version": "1.5.0",
            "_view_name": "HTMLView",
            "description": "",
            "description_tooltip": null,
            "layout": "IPY_MODEL_11b88b049a1a485f9cec64b01a0390e3",
            "placeholder": "​",
            "style": "IPY_MODEL_a2173a03090f42f5adef2d0ade258c8b",
            "value": " 899k/899k [00:00&lt;00:00, 5.93MB/s]"
          }
        },
        "1203a6307eaf42209749da5adf38e332": {
          "model_module": "@jupyter-widgets/base",
          "model_name": "LayoutModel",
          "model_module_version": "1.2.0",
          "state": {
            "_model_module": "@jupyter-widgets/base",
            "_model_module_version": "1.2.0",
            "_model_name": "LayoutModel",
            "_view_count": null,
            "_view_module": "@jupyter-widgets/base",
            "_view_module_version": "1.2.0",
            "_view_name": "LayoutView",
            "align_content": null,
            "align_items": null,
            "align_self": null,
            "border": null,
            "bottom": null,
            "display": null,
            "flex": null,
            "flex_flow": null,
            "grid_area": null,
            "grid_auto_columns": null,
            "grid_auto_flow": null,
            "grid_auto_rows": null,
            "grid_column": null,
            "grid_gap": null,
            "grid_row": null,
            "grid_template_areas": null,
            "grid_template_columns": null,
            "grid_template_rows": null,
            "height": null,
            "justify_content": null,
            "justify_items": null,
            "left": null,
            "margin": null,
            "max_height": null,
            "max_width": null,
            "min_height": null,
            "min_width": null,
            "object_fit": null,
            "object_position": null,
            "order": null,
            "overflow": null,
            "overflow_x": null,
            "overflow_y": null,
            "padding": null,
            "right": null,
            "top": null,
            "visibility": null,
            "width": null
          }
        },
        "eab2bd50a9624f8ba1ca716915d501af": {
          "model_module": "@jupyter-widgets/base",
          "model_name": "LayoutModel",
          "model_module_version": "1.2.0",
          "state": {
            "_model_module": "@jupyter-widgets/base",
            "_model_module_version": "1.2.0",
            "_model_name": "LayoutModel",
            "_view_count": null,
            "_view_module": "@jupyter-widgets/base",
            "_view_module_version": "1.2.0",
            "_view_name": "LayoutView",
            "align_content": null,
            "align_items": null,
            "align_self": null,
            "border": null,
            "bottom": null,
            "display": null,
            "flex": null,
            "flex_flow": null,
            "grid_area": null,
            "grid_auto_columns": null,
            "grid_auto_flow": null,
            "grid_auto_rows": null,
            "grid_column": null,
            "grid_gap": null,
            "grid_row": null,
            "grid_template_areas": null,
            "grid_template_columns": null,
            "grid_template_rows": null,
            "height": null,
            "justify_content": null,
            "justify_items": null,
            "left": null,
            "margin": null,
            "max_height": null,
            "max_width": null,
            "min_height": null,
            "min_width": null,
            "object_fit": null,
            "object_position": null,
            "order": null,
            "overflow": null,
            "overflow_x": null,
            "overflow_y": null,
            "padding": null,
            "right": null,
            "top": null,
            "visibility": null,
            "width": null
          }
        },
        "884bd37a2beb471fa19b406305c6d53b": {
          "model_module": "@jupyter-widgets/controls",
          "model_name": "DescriptionStyleModel",
          "model_module_version": "1.5.0",
          "state": {
            "_model_module": "@jupyter-widgets/controls",
            "_model_module_version": "1.5.0",
            "_model_name": "DescriptionStyleModel",
            "_view_count": null,
            "_view_module": "@jupyter-widgets/base",
            "_view_module_version": "1.2.0",
            "_view_name": "StyleView",
            "description_width": ""
          }
        },
        "5387f37260c94dbcbbc9e0aee589d6cf": {
          "model_module": "@jupyter-widgets/base",
          "model_name": "LayoutModel",
          "model_module_version": "1.2.0",
          "state": {
            "_model_module": "@jupyter-widgets/base",
            "_model_module_version": "1.2.0",
            "_model_name": "LayoutModel",
            "_view_count": null,
            "_view_module": "@jupyter-widgets/base",
            "_view_module_version": "1.2.0",
            "_view_name": "LayoutView",
            "align_content": null,
            "align_items": null,
            "align_self": null,
            "border": null,
            "bottom": null,
            "display": null,
            "flex": null,
            "flex_flow": null,
            "grid_area": null,
            "grid_auto_columns": null,
            "grid_auto_flow": null,
            "grid_auto_rows": null,
            "grid_column": null,
            "grid_gap": null,
            "grid_row": null,
            "grid_template_areas": null,
            "grid_template_columns": null,
            "grid_template_rows": null,
            "height": null,
            "justify_content": null,
            "justify_items": null,
            "left": null,
            "margin": null,
            "max_height": null,
            "max_width": null,
            "min_height": null,
            "min_width": null,
            "object_fit": null,
            "object_position": null,
            "order": null,
            "overflow": null,
            "overflow_x": null,
            "overflow_y": null,
            "padding": null,
            "right": null,
            "top": null,
            "visibility": null,
            "width": null
          }
        },
        "ffc417c9d3104b5dadcb30f0dfff8c48": {
          "model_module": "@jupyter-widgets/controls",
          "model_name": "ProgressStyleModel",
          "model_module_version": "1.5.0",
          "state": {
            "_model_module": "@jupyter-widgets/controls",
            "_model_module_version": "1.5.0",
            "_model_name": "ProgressStyleModel",
            "_view_count": null,
            "_view_module": "@jupyter-widgets/base",
            "_view_module_version": "1.2.0",
            "_view_name": "StyleView",
            "bar_color": null,
            "description_width": ""
          }
        },
        "11b88b049a1a485f9cec64b01a0390e3": {
          "model_module": "@jupyter-widgets/base",
          "model_name": "LayoutModel",
          "model_module_version": "1.2.0",
          "state": {
            "_model_module": "@jupyter-widgets/base",
            "_model_module_version": "1.2.0",
            "_model_name": "LayoutModel",
            "_view_count": null,
            "_view_module": "@jupyter-widgets/base",
            "_view_module_version": "1.2.0",
            "_view_name": "LayoutView",
            "align_content": null,
            "align_items": null,
            "align_self": null,
            "border": null,
            "bottom": null,
            "display": null,
            "flex": null,
            "flex_flow": null,
            "grid_area": null,
            "grid_auto_columns": null,
            "grid_auto_flow": null,
            "grid_auto_rows": null,
            "grid_column": null,
            "grid_gap": null,
            "grid_row": null,
            "grid_template_areas": null,
            "grid_template_columns": null,
            "grid_template_rows": null,
            "height": null,
            "justify_content": null,
            "justify_items": null,
            "left": null,
            "margin": null,
            "max_height": null,
            "max_width": null,
            "min_height": null,
            "min_width": null,
            "object_fit": null,
            "object_position": null,
            "order": null,
            "overflow": null,
            "overflow_x": null,
            "overflow_y": null,
            "padding": null,
            "right": null,
            "top": null,
            "visibility": null,
            "width": null
          }
        },
        "a2173a03090f42f5adef2d0ade258c8b": {
          "model_module": "@jupyter-widgets/controls",
          "model_name": "DescriptionStyleModel",
          "model_module_version": "1.5.0",
          "state": {
            "_model_module": "@jupyter-widgets/controls",
            "_model_module_version": "1.5.0",
            "_model_name": "DescriptionStyleModel",
            "_view_count": null,
            "_view_module": "@jupyter-widgets/base",
            "_view_module_version": "1.2.0",
            "_view_name": "StyleView",
            "description_width": ""
          }
        },
        "2dd4162820014ee9a570f0ce55b32e37": {
          "model_module": "@jupyter-widgets/controls",
          "model_name": "HBoxModel",
          "model_module_version": "1.5.0",
          "state": {
            "_dom_classes": [],
            "_model_module": "@jupyter-widgets/controls",
            "_model_module_version": "1.5.0",
            "_model_name": "HBoxModel",
            "_view_count": null,
            "_view_module": "@jupyter-widgets/controls",
            "_view_module_version": "1.5.0",
            "_view_name": "HBoxView",
            "box_style": "",
            "children": [
              "IPY_MODEL_934c8b0beaf84b7fb66ed1c493f74e23",
              "IPY_MODEL_1c269793f34f4d16b301cc00329c1552",
              "IPY_MODEL_39fb24ef7436461d9cdb35be93d033ed"
            ],
            "layout": "IPY_MODEL_a3b8424434c14d0f933a0ac6274b0df2"
          }
        },
        "934c8b0beaf84b7fb66ed1c493f74e23": {
          "model_module": "@jupyter-widgets/controls",
          "model_name": "HTMLModel",
          "model_module_version": "1.5.0",
          "state": {
            "_dom_classes": [],
            "_model_module": "@jupyter-widgets/controls",
            "_model_module_version": "1.5.0",
            "_model_name": "HTMLModel",
            "_view_count": null,
            "_view_module": "@jupyter-widgets/controls",
            "_view_module_version": "1.5.0",
            "_view_name": "HTMLView",
            "description": "",
            "description_tooltip": null,
            "layout": "IPY_MODEL_2c8247edf5a4405585c2744b0ef847a6",
            "placeholder": "​",
            "style": "IPY_MODEL_b475774625c34972b5424a1ccd59c7e5",
            "value": "merges.txt: 100%"
          }
        },
        "1c269793f34f4d16b301cc00329c1552": {
          "model_module": "@jupyter-widgets/controls",
          "model_name": "FloatProgressModel",
          "model_module_version": "1.5.0",
          "state": {
            "_dom_classes": [],
            "_model_module": "@jupyter-widgets/controls",
            "_model_module_version": "1.5.0",
            "_model_name": "FloatProgressModel",
            "_view_count": null,
            "_view_module": "@jupyter-widgets/controls",
            "_view_module_version": "1.5.0",
            "_view_name": "ProgressView",
            "bar_style": "success",
            "description": "",
            "description_tooltip": null,
            "layout": "IPY_MODEL_18bc8b2df95946fab4bc0221cb331433",
            "max": 456318,
            "min": 0,
            "orientation": "horizontal",
            "style": "IPY_MODEL_17d9c0312ea4495fb4c713ab3c3b989f",
            "value": 456318
          }
        },
        "39fb24ef7436461d9cdb35be93d033ed": {
          "model_module": "@jupyter-widgets/controls",
          "model_name": "HTMLModel",
          "model_module_version": "1.5.0",
          "state": {
            "_dom_classes": [],
            "_model_module": "@jupyter-widgets/controls",
            "_model_module_version": "1.5.0",
            "_model_name": "HTMLModel",
            "_view_count": null,
            "_view_module": "@jupyter-widgets/controls",
            "_view_module_version": "1.5.0",
            "_view_name": "HTMLView",
            "description": "",
            "description_tooltip": null,
            "layout": "IPY_MODEL_c1c19baf055441a28f84704732d2dcd8",
            "placeholder": "​",
            "style": "IPY_MODEL_1dd8f34b581949069874e090062c0d28",
            "value": " 456k/456k [00:00&lt;00:00, 10.6MB/s]"
          }
        },
        "a3b8424434c14d0f933a0ac6274b0df2": {
          "model_module": "@jupyter-widgets/base",
          "model_name": "LayoutModel",
          "model_module_version": "1.2.0",
          "state": {
            "_model_module": "@jupyter-widgets/base",
            "_model_module_version": "1.2.0",
            "_model_name": "LayoutModel",
            "_view_count": null,
            "_view_module": "@jupyter-widgets/base",
            "_view_module_version": "1.2.0",
            "_view_name": "LayoutView",
            "align_content": null,
            "align_items": null,
            "align_self": null,
            "border": null,
            "bottom": null,
            "display": null,
            "flex": null,
            "flex_flow": null,
            "grid_area": null,
            "grid_auto_columns": null,
            "grid_auto_flow": null,
            "grid_auto_rows": null,
            "grid_column": null,
            "grid_gap": null,
            "grid_row": null,
            "grid_template_areas": null,
            "grid_template_columns": null,
            "grid_template_rows": null,
            "height": null,
            "justify_content": null,
            "justify_items": null,
            "left": null,
            "margin": null,
            "max_height": null,
            "max_width": null,
            "min_height": null,
            "min_width": null,
            "object_fit": null,
            "object_position": null,
            "order": null,
            "overflow": null,
            "overflow_x": null,
            "overflow_y": null,
            "padding": null,
            "right": null,
            "top": null,
            "visibility": null,
            "width": null
          }
        },
        "2c8247edf5a4405585c2744b0ef847a6": {
          "model_module": "@jupyter-widgets/base",
          "model_name": "LayoutModel",
          "model_module_version": "1.2.0",
          "state": {
            "_model_module": "@jupyter-widgets/base",
            "_model_module_version": "1.2.0",
            "_model_name": "LayoutModel",
            "_view_count": null,
            "_view_module": "@jupyter-widgets/base",
            "_view_module_version": "1.2.0",
            "_view_name": "LayoutView",
            "align_content": null,
            "align_items": null,
            "align_self": null,
            "border": null,
            "bottom": null,
            "display": null,
            "flex": null,
            "flex_flow": null,
            "grid_area": null,
            "grid_auto_columns": null,
            "grid_auto_flow": null,
            "grid_auto_rows": null,
            "grid_column": null,
            "grid_gap": null,
            "grid_row": null,
            "grid_template_areas": null,
            "grid_template_columns": null,
            "grid_template_rows": null,
            "height": null,
            "justify_content": null,
            "justify_items": null,
            "left": null,
            "margin": null,
            "max_height": null,
            "max_width": null,
            "min_height": null,
            "min_width": null,
            "object_fit": null,
            "object_position": null,
            "order": null,
            "overflow": null,
            "overflow_x": null,
            "overflow_y": null,
            "padding": null,
            "right": null,
            "top": null,
            "visibility": null,
            "width": null
          }
        },
        "b475774625c34972b5424a1ccd59c7e5": {
          "model_module": "@jupyter-widgets/controls",
          "model_name": "DescriptionStyleModel",
          "model_module_version": "1.5.0",
          "state": {
            "_model_module": "@jupyter-widgets/controls",
            "_model_module_version": "1.5.0",
            "_model_name": "DescriptionStyleModel",
            "_view_count": null,
            "_view_module": "@jupyter-widgets/base",
            "_view_module_version": "1.2.0",
            "_view_name": "StyleView",
            "description_width": ""
          }
        },
        "18bc8b2df95946fab4bc0221cb331433": {
          "model_module": "@jupyter-widgets/base",
          "model_name": "LayoutModel",
          "model_module_version": "1.2.0",
          "state": {
            "_model_module": "@jupyter-widgets/base",
            "_model_module_version": "1.2.0",
            "_model_name": "LayoutModel",
            "_view_count": null,
            "_view_module": "@jupyter-widgets/base",
            "_view_module_version": "1.2.0",
            "_view_name": "LayoutView",
            "align_content": null,
            "align_items": null,
            "align_self": null,
            "border": null,
            "bottom": null,
            "display": null,
            "flex": null,
            "flex_flow": null,
            "grid_area": null,
            "grid_auto_columns": null,
            "grid_auto_flow": null,
            "grid_auto_rows": null,
            "grid_column": null,
            "grid_gap": null,
            "grid_row": null,
            "grid_template_areas": null,
            "grid_template_columns": null,
            "grid_template_rows": null,
            "height": null,
            "justify_content": null,
            "justify_items": null,
            "left": null,
            "margin": null,
            "max_height": null,
            "max_width": null,
            "min_height": null,
            "min_width": null,
            "object_fit": null,
            "object_position": null,
            "order": null,
            "overflow": null,
            "overflow_x": null,
            "overflow_y": null,
            "padding": null,
            "right": null,
            "top": null,
            "visibility": null,
            "width": null
          }
        },
        "17d9c0312ea4495fb4c713ab3c3b989f": {
          "model_module": "@jupyter-widgets/controls",
          "model_name": "ProgressStyleModel",
          "model_module_version": "1.5.0",
          "state": {
            "_model_module": "@jupyter-widgets/controls",
            "_model_module_version": "1.5.0",
            "_model_name": "ProgressStyleModel",
            "_view_count": null,
            "_view_module": "@jupyter-widgets/base",
            "_view_module_version": "1.2.0",
            "_view_name": "StyleView",
            "bar_color": null,
            "description_width": ""
          }
        },
        "c1c19baf055441a28f84704732d2dcd8": {
          "model_module": "@jupyter-widgets/base",
          "model_name": "LayoutModel",
          "model_module_version": "1.2.0",
          "state": {
            "_model_module": "@jupyter-widgets/base",
            "_model_module_version": "1.2.0",
            "_model_name": "LayoutModel",
            "_view_count": null,
            "_view_module": "@jupyter-widgets/base",
            "_view_module_version": "1.2.0",
            "_view_name": "LayoutView",
            "align_content": null,
            "align_items": null,
            "align_self": null,
            "border": null,
            "bottom": null,
            "display": null,
            "flex": null,
            "flex_flow": null,
            "grid_area": null,
            "grid_auto_columns": null,
            "grid_auto_flow": null,
            "grid_auto_rows": null,
            "grid_column": null,
            "grid_gap": null,
            "grid_row": null,
            "grid_template_areas": null,
            "grid_template_columns": null,
            "grid_template_rows": null,
            "height": null,
            "justify_content": null,
            "justify_items": null,
            "left": null,
            "margin": null,
            "max_height": null,
            "max_width": null,
            "min_height": null,
            "min_width": null,
            "object_fit": null,
            "object_position": null,
            "order": null,
            "overflow": null,
            "overflow_x": null,
            "overflow_y": null,
            "padding": null,
            "right": null,
            "top": null,
            "visibility": null,
            "width": null
          }
        },
        "1dd8f34b581949069874e090062c0d28": {
          "model_module": "@jupyter-widgets/controls",
          "model_name": "DescriptionStyleModel",
          "model_module_version": "1.5.0",
          "state": {
            "_model_module": "@jupyter-widgets/controls",
            "_model_module_version": "1.5.0",
            "_model_name": "DescriptionStyleModel",
            "_view_count": null,
            "_view_module": "@jupyter-widgets/base",
            "_view_module_version": "1.2.0",
            "_view_name": "StyleView",
            "description_width": ""
          }
        },
        "d3cafd1c38b64bc79eb308527dd48076": {
          "model_module": "@jupyter-widgets/controls",
          "model_name": "HBoxModel",
          "model_module_version": "1.5.0",
          "state": {
            "_dom_classes": [],
            "_model_module": "@jupyter-widgets/controls",
            "_model_module_version": "1.5.0",
            "_model_name": "HBoxModel",
            "_view_count": null,
            "_view_module": "@jupyter-widgets/controls",
            "_view_module_version": "1.5.0",
            "_view_name": "HBoxView",
            "box_style": "",
            "children": [
              "IPY_MODEL_54493294816942a792771ec0bf9a70fe",
              "IPY_MODEL_9d1dc0fbc4ff40698f858315d790f005",
              "IPY_MODEL_0fb072748da345a6abb7b09102533a7d"
            ],
            "layout": "IPY_MODEL_284912f97c4e49d5848dcd272465f367"
          }
        },
        "54493294816942a792771ec0bf9a70fe": {
          "model_module": "@jupyter-widgets/controls",
          "model_name": "HTMLModel",
          "model_module_version": "1.5.0",
          "state": {
            "_dom_classes": [],
            "_model_module": "@jupyter-widgets/controls",
            "_model_module_version": "1.5.0",
            "_model_name": "HTMLModel",
            "_view_count": null,
            "_view_module": "@jupyter-widgets/controls",
            "_view_module_version": "1.5.0",
            "_view_name": "HTMLView",
            "description": "",
            "description_tooltip": null,
            "layout": "IPY_MODEL_bf7dd5c7e89e4d64a080cac9799d4c13",
            "placeholder": "​",
            "style": "IPY_MODEL_5da8a5565e764cf3bdc3b681415dfab1",
            "value": "tokenizer.json: 100%"
          }
        },
        "9d1dc0fbc4ff40698f858315d790f005": {
          "model_module": "@jupyter-widgets/controls",
          "model_name": "FloatProgressModel",
          "model_module_version": "1.5.0",
          "state": {
            "_dom_classes": [],
            "_model_module": "@jupyter-widgets/controls",
            "_model_module_version": "1.5.0",
            "_model_name": "FloatProgressModel",
            "_view_count": null,
            "_view_module": "@jupyter-widgets/controls",
            "_view_module_version": "1.5.0",
            "_view_name": "ProgressView",
            "bar_style": "success",
            "description": "",
            "description_tooltip": null,
            "layout": "IPY_MODEL_b2d3f893bbd04c498377193ebb1c4844",
            "max": 1355863,
            "min": 0,
            "orientation": "horizontal",
            "style": "IPY_MODEL_8ab562f00e64440c8f02e1d41b16b964",
            "value": 1355863
          }
        },
        "0fb072748da345a6abb7b09102533a7d": {
          "model_module": "@jupyter-widgets/controls",
          "model_name": "HTMLModel",
          "model_module_version": "1.5.0",
          "state": {
            "_dom_classes": [],
            "_model_module": "@jupyter-widgets/controls",
            "_model_module_version": "1.5.0",
            "_model_name": "HTMLModel",
            "_view_count": null,
            "_view_module": "@jupyter-widgets/controls",
            "_view_module_version": "1.5.0",
            "_view_name": "HTMLView",
            "description": "",
            "description_tooltip": null,
            "layout": "IPY_MODEL_7a97c38abec7481dac91b6177f8e8de0",
            "placeholder": "​",
            "style": "IPY_MODEL_a28b4230759e46b08791944ad78f2499",
            "value": " 1.36M/1.36M [00:00&lt;00:00, 15.9MB/s]"
          }
        },
        "284912f97c4e49d5848dcd272465f367": {
          "model_module": "@jupyter-widgets/base",
          "model_name": "LayoutModel",
          "model_module_version": "1.2.0",
          "state": {
            "_model_module": "@jupyter-widgets/base",
            "_model_module_version": "1.2.0",
            "_model_name": "LayoutModel",
            "_view_count": null,
            "_view_module": "@jupyter-widgets/base",
            "_view_module_version": "1.2.0",
            "_view_name": "LayoutView",
            "align_content": null,
            "align_items": null,
            "align_self": null,
            "border": null,
            "bottom": null,
            "display": null,
            "flex": null,
            "flex_flow": null,
            "grid_area": null,
            "grid_auto_columns": null,
            "grid_auto_flow": null,
            "grid_auto_rows": null,
            "grid_column": null,
            "grid_gap": null,
            "grid_row": null,
            "grid_template_areas": null,
            "grid_template_columns": null,
            "grid_template_rows": null,
            "height": null,
            "justify_content": null,
            "justify_items": null,
            "left": null,
            "margin": null,
            "max_height": null,
            "max_width": null,
            "min_height": null,
            "min_width": null,
            "object_fit": null,
            "object_position": null,
            "order": null,
            "overflow": null,
            "overflow_x": null,
            "overflow_y": null,
            "padding": null,
            "right": null,
            "top": null,
            "visibility": null,
            "width": null
          }
        },
        "bf7dd5c7e89e4d64a080cac9799d4c13": {
          "model_module": "@jupyter-widgets/base",
          "model_name": "LayoutModel",
          "model_module_version": "1.2.0",
          "state": {
            "_model_module": "@jupyter-widgets/base",
            "_model_module_version": "1.2.0",
            "_model_name": "LayoutModel",
            "_view_count": null,
            "_view_module": "@jupyter-widgets/base",
            "_view_module_version": "1.2.0",
            "_view_name": "LayoutView",
            "align_content": null,
            "align_items": null,
            "align_self": null,
            "border": null,
            "bottom": null,
            "display": null,
            "flex": null,
            "flex_flow": null,
            "grid_area": null,
            "grid_auto_columns": null,
            "grid_auto_flow": null,
            "grid_auto_rows": null,
            "grid_column": null,
            "grid_gap": null,
            "grid_row": null,
            "grid_template_areas": null,
            "grid_template_columns": null,
            "grid_template_rows": null,
            "height": null,
            "justify_content": null,
            "justify_items": null,
            "left": null,
            "margin": null,
            "max_height": null,
            "max_width": null,
            "min_height": null,
            "min_width": null,
            "object_fit": null,
            "object_position": null,
            "order": null,
            "overflow": null,
            "overflow_x": null,
            "overflow_y": null,
            "padding": null,
            "right": null,
            "top": null,
            "visibility": null,
            "width": null
          }
        },
        "5da8a5565e764cf3bdc3b681415dfab1": {
          "model_module": "@jupyter-widgets/controls",
          "model_name": "DescriptionStyleModel",
          "model_module_version": "1.5.0",
          "state": {
            "_model_module": "@jupyter-widgets/controls",
            "_model_module_version": "1.5.0",
            "_model_name": "DescriptionStyleModel",
            "_view_count": null,
            "_view_module": "@jupyter-widgets/base",
            "_view_module_version": "1.2.0",
            "_view_name": "StyleView",
            "description_width": ""
          }
        },
        "b2d3f893bbd04c498377193ebb1c4844": {
          "model_module": "@jupyter-widgets/base",
          "model_name": "LayoutModel",
          "model_module_version": "1.2.0",
          "state": {
            "_model_module": "@jupyter-widgets/base",
            "_model_module_version": "1.2.0",
            "_model_name": "LayoutModel",
            "_view_count": null,
            "_view_module": "@jupyter-widgets/base",
            "_view_module_version": "1.2.0",
            "_view_name": "LayoutView",
            "align_content": null,
            "align_items": null,
            "align_self": null,
            "border": null,
            "bottom": null,
            "display": null,
            "flex": null,
            "flex_flow": null,
            "grid_area": null,
            "grid_auto_columns": null,
            "grid_auto_flow": null,
            "grid_auto_rows": null,
            "grid_column": null,
            "grid_gap": null,
            "grid_row": null,
            "grid_template_areas": null,
            "grid_template_columns": null,
            "grid_template_rows": null,
            "height": null,
            "justify_content": null,
            "justify_items": null,
            "left": null,
            "margin": null,
            "max_height": null,
            "max_width": null,
            "min_height": null,
            "min_width": null,
            "object_fit": null,
            "object_position": null,
            "order": null,
            "overflow": null,
            "overflow_x": null,
            "overflow_y": null,
            "padding": null,
            "right": null,
            "top": null,
            "visibility": null,
            "width": null
          }
        },
        "8ab562f00e64440c8f02e1d41b16b964": {
          "model_module": "@jupyter-widgets/controls",
          "model_name": "ProgressStyleModel",
          "model_module_version": "1.5.0",
          "state": {
            "_model_module": "@jupyter-widgets/controls",
            "_model_module_version": "1.5.0",
            "_model_name": "ProgressStyleModel",
            "_view_count": null,
            "_view_module": "@jupyter-widgets/base",
            "_view_module_version": "1.2.0",
            "_view_name": "StyleView",
            "bar_color": null,
            "description_width": ""
          }
        },
        "7a97c38abec7481dac91b6177f8e8de0": {
          "model_module": "@jupyter-widgets/base",
          "model_name": "LayoutModel",
          "model_module_version": "1.2.0",
          "state": {
            "_model_module": "@jupyter-widgets/base",
            "_model_module_version": "1.2.0",
            "_model_name": "LayoutModel",
            "_view_count": null,
            "_view_module": "@jupyter-widgets/base",
            "_view_module_version": "1.2.0",
            "_view_name": "LayoutView",
            "align_content": null,
            "align_items": null,
            "align_self": null,
            "border": null,
            "bottom": null,
            "display": null,
            "flex": null,
            "flex_flow": null,
            "grid_area": null,
            "grid_auto_columns": null,
            "grid_auto_flow": null,
            "grid_auto_rows": null,
            "grid_column": null,
            "grid_gap": null,
            "grid_row": null,
            "grid_template_areas": null,
            "grid_template_columns": null,
            "grid_template_rows": null,
            "height": null,
            "justify_content": null,
            "justify_items": null,
            "left": null,
            "margin": null,
            "max_height": null,
            "max_width": null,
            "min_height": null,
            "min_width": null,
            "object_fit": null,
            "object_position": null,
            "order": null,
            "overflow": null,
            "overflow_x": null,
            "overflow_y": null,
            "padding": null,
            "right": null,
            "top": null,
            "visibility": null,
            "width": null
          }
        },
        "a28b4230759e46b08791944ad78f2499": {
          "model_module": "@jupyter-widgets/controls",
          "model_name": "DescriptionStyleModel",
          "model_module_version": "1.5.0",
          "state": {
            "_model_module": "@jupyter-widgets/controls",
            "_model_module_version": "1.5.0",
            "_model_name": "DescriptionStyleModel",
            "_view_count": null,
            "_view_module": "@jupyter-widgets/base",
            "_view_module_version": "1.2.0",
            "_view_name": "StyleView",
            "description_width": ""
          }
        }
      }
    }
  },
  "nbformat": 4,
  "nbformat_minor": 0
}