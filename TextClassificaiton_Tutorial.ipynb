{
  "nbformat": 4,
  "nbformat_minor": 0,
  "metadata": {
    "colab": {
      "provenance": [],
      "authorship_tag": "ABX9TyNgzJWYBtvmCfMhhot5Ow7K",
      "include_colab_link": true
    },
    "kernelspec": {
      "name": "python3",
      "display_name": "Python 3"
    },
    "language_info": {
      "name": "python"
    },
    "widgets": {
      "application/vnd.jupyter.widget-state+json": {
        "64a244dcdce9412bbea652b92ccd39fc": {
          "model_module": "@jupyter-widgets/controls",
          "model_name": "HBoxModel",
          "model_module_version": "1.5.0",
          "state": {
            "_dom_classes": [],
            "_model_module": "@jupyter-widgets/controls",
            "_model_module_version": "1.5.0",
            "_model_name": "HBoxModel",
            "_view_count": null,
            "_view_module": "@jupyter-widgets/controls",
            "_view_module_version": "1.5.0",
            "_view_name": "HBoxView",
            "box_style": "",
            "children": [
              "IPY_MODEL_fd91696040dc4100aebfa0d46344b9bf",
              "IPY_MODEL_309725bb197249ea93a910016872f065",
              "IPY_MODEL_f8565c602ceb4deba75178fe5e1b6b99"
            ],
            "layout": "IPY_MODEL_df0c077bd5ef47e6bfc6c9070f851039"
          }
        },
        "fd91696040dc4100aebfa0d46344b9bf": {
          "model_module": "@jupyter-widgets/controls",
          "model_name": "HTMLModel",
          "model_module_version": "1.5.0",
          "state": {
            "_dom_classes": [],
            "_model_module": "@jupyter-widgets/controls",
            "_model_module_version": "1.5.0",
            "_model_name": "HTMLModel",
            "_view_count": null,
            "_view_module": "@jupyter-widgets/controls",
            "_view_module_version": "1.5.0",
            "_view_name": "HTMLView",
            "description": "",
            "description_tooltip": null,
            "layout": "IPY_MODEL_9e2b1bc573e24fecab4cd5b9cac4c138",
            "placeholder": "​",
            "style": "IPY_MODEL_ad195a241e68483981b3b2b0db02eca4",
            "value": "Downloading (…)lve/main/config.json: 100%"
          }
        },
        "309725bb197249ea93a910016872f065": {
          "model_module": "@jupyter-widgets/controls",
          "model_name": "FloatProgressModel",
          "model_module_version": "1.5.0",
          "state": {
            "_dom_classes": [],
            "_model_module": "@jupyter-widgets/controls",
            "_model_module_version": "1.5.0",
            "_model_name": "FloatProgressModel",
            "_view_count": null,
            "_view_module": "@jupyter-widgets/controls",
            "_view_module_version": "1.5.0",
            "_view_name": "ProgressView",
            "bar_style": "success",
            "description": "",
            "description_tooltip": null,
            "layout": "IPY_MODEL_3660c6c85bba4576b1105041cf191044",
            "max": 481,
            "min": 0,
            "orientation": "horizontal",
            "style": "IPY_MODEL_8118555b62e141ce894c68c788371139",
            "value": 481
          }
        },
        "f8565c602ceb4deba75178fe5e1b6b99": {
          "model_module": "@jupyter-widgets/controls",
          "model_name": "HTMLModel",
          "model_module_version": "1.5.0",
          "state": {
            "_dom_classes": [],
            "_model_module": "@jupyter-widgets/controls",
            "_model_module_version": "1.5.0",
            "_model_name": "HTMLModel",
            "_view_count": null,
            "_view_module": "@jupyter-widgets/controls",
            "_view_module_version": "1.5.0",
            "_view_name": "HTMLView",
            "description": "",
            "description_tooltip": null,
            "layout": "IPY_MODEL_9e7437b621de4847bc4030099719a310",
            "placeholder": "​",
            "style": "IPY_MODEL_7c8f3f8ebaf645e096e389ebf9ddcfc3",
            "value": " 481/481 [00:00&lt;00:00, 6.96kB/s]"
          }
        },
        "df0c077bd5ef47e6bfc6c9070f851039": {
          "model_module": "@jupyter-widgets/base",
          "model_name": "LayoutModel",
          "model_module_version": "1.2.0",
          "state": {
            "_model_module": "@jupyter-widgets/base",
            "_model_module_version": "1.2.0",
            "_model_name": "LayoutModel",
            "_view_count": null,
            "_view_module": "@jupyter-widgets/base",
            "_view_module_version": "1.2.0",
            "_view_name": "LayoutView",
            "align_content": null,
            "align_items": null,
            "align_self": null,
            "border": null,
            "bottom": null,
            "display": null,
            "flex": null,
            "flex_flow": null,
            "grid_area": null,
            "grid_auto_columns": null,
            "grid_auto_flow": null,
            "grid_auto_rows": null,
            "grid_column": null,
            "grid_gap": null,
            "grid_row": null,
            "grid_template_areas": null,
            "grid_template_columns": null,
            "grid_template_rows": null,
            "height": null,
            "justify_content": null,
            "justify_items": null,
            "left": null,
            "margin": null,
            "max_height": null,
            "max_width": null,
            "min_height": null,
            "min_width": null,
            "object_fit": null,
            "object_position": null,
            "order": null,
            "overflow": null,
            "overflow_x": null,
            "overflow_y": null,
            "padding": null,
            "right": null,
            "top": null,
            "visibility": null,
            "width": null
          }
        },
        "9e2b1bc573e24fecab4cd5b9cac4c138": {
          "model_module": "@jupyter-widgets/base",
          "model_name": "LayoutModel",
          "model_module_version": "1.2.0",
          "state": {
            "_model_module": "@jupyter-widgets/base",
            "_model_module_version": "1.2.0",
            "_model_name": "LayoutModel",
            "_view_count": null,
            "_view_module": "@jupyter-widgets/base",
            "_view_module_version": "1.2.0",
            "_view_name": "LayoutView",
            "align_content": null,
            "align_items": null,
            "align_self": null,
            "border": null,
            "bottom": null,
            "display": null,
            "flex": null,
            "flex_flow": null,
            "grid_area": null,
            "grid_auto_columns": null,
            "grid_auto_flow": null,
            "grid_auto_rows": null,
            "grid_column": null,
            "grid_gap": null,
            "grid_row": null,
            "grid_template_areas": null,
            "grid_template_columns": null,
            "grid_template_rows": null,
            "height": null,
            "justify_content": null,
            "justify_items": null,
            "left": null,
            "margin": null,
            "max_height": null,
            "max_width": null,
            "min_height": null,
            "min_width": null,
            "object_fit": null,
            "object_position": null,
            "order": null,
            "overflow": null,
            "overflow_x": null,
            "overflow_y": null,
            "padding": null,
            "right": null,
            "top": null,
            "visibility": null,
            "width": null
          }
        },
        "ad195a241e68483981b3b2b0db02eca4": {
          "model_module": "@jupyter-widgets/controls",
          "model_name": "DescriptionStyleModel",
          "model_module_version": "1.5.0",
          "state": {
            "_model_module": "@jupyter-widgets/controls",
            "_model_module_version": "1.5.0",
            "_model_name": "DescriptionStyleModel",
            "_view_count": null,
            "_view_module": "@jupyter-widgets/base",
            "_view_module_version": "1.2.0",
            "_view_name": "StyleView",
            "description_width": ""
          }
        },
        "3660c6c85bba4576b1105041cf191044": {
          "model_module": "@jupyter-widgets/base",
          "model_name": "LayoutModel",
          "model_module_version": "1.2.0",
          "state": {
            "_model_module": "@jupyter-widgets/base",
            "_model_module_version": "1.2.0",
            "_model_name": "LayoutModel",
            "_view_count": null,
            "_view_module": "@jupyter-widgets/base",
            "_view_module_version": "1.2.0",
            "_view_name": "LayoutView",
            "align_content": null,
            "align_items": null,
            "align_self": null,
            "border": null,
            "bottom": null,
            "display": null,
            "flex": null,
            "flex_flow": null,
            "grid_area": null,
            "grid_auto_columns": null,
            "grid_auto_flow": null,
            "grid_auto_rows": null,
            "grid_column": null,
            "grid_gap": null,
            "grid_row": null,
            "grid_template_areas": null,
            "grid_template_columns": null,
            "grid_template_rows": null,
            "height": null,
            "justify_content": null,
            "justify_items": null,
            "left": null,
            "margin": null,
            "max_height": null,
            "max_width": null,
            "min_height": null,
            "min_width": null,
            "object_fit": null,
            "object_position": null,
            "order": null,
            "overflow": null,
            "overflow_x": null,
            "overflow_y": null,
            "padding": null,
            "right": null,
            "top": null,
            "visibility": null,
            "width": null
          }
        },
        "8118555b62e141ce894c68c788371139": {
          "model_module": "@jupyter-widgets/controls",
          "model_name": "ProgressStyleModel",
          "model_module_version": "1.5.0",
          "state": {
            "_model_module": "@jupyter-widgets/controls",
            "_model_module_version": "1.5.0",
            "_model_name": "ProgressStyleModel",
            "_view_count": null,
            "_view_module": "@jupyter-widgets/base",
            "_view_module_version": "1.2.0",
            "_view_name": "StyleView",
            "bar_color": null,
            "description_width": ""
          }
        },
        "9e7437b621de4847bc4030099719a310": {
          "model_module": "@jupyter-widgets/base",
          "model_name": "LayoutModel",
          "model_module_version": "1.2.0",
          "state": {
            "_model_module": "@jupyter-widgets/base",
            "_model_module_version": "1.2.0",
            "_model_name": "LayoutModel",
            "_view_count": null,
            "_view_module": "@jupyter-widgets/base",
            "_view_module_version": "1.2.0",
            "_view_name": "LayoutView",
            "align_content": null,
            "align_items": null,
            "align_self": null,
            "border": null,
            "bottom": null,
            "display": null,
            "flex": null,
            "flex_flow": null,
            "grid_area": null,
            "grid_auto_columns": null,
            "grid_auto_flow": null,
            "grid_auto_rows": null,
            "grid_column": null,
            "grid_gap": null,
            "grid_row": null,
            "grid_template_areas": null,
            "grid_template_columns": null,
            "grid_template_rows": null,
            "height": null,
            "justify_content": null,
            "justify_items": null,
            "left": null,
            "margin": null,
            "max_height": null,
            "max_width": null,
            "min_height": null,
            "min_width": null,
            "object_fit": null,
            "object_position": null,
            "order": null,
            "overflow": null,
            "overflow_x": null,
            "overflow_y": null,
            "padding": null,
            "right": null,
            "top": null,
            "visibility": null,
            "width": null
          }
        },
        "7c8f3f8ebaf645e096e389ebf9ddcfc3": {
          "model_module": "@jupyter-widgets/controls",
          "model_name": "DescriptionStyleModel",
          "model_module_version": "1.5.0",
          "state": {
            "_model_module": "@jupyter-widgets/controls",
            "_model_module_version": "1.5.0",
            "_model_name": "DescriptionStyleModel",
            "_view_count": null,
            "_view_module": "@jupyter-widgets/base",
            "_view_module_version": "1.2.0",
            "_view_name": "StyleView",
            "description_width": ""
          }
        },
        "3b82230b86124dbdbd38631aec625743": {
          "model_module": "@jupyter-widgets/controls",
          "model_name": "HBoxModel",
          "model_module_version": "1.5.0",
          "state": {
            "_dom_classes": [],
            "_model_module": "@jupyter-widgets/controls",
            "_model_module_version": "1.5.0",
            "_model_name": "HBoxModel",
            "_view_count": null,
            "_view_module": "@jupyter-widgets/controls",
            "_view_module_version": "1.5.0",
            "_view_name": "HBoxView",
            "box_style": "",
            "children": [
              "IPY_MODEL_fe36737538234367a186f31e5429f4ae",
              "IPY_MODEL_9fa514ad487c450bb2536b3e6bd41c74",
              "IPY_MODEL_397dfd1f167a47caa00a87e8a2820c80"
            ],
            "layout": "IPY_MODEL_5f2cddee25844a7e83cef1fcd213845c"
          }
        },
        "fe36737538234367a186f31e5429f4ae": {
          "model_module": "@jupyter-widgets/controls",
          "model_name": "HTMLModel",
          "model_module_version": "1.5.0",
          "state": {
            "_dom_classes": [],
            "_model_module": "@jupyter-widgets/controls",
            "_model_module_version": "1.5.0",
            "_model_name": "HTMLModel",
            "_view_count": null,
            "_view_module": "@jupyter-widgets/controls",
            "_view_module_version": "1.5.0",
            "_view_name": "HTMLView",
            "description": "",
            "description_tooltip": null,
            "layout": "IPY_MODEL_5b036a92fbf44487936603b910f0cae7",
            "placeholder": "​",
            "style": "IPY_MODEL_74746bf72d264d029e13571778630b32",
            "value": "Downloading model.safetensors: 100%"
          }
        },
        "9fa514ad487c450bb2536b3e6bd41c74": {
          "model_module": "@jupyter-widgets/controls",
          "model_name": "FloatProgressModel",
          "model_module_version": "1.5.0",
          "state": {
            "_dom_classes": [],
            "_model_module": "@jupyter-widgets/controls",
            "_model_module_version": "1.5.0",
            "_model_name": "FloatProgressModel",
            "_view_count": null,
            "_view_module": "@jupyter-widgets/controls",
            "_view_module_version": "1.5.0",
            "_view_name": "ProgressView",
            "bar_style": "success",
            "description": "",
            "description_tooltip": null,
            "layout": "IPY_MODEL_ee22b1ab6fd747bea11b93df88ddd47b",
            "max": 498818054,
            "min": 0,
            "orientation": "horizontal",
            "style": "IPY_MODEL_9cd0830d681a45c68fe1fb8b61fcd1d2",
            "value": 498818054
          }
        },
        "397dfd1f167a47caa00a87e8a2820c80": {
          "model_module": "@jupyter-widgets/controls",
          "model_name": "HTMLModel",
          "model_module_version": "1.5.0",
          "state": {
            "_dom_classes": [],
            "_model_module": "@jupyter-widgets/controls",
            "_model_module_version": "1.5.0",
            "_model_name": "HTMLModel",
            "_view_count": null,
            "_view_module": "@jupyter-widgets/controls",
            "_view_module_version": "1.5.0",
            "_view_name": "HTMLView",
            "description": "",
            "description_tooltip": null,
            "layout": "IPY_MODEL_7e922cdb6cb949c48785268fd49ffc16",
            "placeholder": "​",
            "style": "IPY_MODEL_550190b45cfa47098e5e6ca0b3d502d8",
            "value": " 499M/499M [00:05&lt;00:00, 132MB/s]"
          }
        },
        "5f2cddee25844a7e83cef1fcd213845c": {
          "model_module": "@jupyter-widgets/base",
          "model_name": "LayoutModel",
          "model_module_version": "1.2.0",
          "state": {
            "_model_module": "@jupyter-widgets/base",
            "_model_module_version": "1.2.0",
            "_model_name": "LayoutModel",
            "_view_count": null,
            "_view_module": "@jupyter-widgets/base",
            "_view_module_version": "1.2.0",
            "_view_name": "LayoutView",
            "align_content": null,
            "align_items": null,
            "align_self": null,
            "border": null,
            "bottom": null,
            "display": null,
            "flex": null,
            "flex_flow": null,
            "grid_area": null,
            "grid_auto_columns": null,
            "grid_auto_flow": null,
            "grid_auto_rows": null,
            "grid_column": null,
            "grid_gap": null,
            "grid_row": null,
            "grid_template_areas": null,
            "grid_template_columns": null,
            "grid_template_rows": null,
            "height": null,
            "justify_content": null,
            "justify_items": null,
            "left": null,
            "margin": null,
            "max_height": null,
            "max_width": null,
            "min_height": null,
            "min_width": null,
            "object_fit": null,
            "object_position": null,
            "order": null,
            "overflow": null,
            "overflow_x": null,
            "overflow_y": null,
            "padding": null,
            "right": null,
            "top": null,
            "visibility": null,
            "width": null
          }
        },
        "5b036a92fbf44487936603b910f0cae7": {
          "model_module": "@jupyter-widgets/base",
          "model_name": "LayoutModel",
          "model_module_version": "1.2.0",
          "state": {
            "_model_module": "@jupyter-widgets/base",
            "_model_module_version": "1.2.0",
            "_model_name": "LayoutModel",
            "_view_count": null,
            "_view_module": "@jupyter-widgets/base",
            "_view_module_version": "1.2.0",
            "_view_name": "LayoutView",
            "align_content": null,
            "align_items": null,
            "align_self": null,
            "border": null,
            "bottom": null,
            "display": null,
            "flex": null,
            "flex_flow": null,
            "grid_area": null,
            "grid_auto_columns": null,
            "grid_auto_flow": null,
            "grid_auto_rows": null,
            "grid_column": null,
            "grid_gap": null,
            "grid_row": null,
            "grid_template_areas": null,
            "grid_template_columns": null,
            "grid_template_rows": null,
            "height": null,
            "justify_content": null,
            "justify_items": null,
            "left": null,
            "margin": null,
            "max_height": null,
            "max_width": null,
            "min_height": null,
            "min_width": null,
            "object_fit": null,
            "object_position": null,
            "order": null,
            "overflow": null,
            "overflow_x": null,
            "overflow_y": null,
            "padding": null,
            "right": null,
            "top": null,
            "visibility": null,
            "width": null
          }
        },
        "74746bf72d264d029e13571778630b32": {
          "model_module": "@jupyter-widgets/controls",
          "model_name": "DescriptionStyleModel",
          "model_module_version": "1.5.0",
          "state": {
            "_model_module": "@jupyter-widgets/controls",
            "_model_module_version": "1.5.0",
            "_model_name": "DescriptionStyleModel",
            "_view_count": null,
            "_view_module": "@jupyter-widgets/base",
            "_view_module_version": "1.2.0",
            "_view_name": "StyleView",
            "description_width": ""
          }
        },
        "ee22b1ab6fd747bea11b93df88ddd47b": {
          "model_module": "@jupyter-widgets/base",
          "model_name": "LayoutModel",
          "model_module_version": "1.2.0",
          "state": {
            "_model_module": "@jupyter-widgets/base",
            "_model_module_version": "1.2.0",
            "_model_name": "LayoutModel",
            "_view_count": null,
            "_view_module": "@jupyter-widgets/base",
            "_view_module_version": "1.2.0",
            "_view_name": "LayoutView",
            "align_content": null,
            "align_items": null,
            "align_self": null,
            "border": null,
            "bottom": null,
            "display": null,
            "flex": null,
            "flex_flow": null,
            "grid_area": null,
            "grid_auto_columns": null,
            "grid_auto_flow": null,
            "grid_auto_rows": null,
            "grid_column": null,
            "grid_gap": null,
            "grid_row": null,
            "grid_template_areas": null,
            "grid_template_columns": null,
            "grid_template_rows": null,
            "height": null,
            "justify_content": null,
            "justify_items": null,
            "left": null,
            "margin": null,
            "max_height": null,
            "max_width": null,
            "min_height": null,
            "min_width": null,
            "object_fit": null,
            "object_position": null,
            "order": null,
            "overflow": null,
            "overflow_x": null,
            "overflow_y": null,
            "padding": null,
            "right": null,
            "top": null,
            "visibility": null,
            "width": null
          }
        },
        "9cd0830d681a45c68fe1fb8b61fcd1d2": {
          "model_module": "@jupyter-widgets/controls",
          "model_name": "ProgressStyleModel",
          "model_module_version": "1.5.0",
          "state": {
            "_model_module": "@jupyter-widgets/controls",
            "_model_module_version": "1.5.0",
            "_model_name": "ProgressStyleModel",
            "_view_count": null,
            "_view_module": "@jupyter-widgets/base",
            "_view_module_version": "1.2.0",
            "_view_name": "StyleView",
            "bar_color": null,
            "description_width": ""
          }
        },
        "7e922cdb6cb949c48785268fd49ffc16": {
          "model_module": "@jupyter-widgets/base",
          "model_name": "LayoutModel",
          "model_module_version": "1.2.0",
          "state": {
            "_model_module": "@jupyter-widgets/base",
            "_model_module_version": "1.2.0",
            "_model_name": "LayoutModel",
            "_view_count": null,
            "_view_module": "@jupyter-widgets/base",
            "_view_module_version": "1.2.0",
            "_view_name": "LayoutView",
            "align_content": null,
            "align_items": null,
            "align_self": null,
            "border": null,
            "bottom": null,
            "display": null,
            "flex": null,
            "flex_flow": null,
            "grid_area": null,
            "grid_auto_columns": null,
            "grid_auto_flow": null,
            "grid_auto_rows": null,
            "grid_column": null,
            "grid_gap": null,
            "grid_row": null,
            "grid_template_areas": null,
            "grid_template_columns": null,
            "grid_template_rows": null,
            "height": null,
            "justify_content": null,
            "justify_items": null,
            "left": null,
            "margin": null,
            "max_height": null,
            "max_width": null,
            "min_height": null,
            "min_width": null,
            "object_fit": null,
            "object_position": null,
            "order": null,
            "overflow": null,
            "overflow_x": null,
            "overflow_y": null,
            "padding": null,
            "right": null,
            "top": null,
            "visibility": null,
            "width": null
          }
        },
        "550190b45cfa47098e5e6ca0b3d502d8": {
          "model_module": "@jupyter-widgets/controls",
          "model_name": "DescriptionStyleModel",
          "model_module_version": "1.5.0",
          "state": {
            "_model_module": "@jupyter-widgets/controls",
            "_model_module_version": "1.5.0",
            "_model_name": "DescriptionStyleModel",
            "_view_count": null,
            "_view_module": "@jupyter-widgets/base",
            "_view_module_version": "1.2.0",
            "_view_name": "StyleView",
            "description_width": ""
          }
        },
        "d11e0b1813584feca27f59988cd22f3e": {
          "model_module": "@jupyter-widgets/controls",
          "model_name": "HBoxModel",
          "model_module_version": "1.5.0",
          "state": {
            "_dom_classes": [],
            "_model_module": "@jupyter-widgets/controls",
            "_model_module_version": "1.5.0",
            "_model_name": "HBoxModel",
            "_view_count": null,
            "_view_module": "@jupyter-widgets/controls",
            "_view_module_version": "1.5.0",
            "_view_name": "HBoxView",
            "box_style": "",
            "children": [
              "IPY_MODEL_dcd7e064acf9476c9a2b20845cdca96f",
              "IPY_MODEL_967c59a652b84b08aab5a1723af36d5b",
              "IPY_MODEL_ac8c4f653b9045d3a7cc700fc99cab0c"
            ],
            "layout": "IPY_MODEL_4d28e4546b044416ac383b62a74750cb"
          }
        },
        "dcd7e064acf9476c9a2b20845cdca96f": {
          "model_module": "@jupyter-widgets/controls",
          "model_name": "HTMLModel",
          "model_module_version": "1.5.0",
          "state": {
            "_dom_classes": [],
            "_model_module": "@jupyter-widgets/controls",
            "_model_module_version": "1.5.0",
            "_model_name": "HTMLModel",
            "_view_count": null,
            "_view_module": "@jupyter-widgets/controls",
            "_view_module_version": "1.5.0",
            "_view_name": "HTMLView",
            "description": "",
            "description_tooltip": null,
            "layout": "IPY_MODEL_8a00e2f108fa4742ac60c6644ef5d4fc",
            "placeholder": "​",
            "style": "IPY_MODEL_73321c946cbe4e008ac70afe1612f848",
            "value": "Downloading (…)olve/main/vocab.json: 100%"
          }
        },
        "967c59a652b84b08aab5a1723af36d5b": {
          "model_module": "@jupyter-widgets/controls",
          "model_name": "FloatProgressModel",
          "model_module_version": "1.5.0",
          "state": {
            "_dom_classes": [],
            "_model_module": "@jupyter-widgets/controls",
            "_model_module_version": "1.5.0",
            "_model_name": "FloatProgressModel",
            "_view_count": null,
            "_view_module": "@jupyter-widgets/controls",
            "_view_module_version": "1.5.0",
            "_view_name": "ProgressView",
            "bar_style": "success",
            "description": "",
            "description_tooltip": null,
            "layout": "IPY_MODEL_9066927956fb4792a8b0d4c89db312e7",
            "max": 898823,
            "min": 0,
            "orientation": "horizontal",
            "style": "IPY_MODEL_7582d3c8024e40d295076ec6f8c3704d",
            "value": 898823
          }
        },
        "ac8c4f653b9045d3a7cc700fc99cab0c": {
          "model_module": "@jupyter-widgets/controls",
          "model_name": "HTMLModel",
          "model_module_version": "1.5.0",
          "state": {
            "_dom_classes": [],
            "_model_module": "@jupyter-widgets/controls",
            "_model_module_version": "1.5.0",
            "_model_name": "HTMLModel",
            "_view_count": null,
            "_view_module": "@jupyter-widgets/controls",
            "_view_module_version": "1.5.0",
            "_view_name": "HTMLView",
            "description": "",
            "description_tooltip": null,
            "layout": "IPY_MODEL_bc535fba73294423a0bbc64858ec59c8",
            "placeholder": "​",
            "style": "IPY_MODEL_a7bc4de2fbf14b309a18a8d422932bf6",
            "value": " 899k/899k [00:00&lt;00:00, 3.75MB/s]"
          }
        },
        "4d28e4546b044416ac383b62a74750cb": {
          "model_module": "@jupyter-widgets/base",
          "model_name": "LayoutModel",
          "model_module_version": "1.2.0",
          "state": {
            "_model_module": "@jupyter-widgets/base",
            "_model_module_version": "1.2.0",
            "_model_name": "LayoutModel",
            "_view_count": null,
            "_view_module": "@jupyter-widgets/base",
            "_view_module_version": "1.2.0",
            "_view_name": "LayoutView",
            "align_content": null,
            "align_items": null,
            "align_self": null,
            "border": null,
            "bottom": null,
            "display": null,
            "flex": null,
            "flex_flow": null,
            "grid_area": null,
            "grid_auto_columns": null,
            "grid_auto_flow": null,
            "grid_auto_rows": null,
            "grid_column": null,
            "grid_gap": null,
            "grid_row": null,
            "grid_template_areas": null,
            "grid_template_columns": null,
            "grid_template_rows": null,
            "height": null,
            "justify_content": null,
            "justify_items": null,
            "left": null,
            "margin": null,
            "max_height": null,
            "max_width": null,
            "min_height": null,
            "min_width": null,
            "object_fit": null,
            "object_position": null,
            "order": null,
            "overflow": null,
            "overflow_x": null,
            "overflow_y": null,
            "padding": null,
            "right": null,
            "top": null,
            "visibility": null,
            "width": null
          }
        },
        "8a00e2f108fa4742ac60c6644ef5d4fc": {
          "model_module": "@jupyter-widgets/base",
          "model_name": "LayoutModel",
          "model_module_version": "1.2.0",
          "state": {
            "_model_module": "@jupyter-widgets/base",
            "_model_module_version": "1.2.0",
            "_model_name": "LayoutModel",
            "_view_count": null,
            "_view_module": "@jupyter-widgets/base",
            "_view_module_version": "1.2.0",
            "_view_name": "LayoutView",
            "align_content": null,
            "align_items": null,
            "align_self": null,
            "border": null,
            "bottom": null,
            "display": null,
            "flex": null,
            "flex_flow": null,
            "grid_area": null,
            "grid_auto_columns": null,
            "grid_auto_flow": null,
            "grid_auto_rows": null,
            "grid_column": null,
            "grid_gap": null,
            "grid_row": null,
            "grid_template_areas": null,
            "grid_template_columns": null,
            "grid_template_rows": null,
            "height": null,
            "justify_content": null,
            "justify_items": null,
            "left": null,
            "margin": null,
            "max_height": null,
            "max_width": null,
            "min_height": null,
            "min_width": null,
            "object_fit": null,
            "object_position": null,
            "order": null,
            "overflow": null,
            "overflow_x": null,
            "overflow_y": null,
            "padding": null,
            "right": null,
            "top": null,
            "visibility": null,
            "width": null
          }
        },
        "73321c946cbe4e008ac70afe1612f848": {
          "model_module": "@jupyter-widgets/controls",
          "model_name": "DescriptionStyleModel",
          "model_module_version": "1.5.0",
          "state": {
            "_model_module": "@jupyter-widgets/controls",
            "_model_module_version": "1.5.0",
            "_model_name": "DescriptionStyleModel",
            "_view_count": null,
            "_view_module": "@jupyter-widgets/base",
            "_view_module_version": "1.2.0",
            "_view_name": "StyleView",
            "description_width": ""
          }
        },
        "9066927956fb4792a8b0d4c89db312e7": {
          "model_module": "@jupyter-widgets/base",
          "model_name": "LayoutModel",
          "model_module_version": "1.2.0",
          "state": {
            "_model_module": "@jupyter-widgets/base",
            "_model_module_version": "1.2.0",
            "_model_name": "LayoutModel",
            "_view_count": null,
            "_view_module": "@jupyter-widgets/base",
            "_view_module_version": "1.2.0",
            "_view_name": "LayoutView",
            "align_content": null,
            "align_items": null,
            "align_self": null,
            "border": null,
            "bottom": null,
            "display": null,
            "flex": null,
            "flex_flow": null,
            "grid_area": null,
            "grid_auto_columns": null,
            "grid_auto_flow": null,
            "grid_auto_rows": null,
            "grid_column": null,
            "grid_gap": null,
            "grid_row": null,
            "grid_template_areas": null,
            "grid_template_columns": null,
            "grid_template_rows": null,
            "height": null,
            "justify_content": null,
            "justify_items": null,
            "left": null,
            "margin": null,
            "max_height": null,
            "max_width": null,
            "min_height": null,
            "min_width": null,
            "object_fit": null,
            "object_position": null,
            "order": null,
            "overflow": null,
            "overflow_x": null,
            "overflow_y": null,
            "padding": null,
            "right": null,
            "top": null,
            "visibility": null,
            "width": null
          }
        },
        "7582d3c8024e40d295076ec6f8c3704d": {
          "model_module": "@jupyter-widgets/controls",
          "model_name": "ProgressStyleModel",
          "model_module_version": "1.5.0",
          "state": {
            "_model_module": "@jupyter-widgets/controls",
            "_model_module_version": "1.5.0",
            "_model_name": "ProgressStyleModel",
            "_view_count": null,
            "_view_module": "@jupyter-widgets/base",
            "_view_module_version": "1.2.0",
            "_view_name": "StyleView",
            "bar_color": null,
            "description_width": ""
          }
        },
        "bc535fba73294423a0bbc64858ec59c8": {
          "model_module": "@jupyter-widgets/base",
          "model_name": "LayoutModel",
          "model_module_version": "1.2.0",
          "state": {
            "_model_module": "@jupyter-widgets/base",
            "_model_module_version": "1.2.0",
            "_model_name": "LayoutModel",
            "_view_count": null,
            "_view_module": "@jupyter-widgets/base",
            "_view_module_version": "1.2.0",
            "_view_name": "LayoutView",
            "align_content": null,
            "align_items": null,
            "align_self": null,
            "border": null,
            "bottom": null,
            "display": null,
            "flex": null,
            "flex_flow": null,
            "grid_area": null,
            "grid_auto_columns": null,
            "grid_auto_flow": null,
            "grid_auto_rows": null,
            "grid_column": null,
            "grid_gap": null,
            "grid_row": null,
            "grid_template_areas": null,
            "grid_template_columns": null,
            "grid_template_rows": null,
            "height": null,
            "justify_content": null,
            "justify_items": null,
            "left": null,
            "margin": null,
            "max_height": null,
            "max_width": null,
            "min_height": null,
            "min_width": null,
            "object_fit": null,
            "object_position": null,
            "order": null,
            "overflow": null,
            "overflow_x": null,
            "overflow_y": null,
            "padding": null,
            "right": null,
            "top": null,
            "visibility": null,
            "width": null
          }
        },
        "a7bc4de2fbf14b309a18a8d422932bf6": {
          "model_module": "@jupyter-widgets/controls",
          "model_name": "DescriptionStyleModel",
          "model_module_version": "1.5.0",
          "state": {
            "_model_module": "@jupyter-widgets/controls",
            "_model_module_version": "1.5.0",
            "_model_name": "DescriptionStyleModel",
            "_view_count": null,
            "_view_module": "@jupyter-widgets/base",
            "_view_module_version": "1.2.0",
            "_view_name": "StyleView",
            "description_width": ""
          }
        },
        "5b9daec323a448e08854fd08f14ca442": {
          "model_module": "@jupyter-widgets/controls",
          "model_name": "HBoxModel",
          "model_module_version": "1.5.0",
          "state": {
            "_dom_classes": [],
            "_model_module": "@jupyter-widgets/controls",
            "_model_module_version": "1.5.0",
            "_model_name": "HBoxModel",
            "_view_count": null,
            "_view_module": "@jupyter-widgets/controls",
            "_view_module_version": "1.5.0",
            "_view_name": "HBoxView",
            "box_style": "",
            "children": [
              "IPY_MODEL_10cfc22f452748a786d6554af0fe4ea3",
              "IPY_MODEL_36bfacd1da324b54a51b6516dc07d94b",
              "IPY_MODEL_8f05a1f8a5e64f81b15515bb1ce87187"
            ],
            "layout": "IPY_MODEL_b7b558db2cf74220abb156ebef184770"
          }
        },
        "10cfc22f452748a786d6554af0fe4ea3": {
          "model_module": "@jupyter-widgets/controls",
          "model_name": "HTMLModel",
          "model_module_version": "1.5.0",
          "state": {
            "_dom_classes": [],
            "_model_module": "@jupyter-widgets/controls",
            "_model_module_version": "1.5.0",
            "_model_name": "HTMLModel",
            "_view_count": null,
            "_view_module": "@jupyter-widgets/controls",
            "_view_module_version": "1.5.0",
            "_view_name": "HTMLView",
            "description": "",
            "description_tooltip": null,
            "layout": "IPY_MODEL_538b95c5e2584625aa2fde9ad2c3eb3a",
            "placeholder": "​",
            "style": "IPY_MODEL_11a01ccc43e84ecfa729a2a8cf33d242",
            "value": "Downloading (…)olve/main/merges.txt: 100%"
          }
        },
        "36bfacd1da324b54a51b6516dc07d94b": {
          "model_module": "@jupyter-widgets/controls",
          "model_name": "FloatProgressModel",
          "model_module_version": "1.5.0",
          "state": {
            "_dom_classes": [],
            "_model_module": "@jupyter-widgets/controls",
            "_model_module_version": "1.5.0",
            "_model_name": "FloatProgressModel",
            "_view_count": null,
            "_view_module": "@jupyter-widgets/controls",
            "_view_module_version": "1.5.0",
            "_view_name": "ProgressView",
            "bar_style": "success",
            "description": "",
            "description_tooltip": null,
            "layout": "IPY_MODEL_d48f015ab9274b96880ad4a935b73383",
            "max": 456318,
            "min": 0,
            "orientation": "horizontal",
            "style": "IPY_MODEL_c10a3347699b4c6ba5c3ca0c4aabfe61",
            "value": 456318
          }
        },
        "8f05a1f8a5e64f81b15515bb1ce87187": {
          "model_module": "@jupyter-widgets/controls",
          "model_name": "HTMLModel",
          "model_module_version": "1.5.0",
          "state": {
            "_dom_classes": [],
            "_model_module": "@jupyter-widgets/controls",
            "_model_module_version": "1.5.0",
            "_model_name": "HTMLModel",
            "_view_count": null,
            "_view_module": "@jupyter-widgets/controls",
            "_view_module_version": "1.5.0",
            "_view_name": "HTMLView",
            "description": "",
            "description_tooltip": null,
            "layout": "IPY_MODEL_bcaf430c948342bc8de472e08357df16",
            "placeholder": "​",
            "style": "IPY_MODEL_861bfc2741bd4bc49bd9562fd7568fc8",
            "value": " 456k/456k [00:00&lt;00:00, 7.40MB/s]"
          }
        },
        "b7b558db2cf74220abb156ebef184770": {
          "model_module": "@jupyter-widgets/base",
          "model_name": "LayoutModel",
          "model_module_version": "1.2.0",
          "state": {
            "_model_module": "@jupyter-widgets/base",
            "_model_module_version": "1.2.0",
            "_model_name": "LayoutModel",
            "_view_count": null,
            "_view_module": "@jupyter-widgets/base",
            "_view_module_version": "1.2.0",
            "_view_name": "LayoutView",
            "align_content": null,
            "align_items": null,
            "align_self": null,
            "border": null,
            "bottom": null,
            "display": null,
            "flex": null,
            "flex_flow": null,
            "grid_area": null,
            "grid_auto_columns": null,
            "grid_auto_flow": null,
            "grid_auto_rows": null,
            "grid_column": null,
            "grid_gap": null,
            "grid_row": null,
            "grid_template_areas": null,
            "grid_template_columns": null,
            "grid_template_rows": null,
            "height": null,
            "justify_content": null,
            "justify_items": null,
            "left": null,
            "margin": null,
            "max_height": null,
            "max_width": null,
            "min_height": null,
            "min_width": null,
            "object_fit": null,
            "object_position": null,
            "order": null,
            "overflow": null,
            "overflow_x": null,
            "overflow_y": null,
            "padding": null,
            "right": null,
            "top": null,
            "visibility": null,
            "width": null
          }
        },
        "538b95c5e2584625aa2fde9ad2c3eb3a": {
          "model_module": "@jupyter-widgets/base",
          "model_name": "LayoutModel",
          "model_module_version": "1.2.0",
          "state": {
            "_model_module": "@jupyter-widgets/base",
            "_model_module_version": "1.2.0",
            "_model_name": "LayoutModel",
            "_view_count": null,
            "_view_module": "@jupyter-widgets/base",
            "_view_module_version": "1.2.0",
            "_view_name": "LayoutView",
            "align_content": null,
            "align_items": null,
            "align_self": null,
            "border": null,
            "bottom": null,
            "display": null,
            "flex": null,
            "flex_flow": null,
            "grid_area": null,
            "grid_auto_columns": null,
            "grid_auto_flow": null,
            "grid_auto_rows": null,
            "grid_column": null,
            "grid_gap": null,
            "grid_row": null,
            "grid_template_areas": null,
            "grid_template_columns": null,
            "grid_template_rows": null,
            "height": null,
            "justify_content": null,
            "justify_items": null,
            "left": null,
            "margin": null,
            "max_height": null,
            "max_width": null,
            "min_height": null,
            "min_width": null,
            "object_fit": null,
            "object_position": null,
            "order": null,
            "overflow": null,
            "overflow_x": null,
            "overflow_y": null,
            "padding": null,
            "right": null,
            "top": null,
            "visibility": null,
            "width": null
          }
        },
        "11a01ccc43e84ecfa729a2a8cf33d242": {
          "model_module": "@jupyter-widgets/controls",
          "model_name": "DescriptionStyleModel",
          "model_module_version": "1.5.0",
          "state": {
            "_model_module": "@jupyter-widgets/controls",
            "_model_module_version": "1.5.0",
            "_model_name": "DescriptionStyleModel",
            "_view_count": null,
            "_view_module": "@jupyter-widgets/base",
            "_view_module_version": "1.2.0",
            "_view_name": "StyleView",
            "description_width": ""
          }
        },
        "d48f015ab9274b96880ad4a935b73383": {
          "model_module": "@jupyter-widgets/base",
          "model_name": "LayoutModel",
          "model_module_version": "1.2.0",
          "state": {
            "_model_module": "@jupyter-widgets/base",
            "_model_module_version": "1.2.0",
            "_model_name": "LayoutModel",
            "_view_count": null,
            "_view_module": "@jupyter-widgets/base",
            "_view_module_version": "1.2.0",
            "_view_name": "LayoutView",
            "align_content": null,
            "align_items": null,
            "align_self": null,
            "border": null,
            "bottom": null,
            "display": null,
            "flex": null,
            "flex_flow": null,
            "grid_area": null,
            "grid_auto_columns": null,
            "grid_auto_flow": null,
            "grid_auto_rows": null,
            "grid_column": null,
            "grid_gap": null,
            "grid_row": null,
            "grid_template_areas": null,
            "grid_template_columns": null,
            "grid_template_rows": null,
            "height": null,
            "justify_content": null,
            "justify_items": null,
            "left": null,
            "margin": null,
            "max_height": null,
            "max_width": null,
            "min_height": null,
            "min_width": null,
            "object_fit": null,
            "object_position": null,
            "order": null,
            "overflow": null,
            "overflow_x": null,
            "overflow_y": null,
            "padding": null,
            "right": null,
            "top": null,
            "visibility": null,
            "width": null
          }
        },
        "c10a3347699b4c6ba5c3ca0c4aabfe61": {
          "model_module": "@jupyter-widgets/controls",
          "model_name": "ProgressStyleModel",
          "model_module_version": "1.5.0",
          "state": {
            "_model_module": "@jupyter-widgets/controls",
            "_model_module_version": "1.5.0",
            "_model_name": "ProgressStyleModel",
            "_view_count": null,
            "_view_module": "@jupyter-widgets/base",
            "_view_module_version": "1.2.0",
            "_view_name": "StyleView",
            "bar_color": null,
            "description_width": ""
          }
        },
        "bcaf430c948342bc8de472e08357df16": {
          "model_module": "@jupyter-widgets/base",
          "model_name": "LayoutModel",
          "model_module_version": "1.2.0",
          "state": {
            "_model_module": "@jupyter-widgets/base",
            "_model_module_version": "1.2.0",
            "_model_name": "LayoutModel",
            "_view_count": null,
            "_view_module": "@jupyter-widgets/base",
            "_view_module_version": "1.2.0",
            "_view_name": "LayoutView",
            "align_content": null,
            "align_items": null,
            "align_self": null,
            "border": null,
            "bottom": null,
            "display": null,
            "flex": null,
            "flex_flow": null,
            "grid_area": null,
            "grid_auto_columns": null,
            "grid_auto_flow": null,
            "grid_auto_rows": null,
            "grid_column": null,
            "grid_gap": null,
            "grid_row": null,
            "grid_template_areas": null,
            "grid_template_columns": null,
            "grid_template_rows": null,
            "height": null,
            "justify_content": null,
            "justify_items": null,
            "left": null,
            "margin": null,
            "max_height": null,
            "max_width": null,
            "min_height": null,
            "min_width": null,
            "object_fit": null,
            "object_position": null,
            "order": null,
            "overflow": null,
            "overflow_x": null,
            "overflow_y": null,
            "padding": null,
            "right": null,
            "top": null,
            "visibility": null,
            "width": null
          }
        },
        "861bfc2741bd4bc49bd9562fd7568fc8": {
          "model_module": "@jupyter-widgets/controls",
          "model_name": "DescriptionStyleModel",
          "model_module_version": "1.5.0",
          "state": {
            "_model_module": "@jupyter-widgets/controls",
            "_model_module_version": "1.5.0",
            "_model_name": "DescriptionStyleModel",
            "_view_count": null,
            "_view_module": "@jupyter-widgets/base",
            "_view_module_version": "1.2.0",
            "_view_name": "StyleView",
            "description_width": ""
          }
        },
        "d203122e0a354cef9553473fb0de6259": {
          "model_module": "@jupyter-widgets/controls",
          "model_name": "HBoxModel",
          "model_module_version": "1.5.0",
          "state": {
            "_dom_classes": [],
            "_model_module": "@jupyter-widgets/controls",
            "_model_module_version": "1.5.0",
            "_model_name": "HBoxModel",
            "_view_count": null,
            "_view_module": "@jupyter-widgets/controls",
            "_view_module_version": "1.5.0",
            "_view_name": "HBoxView",
            "box_style": "",
            "children": [
              "IPY_MODEL_f73cd385bcb84660b5a08722750d4da8",
              "IPY_MODEL_e79d8131dcc04c18961c5b467c83947a",
              "IPY_MODEL_a3950773690f4d778234137348c95287"
            ],
            "layout": "IPY_MODEL_11f0b45e4bb14e2a8dd237359b7c1b68"
          }
        },
        "f73cd385bcb84660b5a08722750d4da8": {
          "model_module": "@jupyter-widgets/controls",
          "model_name": "HTMLModel",
          "model_module_version": "1.5.0",
          "state": {
            "_dom_classes": [],
            "_model_module": "@jupyter-widgets/controls",
            "_model_module_version": "1.5.0",
            "_model_name": "HTMLModel",
            "_view_count": null,
            "_view_module": "@jupyter-widgets/controls",
            "_view_module_version": "1.5.0",
            "_view_name": "HTMLView",
            "description": "",
            "description_tooltip": null,
            "layout": "IPY_MODEL_190e825c52834ff4a0ed50d2b8b57a95",
            "placeholder": "​",
            "style": "IPY_MODEL_19f6f458938b41f69607ddafd84ebe09",
            "value": "Downloading (…)/main/tokenizer.json: 100%"
          }
        },
        "e79d8131dcc04c18961c5b467c83947a": {
          "model_module": "@jupyter-widgets/controls",
          "model_name": "FloatProgressModel",
          "model_module_version": "1.5.0",
          "state": {
            "_dom_classes": [],
            "_model_module": "@jupyter-widgets/controls",
            "_model_module_version": "1.5.0",
            "_model_name": "FloatProgressModel",
            "_view_count": null,
            "_view_module": "@jupyter-widgets/controls",
            "_view_module_version": "1.5.0",
            "_view_name": "ProgressView",
            "bar_style": "success",
            "description": "",
            "description_tooltip": null,
            "layout": "IPY_MODEL_e569ab1a0fd6441992f348e5770cc6b1",
            "max": 1355863,
            "min": 0,
            "orientation": "horizontal",
            "style": "IPY_MODEL_3c62c075fbf642d3b5866a53e70ff759",
            "value": 1355863
          }
        },
        "a3950773690f4d778234137348c95287": {
          "model_module": "@jupyter-widgets/controls",
          "model_name": "HTMLModel",
          "model_module_version": "1.5.0",
          "state": {
            "_dom_classes": [],
            "_model_module": "@jupyter-widgets/controls",
            "_model_module_version": "1.5.0",
            "_model_name": "HTMLModel",
            "_view_count": null,
            "_view_module": "@jupyter-widgets/controls",
            "_view_module_version": "1.5.0",
            "_view_name": "HTMLView",
            "description": "",
            "description_tooltip": null,
            "layout": "IPY_MODEL_521327d8b68f4cec8e67a31d3c0d7de0",
            "placeholder": "​",
            "style": "IPY_MODEL_dbcf9c009fcd4c54aa0eb91e4cd37553",
            "value": " 1.36M/1.36M [00:00&lt;00:00, 5.48MB/s]"
          }
        },
        "11f0b45e4bb14e2a8dd237359b7c1b68": {
          "model_module": "@jupyter-widgets/base",
          "model_name": "LayoutModel",
          "model_module_version": "1.2.0",
          "state": {
            "_model_module": "@jupyter-widgets/base",
            "_model_module_version": "1.2.0",
            "_model_name": "LayoutModel",
            "_view_count": null,
            "_view_module": "@jupyter-widgets/base",
            "_view_module_version": "1.2.0",
            "_view_name": "LayoutView",
            "align_content": null,
            "align_items": null,
            "align_self": null,
            "border": null,
            "bottom": null,
            "display": null,
            "flex": null,
            "flex_flow": null,
            "grid_area": null,
            "grid_auto_columns": null,
            "grid_auto_flow": null,
            "grid_auto_rows": null,
            "grid_column": null,
            "grid_gap": null,
            "grid_row": null,
            "grid_template_areas": null,
            "grid_template_columns": null,
            "grid_template_rows": null,
            "height": null,
            "justify_content": null,
            "justify_items": null,
            "left": null,
            "margin": null,
            "max_height": null,
            "max_width": null,
            "min_height": null,
            "min_width": null,
            "object_fit": null,
            "object_position": null,
            "order": null,
            "overflow": null,
            "overflow_x": null,
            "overflow_y": null,
            "padding": null,
            "right": null,
            "top": null,
            "visibility": null,
            "width": null
          }
        },
        "190e825c52834ff4a0ed50d2b8b57a95": {
          "model_module": "@jupyter-widgets/base",
          "model_name": "LayoutModel",
          "model_module_version": "1.2.0",
          "state": {
            "_model_module": "@jupyter-widgets/base",
            "_model_module_version": "1.2.0",
            "_model_name": "LayoutModel",
            "_view_count": null,
            "_view_module": "@jupyter-widgets/base",
            "_view_module_version": "1.2.0",
            "_view_name": "LayoutView",
            "align_content": null,
            "align_items": null,
            "align_self": null,
            "border": null,
            "bottom": null,
            "display": null,
            "flex": null,
            "flex_flow": null,
            "grid_area": null,
            "grid_auto_columns": null,
            "grid_auto_flow": null,
            "grid_auto_rows": null,
            "grid_column": null,
            "grid_gap": null,
            "grid_row": null,
            "grid_template_areas": null,
            "grid_template_columns": null,
            "grid_template_rows": null,
            "height": null,
            "justify_content": null,
            "justify_items": null,
            "left": null,
            "margin": null,
            "max_height": null,
            "max_width": null,
            "min_height": null,
            "min_width": null,
            "object_fit": null,
            "object_position": null,
            "order": null,
            "overflow": null,
            "overflow_x": null,
            "overflow_y": null,
            "padding": null,
            "right": null,
            "top": null,
            "visibility": null,
            "width": null
          }
        },
        "19f6f458938b41f69607ddafd84ebe09": {
          "model_module": "@jupyter-widgets/controls",
          "model_name": "DescriptionStyleModel",
          "model_module_version": "1.5.0",
          "state": {
            "_model_module": "@jupyter-widgets/controls",
            "_model_module_version": "1.5.0",
            "_model_name": "DescriptionStyleModel",
            "_view_count": null,
            "_view_module": "@jupyter-widgets/base",
            "_view_module_version": "1.2.0",
            "_view_name": "StyleView",
            "description_width": ""
          }
        },
        "e569ab1a0fd6441992f348e5770cc6b1": {
          "model_module": "@jupyter-widgets/base",
          "model_name": "LayoutModel",
          "model_module_version": "1.2.0",
          "state": {
            "_model_module": "@jupyter-widgets/base",
            "_model_module_version": "1.2.0",
            "_model_name": "LayoutModel",
            "_view_count": null,
            "_view_module": "@jupyter-widgets/base",
            "_view_module_version": "1.2.0",
            "_view_name": "LayoutView",
            "align_content": null,
            "align_items": null,
            "align_self": null,
            "border": null,
            "bottom": null,
            "display": null,
            "flex": null,
            "flex_flow": null,
            "grid_area": null,
            "grid_auto_columns": null,
            "grid_auto_flow": null,
            "grid_auto_rows": null,
            "grid_column": null,
            "grid_gap": null,
            "grid_row": null,
            "grid_template_areas": null,
            "grid_template_columns": null,
            "grid_template_rows": null,
            "height": null,
            "justify_content": null,
            "justify_items": null,
            "left": null,
            "margin": null,
            "max_height": null,
            "max_width": null,
            "min_height": null,
            "min_width": null,
            "object_fit": null,
            "object_position": null,
            "order": null,
            "overflow": null,
            "overflow_x": null,
            "overflow_y": null,
            "padding": null,
            "right": null,
            "top": null,
            "visibility": null,
            "width": null
          }
        },
        "3c62c075fbf642d3b5866a53e70ff759": {
          "model_module": "@jupyter-widgets/controls",
          "model_name": "ProgressStyleModel",
          "model_module_version": "1.5.0",
          "state": {
            "_model_module": "@jupyter-widgets/controls",
            "_model_module_version": "1.5.0",
            "_model_name": "ProgressStyleModel",
            "_view_count": null,
            "_view_module": "@jupyter-widgets/base",
            "_view_module_version": "1.2.0",
            "_view_name": "StyleView",
            "bar_color": null,
            "description_width": ""
          }
        },
        "521327d8b68f4cec8e67a31d3c0d7de0": {
          "model_module": "@jupyter-widgets/base",
          "model_name": "LayoutModel",
          "model_module_version": "1.2.0",
          "state": {
            "_model_module": "@jupyter-widgets/base",
            "_model_module_version": "1.2.0",
            "_model_name": "LayoutModel",
            "_view_count": null,
            "_view_module": "@jupyter-widgets/base",
            "_view_module_version": "1.2.0",
            "_view_name": "LayoutView",
            "align_content": null,
            "align_items": null,
            "align_self": null,
            "border": null,
            "bottom": null,
            "display": null,
            "flex": null,
            "flex_flow": null,
            "grid_area": null,
            "grid_auto_columns": null,
            "grid_auto_flow": null,
            "grid_auto_rows": null,
            "grid_column": null,
            "grid_gap": null,
            "grid_row": null,
            "grid_template_areas": null,
            "grid_template_columns": null,
            "grid_template_rows": null,
            "height": null,
            "justify_content": null,
            "justify_items": null,
            "left": null,
            "margin": null,
            "max_height": null,
            "max_width": null,
            "min_height": null,
            "min_width": null,
            "object_fit": null,
            "object_position": null,
            "order": null,
            "overflow": null,
            "overflow_x": null,
            "overflow_y": null,
            "padding": null,
            "right": null,
            "top": null,
            "visibility": null,
            "width": null
          }
        },
        "dbcf9c009fcd4c54aa0eb91e4cd37553": {
          "model_module": "@jupyter-widgets/controls",
          "model_name": "DescriptionStyleModel",
          "model_module_version": "1.5.0",
          "state": {
            "_model_module": "@jupyter-widgets/controls",
            "_model_module_version": "1.5.0",
            "_model_name": "DescriptionStyleModel",
            "_view_count": null,
            "_view_module": "@jupyter-widgets/base",
            "_view_module_version": "1.2.0",
            "_view_name": "StyleView",
            "description_width": ""
          }
        }
      }
    }
  },
  "cells": [
    {
      "cell_type": "markdown",
      "metadata": {
        "id": "view-in-github",
        "colab_type": "text"
      },
      "source": [
        "<a href=\"https://colab.research.google.com/github/Stephan-Linzbach/RoBERTaTutorial/blob/main/TextClassificaiton_Tutorial.ipynb\" target=\"_parent\"><img src=\"https://colab.research.google.com/assets/colab-badge.svg\" alt=\"Open In Colab\"/></a>"
      ]
    },
    {
      "cell_type": "code",
      "source": [
        "!pip install transformers"
      ],
      "metadata": {
        "colab": {
          "base_uri": "https://localhost:8080/"
        },
        "id": "6KuYVJkLn_b0",
        "outputId": "0dd55f64-6b57-4725-ceab-e6ef3e0d45be"
      },
      "execution_count": 1,
      "outputs": [
        {
          "output_type": "stream",
          "name": "stdout",
          "text": [
            "Collecting transformers\n",
            "  Downloading transformers-4.32.0-py3-none-any.whl (7.5 MB)\n",
            "\u001b[2K     \u001b[90m━━━━━━━━━━━━━━━━━━━━━━━━━━━━━━━━━━━━━━━━\u001b[0m \u001b[32m7.5/7.5 MB\u001b[0m \u001b[31m19.9 MB/s\u001b[0m eta \u001b[36m0:00:00\u001b[0m\n",
            "\u001b[?25hRequirement already satisfied: filelock in /usr/local/lib/python3.10/dist-packages (from transformers) (3.12.2)\n",
            "Collecting huggingface-hub<1.0,>=0.15.1 (from transformers)\n",
            "  Downloading huggingface_hub-0.16.4-py3-none-any.whl (268 kB)\n",
            "\u001b[2K     \u001b[90m━━━━━━━━━━━━━━━━━━━━━━━━━━━━━━━━━━━━━━\u001b[0m \u001b[32m268.8/268.8 kB\u001b[0m \u001b[31m27.7 MB/s\u001b[0m eta \u001b[36m0:00:00\u001b[0m\n",
            "\u001b[?25hRequirement already satisfied: numpy>=1.17 in /usr/local/lib/python3.10/dist-packages (from transformers) (1.23.5)\n",
            "Requirement already satisfied: packaging>=20.0 in /usr/local/lib/python3.10/dist-packages (from transformers) (23.1)\n",
            "Requirement already satisfied: pyyaml>=5.1 in /usr/local/lib/python3.10/dist-packages (from transformers) (6.0.1)\n",
            "Requirement already satisfied: regex!=2019.12.17 in /usr/local/lib/python3.10/dist-packages (from transformers) (2023.6.3)\n",
            "Requirement already satisfied: requests in /usr/local/lib/python3.10/dist-packages (from transformers) (2.31.0)\n",
            "Collecting tokenizers!=0.11.3,<0.14,>=0.11.1 (from transformers)\n",
            "  Downloading tokenizers-0.13.3-cp310-cp310-manylinux_2_17_x86_64.manylinux2014_x86_64.whl (7.8 MB)\n",
            "\u001b[2K     \u001b[90m━━━━━━━━━━━━━━━━━━━━━━━━━━━━━━━━━━━━━━━━\u001b[0m \u001b[32m7.8/7.8 MB\u001b[0m \u001b[31m63.3 MB/s\u001b[0m eta \u001b[36m0:00:00\u001b[0m\n",
            "\u001b[?25hCollecting safetensors>=0.3.1 (from transformers)\n",
            "  Downloading safetensors-0.3.2-cp310-cp310-manylinux_2_17_x86_64.manylinux2014_x86_64.whl (1.3 MB)\n",
            "\u001b[2K     \u001b[90m━━━━━━━━━━━━━━━━━━━━━━━━━━━━━━━━━━━━━━━━\u001b[0m \u001b[32m1.3/1.3 MB\u001b[0m \u001b[31m66.5 MB/s\u001b[0m eta \u001b[36m0:00:00\u001b[0m\n",
            "\u001b[?25hRequirement already satisfied: tqdm>=4.27 in /usr/local/lib/python3.10/dist-packages (from transformers) (4.66.1)\n",
            "Requirement already satisfied: fsspec in /usr/local/lib/python3.10/dist-packages (from huggingface-hub<1.0,>=0.15.1->transformers) (2023.6.0)\n",
            "Requirement already satisfied: typing-extensions>=3.7.4.3 in /usr/local/lib/python3.10/dist-packages (from huggingface-hub<1.0,>=0.15.1->transformers) (4.7.1)\n",
            "Requirement already satisfied: charset-normalizer<4,>=2 in /usr/local/lib/python3.10/dist-packages (from requests->transformers) (3.2.0)\n",
            "Requirement already satisfied: idna<4,>=2.5 in /usr/local/lib/python3.10/dist-packages (from requests->transformers) (3.4)\n",
            "Requirement already satisfied: urllib3<3,>=1.21.1 in /usr/local/lib/python3.10/dist-packages (from requests->transformers) (2.0.4)\n",
            "Requirement already satisfied: certifi>=2017.4.17 in /usr/local/lib/python3.10/dist-packages (from requests->transformers) (2023.7.22)\n",
            "Installing collected packages: tokenizers, safetensors, huggingface-hub, transformers\n",
            "Successfully installed huggingface-hub-0.16.4 safetensors-0.3.2 tokenizers-0.13.3 transformers-4.32.0\n"
          ]
        }
      ]
    },
    {
      "cell_type": "code",
      "source": [
        "!wget https://raw.githubusercontent.com/davda54/sam/main/sam.py"
      ],
      "metadata": {
        "colab": {
          "base_uri": "https://localhost:8080/"
        },
        "id": "3FiSAWk_HKqT",
        "outputId": "04114012-58ba-4cf4-8f8b-a0185c258a40"
      },
      "execution_count": 2,
      "outputs": [
        {
          "output_type": "stream",
          "name": "stdout",
          "text": [
            "--2023-08-22 14:42:38--  https://raw.githubusercontent.com/davda54/sam/main/sam.py\n",
            "Resolving raw.githubusercontent.com (raw.githubusercontent.com)... 185.199.108.133, 185.199.109.133, 185.199.110.133, ...\n",
            "Connecting to raw.githubusercontent.com (raw.githubusercontent.com)|185.199.108.133|:443... connected.\n",
            "HTTP request sent, awaiting response... 200 OK\n",
            "Length: 2484 (2.4K) [text/plain]\n",
            "Saving to: ‘sam.py’\n",
            "\n",
            "\rsam.py                0%[                    ]       0  --.-KB/s               \rsam.py              100%[===================>]   2.43K  --.-KB/s    in 0s      \n",
            "\n",
            "2023-08-22 14:42:38 (41.9 MB/s) - ‘sam.py’ saved [2484/2484]\n",
            "\n"
          ]
        }
      ]
    },
    {
      "cell_type": "code",
      "source": [
        "import json\n",
        "from transformers import AutoModelForSequenceClassification, AutoTokenizer\n",
        "from transformers import get_cosine_schedule_with_warmup\n",
        "from torch.utils.data import DataLoader\n",
        "from sam import SAM\n",
        "import shutil"
      ],
      "metadata": {
        "id": "-ZpvTl_jHGEi"
      },
      "execution_count": 3,
      "outputs": []
    },
    {
      "cell_type": "code",
      "source": [
        "## Utils\n",
        "\n",
        "def flatten_list(list_to_flatten):\n",
        "  return [x for xs in list_to_flatten for x in xs]\n",
        "\n",
        "def infer_output_size(data):\n",
        "  labels = data['Labels']\n",
        "  if isinstance(labels[0], list):\n",
        "    labels = flatten_list(labels)\n",
        "  labels = set(labels)\n",
        "  return len(labels), labels\n",
        "\n",
        "def convert_in_output_size(labels, mapping):\n",
        "  label_resized = []\n",
        "  for l in labels:\n",
        "    tmp_l = torch.tensor([1 if k in l else 0 for m in mapping])\n",
        "    label_resized.append(tmp_l)\n",
        "  label_resized = torch.stack(label_resized, dim=0)\n",
        "  return label_resized\n",
        "\n",
        "def convert_labels(labels, mapping):\n",
        "  if isinstance(labels[0], list):\n",
        "    labels = convert_in_output_size(labels, mapping)\n",
        "  return torch.tensor([mapping[l] for l in labels])\n",
        "\n",
        "def generate_dataloader(text, y, batch_size, workers=1):\n",
        "    attention_mask = text['attention_mask']\n",
        "    input_ids = text['input_ids']\n",
        "\n",
        "    dataset = list(zip(input_ids, attention_mask, y))\n",
        "\n",
        "    dataloader = DataLoader(dataset, shuffle=True, batch_size=batch_size, num_workers=workers)\n",
        "\n",
        "    return dataloader"
      ],
      "metadata": {
        "id": "DGVQ7lJTloP9"
      },
      "execution_count": 4,
      "outputs": []
    },
    {
      "cell_type": "markdown",
      "source": [
        "## Text Classification\n",
        "\n",
        "Today we will look at how to **fine-tune** a **pre-trained language model** for a custom **text-classification**. \\\\\n",
        "You might be asking yourself three things:\n",
        "  - What exactly is text-classification?\n",
        "  - What is a pre-trained language model?\n",
        "  - What even is fine-tuning?\n",
        "\n",
        "No worries we will answer this questions one by one as we work our way through this tutorial.\n",
        "\n",
        "Starting probably with the most pressing question: What exactly is text-classification?\n",
        "In text-classification we try to assign a property or description to a text. \\\\\n",
        "\n",
        "For example we are interested in classifying texts that are about fruits.\n",
        "We could easily find a dictionary with all fruits (e.g.: 'Apple', 'Banana', 'Pear' etc.) everytime we recognize such a word in a text we know this text is about fruits, right?\n",
        "This might not be true all the time, for example \"My Apple pencil is not working.\" is not about the fruit 'Apple' although we would recognize it as such with our dictionary approach. \\\\\n",
        "So the context of the word might be helpful (more on this later). \\\\\n",
        "Classification is obviously transferable to more than just fruits. \\\\\n",
        "People try to classify the sentiment of a text, the stance towards an entity, the topic of a text, the expressed emotion in a text, and many many more. \\\\\n",
        "\n",
        "Let's talk about data:\n",
        "In order to make this script work you have to save three dictionaries in this structure in the file '<current_folder>/(train|val|test).json': \\\\\n",
        "  ``{'Text' : [list of texts]\n",
        "     'Labels': [list of labels]}`` \\\\\n",
        "\n",
        "  ``length([list of texts]) equals length([list of texts])`` \\\\\n",
        "\n",
        "Example 1 \\\\\n",
        " ``{'Text': ['Yesterday i ate an apple.', 'Yesterday I crashed my Apple.'],\n",
        "     'Labels': ['about_fruit', 'not_about_fruit']}`` \\\\\n",
        "Example 2 \\\\\n",
        " ``{'Text': ['Yesterday i ate an apple.', 'Yesterday I crashed my Apple.'],\n",
        "     'Labels': [['past_tense', 'about_fruits'], ['past_tense', 'not_about_fruit']]}``\n",
        "\n",
        "The train data is used to teach the model, the val data is required to verify if the model understands the train data correctly. Lastly, the test data is used to proof the capabilities of the final version of the model on the **unseen** data.\n",
        "\n",
        "You can have one label per text (multi-class classification, Example 1) or several labels per text (multi-label classification, Example 2). \\\\\n",
        "\n",
        "Is your data ready? Then lets start."
      ],
      "metadata": {
        "id": "abq2zMSNIs6y"
      }
    },
    {
      "cell_type": "code",
      "execution_count": 5,
      "metadata": {
        "colab": {
          "base_uri": "https://localhost:8080/"
        },
        "id": "lRaIwoOMIrtX",
        "outputId": "93f2ee93-1677-40db-98a8-4d1ab5f53f88"
      },
      "outputs": [
        {
          "output_type": "stream",
          "name": "stdout",
          "text": [
            "We loaded the train data with 192 texts and 192 labels,\n",
            "the validation data with 192 texts and 192 labels\n",
            "and the test data with 192 texts and 192 labels.\n"
          ]
        }
      ],
      "source": [
        "try:\n",
        "  with open(\"./train.json\") as f:\n",
        "    train = json.load(f)\n",
        "\n",
        "  with open(\"./val.json\") as f:\n",
        "    val = json.load(f)\n",
        "\n",
        "  with open(\"./test.json\") as f:\n",
        "    test = json.load(f)\n",
        "except:\n",
        "  #Dummy Values\n",
        "  train = {'Text': [\"Number of texts does not match number of labels for train data!\", \"Number of texts does not match number of labels for val data!\", \"Number of texts does not match number of labels for test data!\"]*64,\n",
        "          'Labels': ['is_correct', 'is_incorrect', 'is_incorrect']*64}\n",
        "  val = {'Text': [\"Number of texts does not match number of labels for train data!\", \"Number of texts does not match number of labels for val data!\", \"Number of texts does not match number of labels for test data!\"]*64,\n",
        "          'Labels': ['is_incorrect', 'is_correct', 'is_incorrect']*64}\n",
        "  test = {'Text': [\"Number of texts does not match number of labels for train data!\", \"Number of texts does not match number of labels for val data!\", \"Number of texts does not match number of labels for test data!\"]*64,\n",
        "          'Labels': ['is_incorrect', 'is_incorrect', 'is_correct']*64}\n",
        "\n",
        "\n",
        "assert len(train['Text']) == len(train['Labels']), \"Number of texts does not match number of labels for train data!\"\n",
        "assert len(val['Text']) == len(val['Labels']), \"Number of texts does not match number of labels for val data!\"\n",
        "assert len(test['Text']) == len(test['Labels']), \"Number of texts does not match number of labels for test data!\"\n",
        "\n",
        "print(f\"We loaded the train data with {len(train['Text'])} texts and {len(train['Labels'])} labels,\")\n",
        "print(f\"the validation data with {len(val['Text'])} texts and {len(val['Labels'])} labels\")\n",
        "print(f\"and the test data with {len(test['Text'])} texts and {len(test['Labels'])} labels.\")"
      ]
    },
    {
      "cell_type": "markdown",
      "source": [
        "Great the data is ready!\n",
        "\n",
        "You have to answer some questions about your data.\n",
        "\n",
        "In which language is your text data written?"
      ],
      "metadata": {
        "id": "6BYdtu44Xrhp"
      }
    },
    {
      "cell_type": "code",
      "source": [
        "language = input(\"Which language do you use? ('english', 'german', 'french') \")\n",
        "\n",
        "if language == 'english':\n",
        "  model_name = \"roberta-base\"\n",
        "elif language == 'german':\n",
        "  model_name = \"benjamin/roberta-base-wechsel-german\"\n",
        "elif language == 'french':\n",
        "  model_name = \"camembert-base\"\n",
        "else:\n",
        "  print(f\"Seems like we have no model available for this {language}.\")\n",
        "  print(\"We will load a mulitlingual language model. It knows 100 text from 100 languages.\")\n",
        "  model_name = 'xlm-roberta-base'\n",
        "\n",
        "print(f\"We loaded {model_name} for {language}.\")"
      ],
      "metadata": {
        "colab": {
          "base_uri": "https://localhost:8080/"
        },
        "id": "LHzEmeSnXq2w",
        "outputId": "08a2e02a-298f-4f02-ae56-359a1e6cec3d"
      },
      "execution_count": 6,
      "outputs": [
        {
          "output_type": "stream",
          "name": "stdout",
          "text": [
            "Which language do you use? ('english', 'german', 'french') english\n",
            "MMhhh interesting your data is written in english. Let's load the correct LLM!\n",
            "We loaded roberta-base for english.\n"
          ]
        }
      ]
    },
    {
      "cell_type": "markdown",
      "source": [
        "Ok now that we talked about the language of your data you might be intersted what the ``model_name`` stands for. \\\\\n",
        "These are **pre-trained language models** ready to be used with your specific language.\n",
        "These language models already learned to understand words and their context by solving a huge cloze-text written in the particular language. \\\\\n",
        "This cloze-text is constructed over Wikipedia or other huge text datasets.\n",
        "\n",
        "Now that we understood what **text classification** and **pre-trained language model** are.\n",
        "\n",
        "We can try to answer the last question: What is **fine-tuning**?\n",
        "\n",
        "As you might imagine solving a cloze-text over the whole internet makes you knowledgeable but not an expert in a specific field. We now want to transform our **pre-trained language model** into an expert for your task.\n",
        "\n",
        "So lets start to understand your task.\n",
        "\n",
        "We differentiate two classification tasks:\n",
        "  - Choosing (What is your favorite fruit?) ('single_label_classification')\n",
        "    - Choose one of the possible labels as the correct label.\n",
        "  - Deciding (Do you like apples?) ('multi_label_classification')\n",
        "    - Decide for each possible label if it is a correct label."
      ],
      "metadata": {
        "id": "Oq68uB4cbnKc"
      }
    },
    {
      "cell_type": "code",
      "source": [
        "decision_type = input(\"Do you want to classify by choosing or by deciding: \")\n",
        "\n",
        "assert decision_type in ['deciding', 'choosing']"
      ],
      "metadata": {
        "colab": {
          "base_uri": "https://localhost:8080/"
        },
        "id": "mP2b9HkBY1Qc",
        "outputId": "b88a38ec-5c2a-4fc5-aa48-36df2794a645"
      },
      "execution_count": 7,
      "outputs": [
        {
          "name": "stdout",
          "output_type": "stream",
          "text": [
            "Do you want to classify by choosing or by deciding: choosing\n"
          ]
        }
      ]
    },
    {
      "cell_type": "markdown",
      "source": [
        "Based on your ``decision_type`` we will now choose the correct loss function and the decision function.\n",
        "\n",
        "The loss function tells the model how well it achieved your task.\n",
        "The decision function tells us how to convert a guess of a model in an actual decision."
      ],
      "metadata": {
        "id": "IFBY_wgsg6wg"
      }
    },
    {
      "cell_type": "code",
      "source": [
        "import torch\n",
        "\n",
        "losses = {'deciding': \"multi_label_classification\", #torch.nn.CrossEntropyLoss(),\n",
        "          'choosing': \"single_label_classification\",}\n",
        "\n",
        "decisions = {'deciding': lambda x: torch.where(x > 0, 1, 0),\n",
        "             'choosing': lambda x: torch.argmax(x, dim=1)}\n",
        "\n",
        "objective = losses[decision_type]\n",
        "decision_function = decisions[decision_type]"
      ],
      "metadata": {
        "id": "nZD7XiARg6KS"
      },
      "execution_count": 8,
      "outputs": []
    },
    {
      "cell_type": "markdown",
      "source": [
        "The next question we need to clarify is: How many different labels are possible for your task?\n",
        "\n",
        "Example: \\\\\n",
        "Choose your favorite fruit from this list: \\\\\n",
        "  ``poss_labels = ['Banana', 'Apple', 'Pear', 'Peach'`]`` \\\\\n",
        "  ``model_output = [0.4, 0.5, -0.1, 0.7]`` \\\\\n",
        "\n",
        "Or decide if you like the particular fruit: \\\\\n",
        "  ``poss_labels = ['Banana', 'Apple', 'Pear', 'Peach'`]`` \\\\\n",
        "  ``model_output = [0.4, 0.5, -0.1, 0.7]`` \\\\\n",
        "In both cases we have **4** possible labels. \\\\\n",
        "In the first case we choose the fruit where the model signals the biggest aggreement ``'Peach'`` in the second we decide for each fruit if we like it by evaluating everything above 0 as the decision 'I like it.'. Therefore, our example output tells us that our model likes ``['Banana', 'Apple', 'Peach']``.\n",
        "\n",
        "Let's find out how many labels are possible in our data:"
      ],
      "metadata": {
        "id": "EZcFgWRZiM8o"
      }
    },
    {
      "cell_type": "code",
      "source": [
        "output_size = input(\"How many different labels are possible for your task? \")\n",
        "infered_output_size_train, possible_labels_train = infer_output_size(train)\n",
        "infered_output_size_val, possible_labels_val = infer_output_size(val)\n",
        "infered_output_size_test, possible_labels_test = infer_output_size(test)\n",
        "\n",
        "possible_labels = max(infered_output_size_train, infered_output_size_val, infered_output_size_test)\n",
        "\n",
        "\n",
        "if not (possible_labels_train == possible_labels_val == possible_labels_test):\n",
        "  print(f\"Train contains {possible_labels_train} possible labels, val contains {possible_labels_val} possible labels and test contains {possible_labels_test} possible labels.\"\\\n",
        "        \"This might be unwanted and is not recommended all sets should contain all possible labels.\")\n",
        "\n",
        "assert int(output_size), \"Output_size needs to be a natural number.\"\n",
        "assert int(output_size) == possible_labels, f\"We infered {possible_labels} with the following possible labels {possible_labels_train}.\"\n",
        "assert possible_labels_train == possible_labels_val == possible_labels_test, f\"Make sure that train, val and test labels are equal!\"\n",
        "\n",
        "id2label = {i: k for i,k in enumerate(possible_labels_train)}\n",
        "label2id = {k: i for i, k in enumerate(possible_labels_train)}\n",
        "\n",
        "output_size = int(output_size)\n",
        "\n",
        "print(f\"Your task distinguishes {output_size} different labels. These are {possible_labels_train}\")"
      ],
      "metadata": {
        "colab": {
          "base_uri": "https://localhost:8080/"
        },
        "id": "x6AKMt2JiLd7",
        "outputId": "3279a188-c63c-4b09-a49c-8e9aed38d58f"
      },
      "execution_count": 9,
      "outputs": [
        {
          "output_type": "stream",
          "name": "stdout",
          "text": [
            "How many different labels are possible for your task? 2\n",
            "Your task distinguishes 2 different labels. These are {'is_incorrect', 'is_correct'}\n"
          ]
        }
      ]
    },
    {
      "cell_type": "markdown",
      "source": [
        "Fantastic!\n",
        "\n",
        "We are close.\n",
        "We clarified the language, the objective and number of possible answers. \\\\\n",
        "Lets load the needed model and tokenizer.\n",
        "The tokenizer translates text into a model specific vocabulary."
      ],
      "metadata": {
        "id": "jYAu-jSLtSBf"
      }
    },
    {
      "cell_type": "code",
      "source": [
        "model_config = {'pretrained_model_name_or_path': model_name,\n",
        "                'num_labels': output_size,\n",
        "                'problem_type': objective,\n",
        "                'id2label': id2label,\n",
        "                'label2id': label2id}"
      ],
      "metadata": {
        "id": "zGtsc2tGtQWi"
      },
      "execution_count": 10,
      "outputs": []
    },
    {
      "cell_type": "code",
      "source": [
        "model = AutoModelForSequenceClassification.from_pretrained(**model_config)\n",
        "tokenizer = AutoTokenizer.from_pretrained(model_name)"
      ],
      "metadata": {
        "colab": {
          "base_uri": "https://localhost:8080/",
          "height": 212,
          "referenced_widgets": [
            "64a244dcdce9412bbea652b92ccd39fc",
            "fd91696040dc4100aebfa0d46344b9bf",
            "309725bb197249ea93a910016872f065",
            "f8565c602ceb4deba75178fe5e1b6b99",
            "df0c077bd5ef47e6bfc6c9070f851039",
            "9e2b1bc573e24fecab4cd5b9cac4c138",
            "ad195a241e68483981b3b2b0db02eca4",
            "3660c6c85bba4576b1105041cf191044",
            "8118555b62e141ce894c68c788371139",
            "9e7437b621de4847bc4030099719a310",
            "7c8f3f8ebaf645e096e389ebf9ddcfc3",
            "3b82230b86124dbdbd38631aec625743",
            "fe36737538234367a186f31e5429f4ae",
            "9fa514ad487c450bb2536b3e6bd41c74",
            "397dfd1f167a47caa00a87e8a2820c80",
            "5f2cddee25844a7e83cef1fcd213845c",
            "5b036a92fbf44487936603b910f0cae7",
            "74746bf72d264d029e13571778630b32",
            "ee22b1ab6fd747bea11b93df88ddd47b",
            "9cd0830d681a45c68fe1fb8b61fcd1d2",
            "7e922cdb6cb949c48785268fd49ffc16",
            "550190b45cfa47098e5e6ca0b3d502d8",
            "d11e0b1813584feca27f59988cd22f3e",
            "dcd7e064acf9476c9a2b20845cdca96f",
            "967c59a652b84b08aab5a1723af36d5b",
            "ac8c4f653b9045d3a7cc700fc99cab0c",
            "4d28e4546b044416ac383b62a74750cb",
            "8a00e2f108fa4742ac60c6644ef5d4fc",
            "73321c946cbe4e008ac70afe1612f848",
            "9066927956fb4792a8b0d4c89db312e7",
            "7582d3c8024e40d295076ec6f8c3704d",
            "bc535fba73294423a0bbc64858ec59c8",
            "a7bc4de2fbf14b309a18a8d422932bf6",
            "5b9daec323a448e08854fd08f14ca442",
            "10cfc22f452748a786d6554af0fe4ea3",
            "36bfacd1da324b54a51b6516dc07d94b",
            "8f05a1f8a5e64f81b15515bb1ce87187",
            "b7b558db2cf74220abb156ebef184770",
            "538b95c5e2584625aa2fde9ad2c3eb3a",
            "11a01ccc43e84ecfa729a2a8cf33d242",
            "d48f015ab9274b96880ad4a935b73383",
            "c10a3347699b4c6ba5c3ca0c4aabfe61",
            "bcaf430c948342bc8de472e08357df16",
            "861bfc2741bd4bc49bd9562fd7568fc8",
            "d203122e0a354cef9553473fb0de6259",
            "f73cd385bcb84660b5a08722750d4da8",
            "e79d8131dcc04c18961c5b467c83947a",
            "a3950773690f4d778234137348c95287",
            "11f0b45e4bb14e2a8dd237359b7c1b68",
            "190e825c52834ff4a0ed50d2b8b57a95",
            "19f6f458938b41f69607ddafd84ebe09",
            "e569ab1a0fd6441992f348e5770cc6b1",
            "3c62c075fbf642d3b5866a53e70ff759",
            "521327d8b68f4cec8e67a31d3c0d7de0",
            "dbcf9c009fcd4c54aa0eb91e4cd37553"
          ]
        },
        "id": "IDYrCWQwHBS4",
        "outputId": "04b96fd9-a0cd-4d5d-a207-524533c15828"
      },
      "execution_count": 11,
      "outputs": [
        {
          "output_type": "display_data",
          "data": {
            "text/plain": [
              "Downloading (…)lve/main/config.json:   0%|          | 0.00/481 [00:00<?, ?B/s]"
            ],
            "application/vnd.jupyter.widget-view+json": {
              "version_major": 2,
              "version_minor": 0,
              "model_id": "64a244dcdce9412bbea652b92ccd39fc"
            }
          },
          "metadata": {}
        },
        {
          "output_type": "display_data",
          "data": {
            "text/plain": [
              "Downloading model.safetensors:   0%|          | 0.00/499M [00:00<?, ?B/s]"
            ],
            "application/vnd.jupyter.widget-view+json": {
              "version_major": 2,
              "version_minor": 0,
              "model_id": "3b82230b86124dbdbd38631aec625743"
            }
          },
          "metadata": {}
        },
        {
          "output_type": "stream",
          "name": "stderr",
          "text": [
            "Some weights of RobertaForSequenceClassification were not initialized from the model checkpoint at roberta-base and are newly initialized: ['classifier.dense.weight', 'classifier.out_proj.weight', 'classifier.out_proj.bias', 'classifier.dense.bias']\n",
            "You should probably TRAIN this model on a down-stream task to be able to use it for predictions and inference.\n"
          ]
        },
        {
          "output_type": "display_data",
          "data": {
            "text/plain": [
              "Downloading (…)olve/main/vocab.json:   0%|          | 0.00/899k [00:00<?, ?B/s]"
            ],
            "application/vnd.jupyter.widget-view+json": {
              "version_major": 2,
              "version_minor": 0,
              "model_id": "d11e0b1813584feca27f59988cd22f3e"
            }
          },
          "metadata": {}
        },
        {
          "output_type": "display_data",
          "data": {
            "text/plain": [
              "Downloading (…)olve/main/merges.txt:   0%|          | 0.00/456k [00:00<?, ?B/s]"
            ],
            "application/vnd.jupyter.widget-view+json": {
              "version_major": 2,
              "version_minor": 0,
              "model_id": "5b9daec323a448e08854fd08f14ca442"
            }
          },
          "metadata": {}
        },
        {
          "output_type": "display_data",
          "data": {
            "text/plain": [
              "Downloading (…)/main/tokenizer.json:   0%|          | 0.00/1.36M [00:00<?, ?B/s]"
            ],
            "application/vnd.jupyter.widget-view+json": {
              "version_major": 2,
              "version_minor": 0,
              "model_id": "d203122e0a354cef9553473fb0de6259"
            }
          },
          "metadata": {}
        }
      ]
    },
    {
      "cell_type": "markdown",
      "source": [
        "\n",
        "With the now loaded model and tokenizer we can start **fine-tuning**. \\\\\n",
        "\n",
        "For now we only need the train-set to teach the model and the val-set to decide if we taught our model well.\n",
        "Lets first translate our text into the models vocabulary.\n"
      ],
      "metadata": {
        "id": "s9WzBdSRo5LT"
      }
    },
    {
      "cell_type": "code",
      "source": [
        "train_text = tokenizer([m for m in train['Text']], truncation=True, padding='longest', return_tensors='pt')\n",
        "val_text = tokenizer([m for m in val['Text']], truncation=True, padding='longest', return_tensors='pt')\n",
        "test_text = tokenizer([m for m in test['Text']], truncation=True, padding='longest', return_tensors='pt')\n",
        "\n",
        "\n",
        "train_y = convert_labels(train['Labels'], label2id)\n",
        "val_y = convert_labels(val['Labels'], label2id)\n",
        "test_y = convert_labels(test['Labels'], label2id)"
      ],
      "metadata": {
        "id": "QIP_Jj34oz9r"
      },
      "execution_count": 13,
      "outputs": []
    },
    {
      "cell_type": "markdown",
      "source": [
        "Now we need to specify some training specific things. Dont worry if you dont know what to change the pre-set values should already be working just fine. \\\\\n",
        "Lets start by forming an intuition on how training of a model actually works. We show our model some example data-points in your case the train data. From this data the model infers helpful patterns that explain the correlation between input and output. In order to get the most out of our data we show a small amount of data each time (batch_size) and let the model learn from it. To protect the model from overestimating its understanding we restrict the optimal adaptation per batch by applying the learning rate (lr). We also apply a warm-up (warm-up-rate) to ensure that the model doesnt forget everything it knew from the pre-training. After all we are using **pre-trained language models** for a reason.\n",
        "\n",
        " Lets go through each of the values one by one:\n",
        "  - the batch_size tells us: How many examples we show to the model before we deduce rules that help to solve the classification task.\n",
        "  - the learning_rate (lr) tells us: How hard we want the model to commit on the recognized patterns from each batch\n",
        "  - the num_epoch tells us: How often we show all the training data to the model in this case 3 times.\n",
        "  - the warm_up_rate tells us: How big of a share of the training should be less impactful.\n",
        "  - device tells us: What device are we using if you have special hardware available (e.g. GPU) your training runs much faster."
      ],
      "metadata": {
        "id": "WLFf-h69n8Nn"
      }
    },
    {
      "cell_type": "code",
      "source": [
        "batch_size = 64\n",
        "lr = 1e-4\n",
        "num_epochs = 3\n",
        "warm_up_rate = 0.1\n",
        "num_training_steps = (len(train['Labels'])//batch_size)*num_epochs\n",
        "device = 'cuda:0' if torch.cuda.is_available() else 'cpu'"
      ],
      "metadata": {
        "id": "BWLgh6LRGNOE"
      },
      "execution_count": 14,
      "outputs": []
    },
    {
      "cell_type": "markdown",
      "source": [
        "The learning of patterns and adaptation of the model is achieved by the optimizer. In our case it is a special optimizer that keeps a model from optimizing. If you are really interested you can read more about it [here](https://github.com/davda54/sam). The scheduler adapts the learning rate according the warm_up_rate"
      ],
      "metadata": {
        "id": "ELylkOMArO-h"
      }
    },
    {
      "cell_type": "code",
      "source": [
        "optimizer = SAM(model.parameters(), torch.optim.Adam, lr=lr, adaptive=True)\n",
        "scheduler = get_cosine_schedule_with_warmup(optimizer = optimizer,\n",
        "                                          num_warmup_steps = num_training_steps*warm_up_rate,\n",
        "                                          num_training_steps = num_training_steps,\n",
        "                                          last_epoch = -1)\n"
      ],
      "metadata": {
        "id": "fFuqFXajGfJ6"
      },
      "execution_count": 15,
      "outputs": []
    },
    {
      "cell_type": "markdown",
      "source": [
        "## Training\n",
        "\n",
        "Lets start the training!\n",
        "I wont go into too much detail but now we show the data to the model and optimize its parameters to succeed in the task as good as possible.\n",
        "Each epoch we test our model, we always safe the best model.\n",
        "Once this is done you should have a well trained model that you can load with the code of the next cell."
      ],
      "metadata": {
        "id": "N_hiMENYrwM0"
      }
    },
    {
      "cell_type": "code",
      "source": [
        "train_dataloader = generate_dataloader(train_text, train_y, batch_size)\n",
        "val_dataloader = generate_dataloader(val_text, val_y, batch_size)\n",
        "test_dataloader = generate_dataloader(test_text, test_y, batch_size)\n",
        "\n",
        "best_loss = float('inf')\n",
        "best_epoch = 0\n",
        "already_trained = 0\n",
        "best_model_path = ''\n",
        "should_delete = True\n",
        "\n",
        "for epoch in range(num_epochs):\n",
        "\n",
        "  for batch_idx, batch in enumerate(train_dataloader):\n",
        "    input_ids, attention_mask, y = batch[0].to(device), batch[1].to(device), batch[2].to(device)\n",
        "\n",
        "    output = model(input_ids, attention_mask, labels=y)\n",
        "    loss = output.loss\n",
        "    loss.backward()\n",
        "    torch.nn.utils.clip_grad_norm_(model.parameters(), 1.0)\n",
        "\n",
        "    scheduler.step()\n",
        "    optimizer.first_step(zero_grad=True)\n",
        "\n",
        "    model(input_ids, attention_mask, labels=y).loss.backward()\n",
        "    optimizer.second_step(zero_grad=True)\n",
        "    print(f\"Train: Epoch {epoch}, Train step {already_trained+batch_idx}, Loss {loss}, learning_rate {scheduler.get_last_lr()[0]}\", flush=True)\n",
        "\n",
        "  already_trained += batch_idx\n",
        "  val_loss = []\n",
        "  for batch_idx, batch in enumerate(val_dataloader):\n",
        "    input_ids, attention_mask, y = batch[0].to(device), batch[1].to(device), batch[2].to(device)\n",
        "\n",
        "    with torch.no_grad():\n",
        "      val_loss.append(model(input_ids, attention_mask, labels=y).loss)\n",
        "\n",
        "  val_loss = torch.mean(torch.stack(val_loss))\n",
        "\n",
        "  print(f\"Validation: Epoch {epoch}, Train step {already_trained}, Loss {val_loss}, old best/epoch {str(best_loss)[1:6]}/{best_epoch}\", flush=True)\n",
        "\n",
        "  if val_loss < best_loss:\n",
        "    best_loss = val_loss\n",
        "    best_epoch = epoch\n",
        "    if should_delete and best_model_path:\n",
        "      shutil.rmtree(best_model_path)\n",
        "    best_model_path = f\"./my_model_epoch_{best_epoch}_val_loss_{str(val_loss.item())[1:6]}\"\n",
        "    model.save_pretrained(best_model_path, from_pt=True)\n",
        "\n",
        "    print(f\"**** END EPOCH {epoch} ****\")\n",
        "\n",
        "\n",
        "print(f\"**** FINISHED TRAINING FOR N={epoch} ****\")\n",
        "print(f\"BEST EPOCH: {best_epoch}\")\n",
        "print(f\"BEST LOSS: {best_loss}\")"
      ],
      "metadata": {
        "colab": {
          "base_uri": "https://localhost:8080/"
        },
        "id": "e35OhfF0JO52",
        "outputId": "2f3e7bf9-82eb-462f-d080-0a8380114052"
      },
      "execution_count": 17,
      "outputs": [
        {
          "output_type": "stream",
          "name": "stdout",
          "text": [
            "Train: Epoch 0, Train step 0, Loss 0.5242859721183777, learning_rate 6.800888624023551e-05\n",
            "Train: Epoch 0, Train step 1, Loss 0.35003662109375, learning_rate 4.903043341140879e-05\n",
            "Train: Epoch 0, Train step 2, Loss 0.17097768187522888, learning_rate 3.019601169804216e-05\n",
            "Validation: Epoch 0, Train step 2, Loss 1.5066224336624146, old best/epoch nf/0\n",
            "**** END EPOCH 0 ****\n",
            "Train: Epoch 1, Train step 2, Loss 0.10638771206140518, learning_rate 1.4303513272105057e-05\n",
            "Train: Epoch 1, Train step 3, Loss 0.07648667693138123, learning_rate 3.7138015365554833e-06\n",
            "Train: Epoch 1, Train step 4, Loss 0.07506324350833893, learning_rate 0.0\n",
            "Validation: Epoch 1, Train step 4, Loss 1.7421793937683105, old best/epoch ensor/0\n",
            "Train: Epoch 2, Train step 4, Loss 0.07137938588857651, learning_rate 3.713801536555489e-06\n",
            "Train: Epoch 2, Train step 5, Loss 0.06436154991388321, learning_rate 1.4303513272105045e-05\n",
            "Train: Epoch 2, Train step 6, Loss 0.044759854674339294, learning_rate 3.019601169804216e-05\n",
            "Validation: Epoch 2, Train step 6, Loss 2.2754313945770264, old best/epoch ensor/0\n",
            "**** FINISHED TRAINING FOR N=2 ****\n",
            "BEST EPOCH: 0\n",
            "BEST LOSS: 1.5066224336624146\n"
          ]
        }
      ]
    },
    {
      "cell_type": "markdown",
      "source": [
        "The training is finished now we can load the model."
      ],
      "metadata": {
        "id": "c6IoeYsasTlt"
      }
    },
    {
      "cell_type": "code",
      "source": [
        "best_model = AutoModelForSequenceClassification.from_pretrained(best_model_path)"
      ],
      "metadata": {
        "id": "UlEDLy1qCONM"
      },
      "execution_count": null,
      "outputs": []
    },
    {
      "cell_type": "markdown",
      "source": [
        "Finally, with the loaded model we can now predict our results for the unseen test set to understand the models performance in more detail."
      ],
      "metadata": {
        "id": "-N8bn_AVsXY7"
      }
    },
    {
      "cell_type": "code",
      "source": [
        "y_pred = []\n",
        "\n",
        "with torch.no_grad():\n",
        "\n",
        "  for batch_idx, batch in enumerate(test_dataloader):\n",
        "    input_ids, attention_mask, y = batch[0].to(device), batch[1].to(device), batch[2].to(device)\n",
        "\n",
        "    with torch.no_grad():\n",
        "      y_pred += model(input_ids, attention_mask, labels=y).logits\n",
        "\n",
        "\n",
        "y_pred = torch.stack(y_pred, dim=0)\n",
        "y_pred = decision_function(y_pred)"
      ],
      "metadata": {
        "id": "LF0nHp1aRaHc"
      },
      "execution_count": null,
      "outputs": []
    },
    {
      "cell_type": "code",
      "source": [
        "from sklearn.metrics import classification_report\n",
        "\n",
        "print(classification_report(test_y, y_pred, target_names=label2id.keys(), zero_division=True))"
      ],
      "metadata": {
        "id": "ZXp0j0r5Tg4y"
      },
      "execution_count": null,
      "outputs": []
    },
    {
      "cell_type": "code",
      "source": [],
      "metadata": {
        "id": "YwpXy9G1lhHD"
      },
      "execution_count": 118,
      "outputs": []
    }
  ]
}